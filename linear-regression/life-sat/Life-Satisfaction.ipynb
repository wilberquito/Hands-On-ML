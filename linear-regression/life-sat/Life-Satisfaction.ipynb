{
 "cells": [
  {
   "cell_type": "code",
   "execution_count": 142,
   "metadata": {
    "metadata": {}
   },
   "outputs": [],
   "source": [
    "import matplotlib.pyplot as plt\n",
    "import seaborn as sns\n",
    "import pandas as pd\n",
    "from sklearn.linear_model import LinearRegression\n",
    "from IPython.display import Markdown, display\n",
    "\n",
    "from os.path import join\n",
    "\n",
    "from scipy.stats import normaltest\n",
    "\n",
    "import numpy as np\n",
    "\n",
    "from sklearn.model_selection import train_test_split\n",
    "\n",
    "sns.set_style(\"whitegrid\")\n",
    "sns.set_palette(\"viridis\")"
   ]
  },
  {
   "cell_type": "code",
   "execution_count": 143,
   "metadata": {
    "metadata": {}
   },
   "outputs": [],
   "source": [
    "data_root = \"https://github.com/ageron/data/raw/main/\"\n",
    "lifesat = pd.read_csv(join(data_root, \"lifesat\", \"lifesat.csv\"))"
   ]
  },
  {
   "cell_type": "code",
   "execution_count": 144,
   "metadata": {
    "metadata": {}
   },
   "outputs": [
    {
     "data": {
      "text/html": [
       "<div>\n",
       "<style scoped>\n",
       "    .dataframe tbody tr th:only-of-type {\n",
       "        vertical-align: middle;\n",
       "    }\n",
       "\n",
       "    .dataframe tbody tr th {\n",
       "        vertical-align: top;\n",
       "    }\n",
       "\n",
       "    .dataframe thead th {\n",
       "        text-align: right;\n",
       "    }\n",
       "</style>\n",
       "<table border=\"1\" class=\"dataframe\">\n",
       "  <thead>\n",
       "    <tr style=\"text-align: right;\">\n",
       "      <th></th>\n",
       "      <th>Country</th>\n",
       "      <th>GDP per capita (USD)</th>\n",
       "      <th>Life satisfaction</th>\n",
       "    </tr>\n",
       "  </thead>\n",
       "  <tbody>\n",
       "    <tr>\n",
       "      <th>25</th>\n",
       "      <td>Denmark</td>\n",
       "      <td>55938.212809</td>\n",
       "      <td>7.6</td>\n",
       "    </tr>\n",
       "    <tr>\n",
       "      <th>17</th>\n",
       "      <td>Finland</td>\n",
       "      <td>47260.800458</td>\n",
       "      <td>7.6</td>\n",
       "    </tr>\n",
       "    <tr>\n",
       "      <th>23</th>\n",
       "      <td>Iceland</td>\n",
       "      <td>52279.728851</td>\n",
       "      <td>7.5</td>\n",
       "    </tr>\n",
       "    <tr>\n",
       "      <th>24</th>\n",
       "      <td>Netherlands</td>\n",
       "      <td>54209.563836</td>\n",
       "      <td>7.4</td>\n",
       "    </tr>\n",
       "    <tr>\n",
       "      <th>16</th>\n",
       "      <td>Canada</td>\n",
       "      <td>45856.625626</td>\n",
       "      <td>7.4</td>\n",
       "    </tr>\n",
       "    <tr>\n",
       "      <th>15</th>\n",
       "      <td>New Zealand</td>\n",
       "      <td>42404.393738</td>\n",
       "      <td>7.3</td>\n",
       "    </tr>\n",
       "    <tr>\n",
       "      <th>20</th>\n",
       "      <td>Sweden</td>\n",
       "      <td>50683.323510</td>\n",
       "      <td>7.3</td>\n",
       "    </tr>\n",
       "    <tr>\n",
       "      <th>19</th>\n",
       "      <td>Australia</td>\n",
       "      <td>48697.837028</td>\n",
       "      <td>7.3</td>\n",
       "    </tr>\n",
       "    <tr>\n",
       "      <th>11</th>\n",
       "      <td>Israel</td>\n",
       "      <td>38341.307570</td>\n",
       "      <td>7.2</td>\n",
       "    </tr>\n",
       "    <tr>\n",
       "      <th>22</th>\n",
       "      <td>Austria</td>\n",
       "      <td>51935.603862</td>\n",
       "      <td>7.1</td>\n",
       "    </tr>\n",
       "    <tr>\n",
       "      <th>21</th>\n",
       "      <td>Germany</td>\n",
       "      <td>50922.358023</td>\n",
       "      <td>7.0</td>\n",
       "    </tr>\n",
       "    <tr>\n",
       "      <th>26</th>\n",
       "      <td>United States</td>\n",
       "      <td>60235.728492</td>\n",
       "      <td>6.9</td>\n",
       "    </tr>\n",
       "    <tr>\n",
       "      <th>18</th>\n",
       "      <td>Belgium</td>\n",
       "      <td>48210.033111</td>\n",
       "      <td>6.9</td>\n",
       "    </tr>\n",
       "    <tr>\n",
       "      <th>13</th>\n",
       "      <td>United Kingdom</td>\n",
       "      <td>41627.129269</td>\n",
       "      <td>6.8</td>\n",
       "    </tr>\n",
       "    <tr>\n",
       "      <th>14</th>\n",
       "      <td>France</td>\n",
       "      <td>42025.617373</td>\n",
       "      <td>6.5</td>\n",
       "    </tr>\n",
       "    <tr>\n",
       "      <th>8</th>\n",
       "      <td>Spain</td>\n",
       "      <td>36215.447591</td>\n",
       "      <td>6.3</td>\n",
       "    </tr>\n",
       "    <tr>\n",
       "      <th>6</th>\n",
       "      <td>Poland</td>\n",
       "      <td>32238.157259</td>\n",
       "      <td>6.1</td>\n",
       "    </tr>\n",
       "    <tr>\n",
       "      <th>12</th>\n",
       "      <td>Italy</td>\n",
       "      <td>38992.148381</td>\n",
       "      <td>6.0</td>\n",
       "    </tr>\n",
       "    <tr>\n",
       "      <th>10</th>\n",
       "      <td>Lithuania</td>\n",
       "      <td>36732.034744</td>\n",
       "      <td>5.9</td>\n",
       "    </tr>\n",
       "    <tr>\n",
       "      <th>9</th>\n",
       "      <td>Slovenia</td>\n",
       "      <td>36547.738956</td>\n",
       "      <td>5.9</td>\n",
       "    </tr>\n",
       "    <tr>\n",
       "      <th>3</th>\n",
       "      <td>Latvia</td>\n",
       "      <td>29932.493910</td>\n",
       "      <td>5.9</td>\n",
       "    </tr>\n",
       "    <tr>\n",
       "      <th>0</th>\n",
       "      <td>Russia</td>\n",
       "      <td>26456.387938</td>\n",
       "      <td>5.8</td>\n",
       "    </tr>\n",
       "    <tr>\n",
       "      <th>7</th>\n",
       "      <td>Estonia</td>\n",
       "      <td>35638.421351</td>\n",
       "      <td>5.7</td>\n",
       "    </tr>\n",
       "    <tr>\n",
       "      <th>4</th>\n",
       "      <td>Hungary</td>\n",
       "      <td>31007.768407</td>\n",
       "      <td>5.6</td>\n",
       "    </tr>\n",
       "    <tr>\n",
       "      <th>2</th>\n",
       "      <td>Turkey</td>\n",
       "      <td>28384.987785</td>\n",
       "      <td>5.5</td>\n",
       "    </tr>\n",
       "    <tr>\n",
       "      <th>1</th>\n",
       "      <td>Greece</td>\n",
       "      <td>27287.083401</td>\n",
       "      <td>5.4</td>\n",
       "    </tr>\n",
       "    <tr>\n",
       "      <th>5</th>\n",
       "      <td>Portugal</td>\n",
       "      <td>32181.154537</td>\n",
       "      <td>5.4</td>\n",
       "    </tr>\n",
       "  </tbody>\n",
       "</table>\n",
       "</div>"
      ],
      "text/plain": [
       "           Country  GDP per capita (USD)  Life satisfaction\n",
       "25         Denmark          55938.212809                7.6\n",
       "17         Finland          47260.800458                7.6\n",
       "23         Iceland          52279.728851                7.5\n",
       "24     Netherlands          54209.563836                7.4\n",
       "16          Canada          45856.625626                7.4\n",
       "15     New Zealand          42404.393738                7.3\n",
       "20          Sweden          50683.323510                7.3\n",
       "19       Australia          48697.837028                7.3\n",
       "11          Israel          38341.307570                7.2\n",
       "22         Austria          51935.603862                7.1\n",
       "21         Germany          50922.358023                7.0\n",
       "26   United States          60235.728492                6.9\n",
       "18         Belgium          48210.033111                6.9\n",
       "13  United Kingdom          41627.129269                6.8\n",
       "14          France          42025.617373                6.5\n",
       "8            Spain          36215.447591                6.3\n",
       "6           Poland          32238.157259                6.1\n",
       "12           Italy          38992.148381                6.0\n",
       "10       Lithuania          36732.034744                5.9\n",
       "9         Slovenia          36547.738956                5.9\n",
       "3           Latvia          29932.493910                5.9\n",
       "0           Russia          26456.387938                5.8\n",
       "7          Estonia          35638.421351                5.7\n",
       "4          Hungary          31007.768407                5.6\n",
       "2           Turkey          28384.987785                5.5\n",
       "1           Greece          27287.083401                5.4\n",
       "5         Portugal          32181.154537                5.4"
      ]
     },
     "execution_count": 144,
     "metadata": {},
     "output_type": "execute_result"
    }
   ],
   "source": [
    "lifesat.sort_values(by=\"Life satisfaction\", ascending=False)"
   ]
  },
  {
   "cell_type": "code",
   "execution_count": 145,
   "metadata": {
    "metadata": {}
   },
   "outputs": [
    {
     "data": {
      "text/plain": [
       "((27, 1), (27, 1))"
      ]
     },
     "execution_count": 145,
     "metadata": {},
     "output_type": "execute_result"
    }
   ],
   "source": [
    "X = lifesat[[\"GDP per capita (USD)\"]].values\n",
    "y = lifesat[[\"Life satisfaction\"]].values\n",
    "\n",
    "X.shape, y.shape"
   ]
  },
  {
   "cell_type": "code",
   "execution_count": 146,
   "metadata": {},
   "outputs": [
    {
     "data": {
      "text/html": [
       "<div>\n",
       "<style scoped>\n",
       "    .dataframe tbody tr th:only-of-type {\n",
       "        vertical-align: middle;\n",
       "    }\n",
       "\n",
       "    .dataframe tbody tr th {\n",
       "        vertical-align: top;\n",
       "    }\n",
       "\n",
       "    .dataframe thead th {\n",
       "        text-align: right;\n",
       "    }\n",
       "</style>\n",
       "<table border=\"1\" class=\"dataframe\">\n",
       "  <thead>\n",
       "    <tr style=\"text-align: right;\">\n",
       "      <th></th>\n",
       "      <th>GDP per capita (USD)</th>\n",
       "      <th>Life satisfaction</th>\n",
       "    </tr>\n",
       "  </thead>\n",
       "  <tbody>\n",
       "    <tr>\n",
       "      <th>count</th>\n",
       "      <td>27.000000</td>\n",
       "      <td>27.000000</td>\n",
       "    </tr>\n",
       "    <tr>\n",
       "      <th>mean</th>\n",
       "      <td>41564.521771</td>\n",
       "      <td>6.566667</td>\n",
       "    </tr>\n",
       "    <tr>\n",
       "      <th>std</th>\n",
       "      <td>9631.452319</td>\n",
       "      <td>0.765607</td>\n",
       "    </tr>\n",
       "    <tr>\n",
       "      <th>min</th>\n",
       "      <td>26456.387938</td>\n",
       "      <td>5.400000</td>\n",
       "    </tr>\n",
       "    <tr>\n",
       "      <th>25%</th>\n",
       "      <td>33938.289305</td>\n",
       "      <td>5.900000</td>\n",
       "    </tr>\n",
       "    <tr>\n",
       "      <th>50%</th>\n",
       "      <td>41627.129269</td>\n",
       "      <td>6.800000</td>\n",
       "    </tr>\n",
       "    <tr>\n",
       "      <th>75%</th>\n",
       "      <td>49690.580269</td>\n",
       "      <td>7.300000</td>\n",
       "    </tr>\n",
       "    <tr>\n",
       "      <th>max</th>\n",
       "      <td>60235.728492</td>\n",
       "      <td>7.600000</td>\n",
       "    </tr>\n",
       "  </tbody>\n",
       "</table>\n",
       "</div>"
      ],
      "text/plain": [
       "       GDP per capita (USD)  Life satisfaction\n",
       "count             27.000000          27.000000\n",
       "mean           41564.521771           6.566667\n",
       "std             9631.452319           0.765607\n",
       "min            26456.387938           5.400000\n",
       "25%            33938.289305           5.900000\n",
       "50%            41627.129269           6.800000\n",
       "75%            49690.580269           7.300000\n",
       "max            60235.728492           7.600000"
      ]
     },
     "execution_count": 146,
     "metadata": {},
     "output_type": "execute_result"
    }
   ],
   "source": [
    "lifesat.describe()"
   ]
  },
  {
   "cell_type": "code",
   "execution_count": 147,
   "metadata": {},
   "outputs": [
    {
     "data": {
      "text/markdown": [
       "\n",
       "These are the limits in the axis we are going to use:\n",
       "\n",
       "$$\n",
       "xmin, \\ xmax = 23500, \\ 62500\n",
       "$$\n",
       "\n",
       "$$\n",
       "ymin, \\ ymax = 4, \\ 9\n",
       "$$\n"
      ],
      "text/plain": [
       "<IPython.core.display.Markdown object>"
      ]
     },
     "metadata": {},
     "output_type": "display_data"
    }
   ],
   "source": [
    "xmin, xmax = 23500, 62500\n",
    "ymin, ymax = 4, 9\n",
    "\n",
    "markdown = f\"\"\"\n",
    "These are the limits in the axis we are going to use:\n",
    "\n",
    "$$\n",
    "xmin, \\ xmax = {xmin}, \\ {xmax}\n",
    "$$\n",
    "\n",
    "$$\n",
    "ymin, \\ ymax = {ymin}, \\ {ymax}\n",
    "$$\n",
    "\"\"\"\n",
    "\n",
    "display(Markdown(markdown))"
   ]
  },
  {
   "cell_type": "markdown",
   "metadata": {},
   "source": [
    "I want to know if *gdp per capita* and *life satisfaction* follow a normal distribution to compute the correlation between them.\n",
    "\n",
    "The compute of the corr only makes sense if features follow a Gaussian distribution. We can know if features\n",
    "follow a Gaussian distribution plotting them (and see if they follow a normal distribution) or with statistical tests."
   ]
  },
  {
   "cell_type": "code",
   "execution_count": 148,
   "metadata": {},
   "outputs": [
    {
     "data": {
      "image/png": "[encoded data removed]",
      "text/plain": [
       "<Figure size 900x300 with 2 Axes>"
      ]
     },
     "metadata": {},
     "output_type": "display_data"
    }
   ],
   "source": [
    "fig, axes = plt.subplots(1, 2, figsize=(9, 3))\n",
    "\n",
    "sns.kdeplot(X, ax=axes[0])\n",
    "axes[0].set_title(\"GDP per capita (USD)\")\n",
    "\n",
    "sns.kdeplot(y, ax=axes[1])\n",
    "axes[1].set_title(\"Life satisfaction\")\n",
    "\n",
    "plt.tight_layout()\n",
    "plt.show()"
   ]
  },
  {
   "cell_type": "markdown",
   "metadata": {},
   "source": [
    " $H0$ also known as null hypothesis of `normaltest` is based on the asumption that it follows a normal form. A typical value use\n",
    "to be sure that the null hypothesis is false is when the percentil is smaller than 0.05, i.e., $p < 0.05$."
   ]
  },
  {
   "cell_type": "code",
   "execution_count": 149,
   "metadata": {},
   "outputs": [
    {
     "data": {
      "text/plain": [
       "NormaltestResult(statistic=array([3.26038932]), pvalue=array([0.19589144]))"
      ]
     },
     "execution_count": 149,
     "metadata": {},
     "output_type": "execute_result"
    }
   ],
   "source": [
    "normaltest(X)"
   ]
  },
  {
   "cell_type": "code",
   "execution_count": 150,
   "metadata": {},
   "outputs": [
    {
     "data": {
      "text/plain": [
       "NormaltestResult(statistic=array([14.71794254]), pvalue=array([0.00063685]))"
      ]
     },
     "execution_count": 150,
     "metadata": {},
     "output_type": "execute_result"
    }
   ],
   "source": [
    "normaltest(y)"
   ]
  },
  {
   "cell_type": "markdown",
   "metadata": {},
   "source": [
    "From both, the visual and normal test we can conclude that only *gdp per capita* follows a normal distribution. From this information\n",
    "we know that probably a linear model is not the best aprouch to make generalitations. Yet the linear correlation, points out that there is a hight linear relation between the independent and dependent variable."
   ]
  },
  {
   "cell_type": "code",
   "execution_count": 151,
   "metadata": {},
   "outputs": [
    {
     "data": {
      "text/html": [
       "<div>\n",
       "<style scoped>\n",
       "    .dataframe tbody tr th:only-of-type {\n",
       "        vertical-align: middle;\n",
       "    }\n",
       "\n",
       "    .dataframe tbody tr th {\n",
       "        vertical-align: top;\n",
       "    }\n",
       "\n",
       "    .dataframe thead th {\n",
       "        text-align: right;\n",
       "    }\n",
       "</style>\n",
       "<table border=\"1\" class=\"dataframe\">\n",
       "  <thead>\n",
       "    <tr style=\"text-align: right;\">\n",
       "      <th></th>\n",
       "      <th>GDP per capita (USD)</th>\n",
       "      <th>Life satisfaction</th>\n",
       "    </tr>\n",
       "  </thead>\n",
       "  <tbody>\n",
       "    <tr>\n",
       "      <th>GDP per capita (USD)</th>\n",
       "      <td>1.000000</td>\n",
       "      <td>0.852796</td>\n",
       "    </tr>\n",
       "    <tr>\n",
       "      <th>Life satisfaction</th>\n",
       "      <td>0.852796</td>\n",
       "      <td>1.000000</td>\n",
       "    </tr>\n",
       "  </tbody>\n",
       "</table>\n",
       "</div>"
      ],
      "text/plain": [
       "                      GDP per capita (USD)  Life satisfaction\n",
       "GDP per capita (USD)              1.000000           0.852796\n",
       "Life satisfaction                 0.852796           1.000000"
      ]
     },
     "execution_count": 151,
     "metadata": {},
     "output_type": "execute_result"
    }
   ],
   "source": [
    "corr = lifesat[[\"GDP per capita (USD)\", \"Life satisfaction\"]].corr()\n",
    "corr"
   ]
  },
  {
   "cell_type": "markdown",
   "metadata": {},
   "source": [
    "We can see a linear trend here. So we can model this problem with a *linear model*.\n",
    "\n",
    "$Life \\ satisfaction = \\theta_{0} + \\theta_{1} * GDP$"
   ]
  },
  {
   "cell_type": "code",
   "execution_count": 152,
   "metadata": {},
   "outputs": [],
   "source": [
    "def life_satisfaction(x, t0, t1):\n",
    "    return t0 + t1 * x"
   ]
  },
  {
   "cell_type": "code",
   "execution_count": 153,
   "metadata": {
    "metadata": {}
   },
   "outputs": [
    {
     "data": {
      "text/plain": [
       "(3.749, 6.778899694341222e-05)"
      ]
     },
     "execution_count": 153,
     "metadata": {},
     "output_type": "execute_result"
    }
   ],
   "source": [
    "model = LinearRegression()\n",
    "model.fit(X, y)\n",
    "\n",
    "t0 = round(model.intercept_[0], 3)\n",
    "t1 = model.coef_[0][0]\n",
    "\n",
    "t0, t1"
   ]
  },
  {
   "cell_type": "code",
   "execution_count": 154,
   "metadata": {
    "metadata": {}
   },
   "outputs": [
    {
     "data": {
      "text/markdown": [
       "\n",
       "The linear equation that minimizes the error in the hole dataset is the follow:\n",
       "\n",
       "$Life \\ satisfaction = 3.749 + 6.778899694341222e-05 * GDP$\n"
      ],
      "text/plain": [
       "<IPython.core.display.Markdown object>"
      ]
     },
     "metadata": {},
     "output_type": "display_data"
    }
   ],
   "source": [
    "markdown = f\"\"\"\n",
    "The linear equation that minimizes the error in the hole dataset is the follow:\n",
    "\n",
    "$Life \\ satisfaction = {t0} + {t1} * GDP$\n",
    "\"\"\"\n",
    "\n",
    "display(Markdown(markdown))"
   ]
  },
  {
   "cell_type": "code",
   "execution_count": 155,
   "metadata": {
    "metadata": {}
   },
   "outputs": [
    {
     "data": {
      "text/plain": [
       "array([[5.542452  ],\n",
       "       [5.59876401],\n",
       "       [5.67318985],\n",
       "       [5.77809374],\n",
       "       [5.85098552]])"
      ]
     },
     "execution_count": 155,
     "metadata": {},
     "output_type": "execute_result"
    }
   ],
   "source": [
    "yhat = life_satisfaction(X, t0, t1)\n",
    "yhat[:5]"
   ]
  },
  {
   "cell_type": "code",
   "execution_count": 156,
   "metadata": {},
   "outputs": [
    {
     "data": {
      "text/plain": [
       "array([[5.54250143],\n",
       "       [5.59881344],\n",
       "       [5.67323928],\n",
       "       [5.77814317],\n",
       "       [5.85103495]])"
      ]
     },
     "execution_count": 156,
     "metadata": {},
     "output_type": "execute_result"
    }
   ],
   "source": [
    "yhat_m = model.predict(X)\n",
    "yhat_m[:5]"
   ]
  },
  {
   "cell_type": "markdown",
   "metadata": {},
   "source": [
    "The values predicted by the model and the function `life_satisfaction`\n",
    "are very similar, as you can appreciate it by the compute of the median error using the Manhattan distance.\n",
    "\n",
    "$$\n",
    "\\frac {{\\sum_{i=0}^{i=n}} \\mid yhat_i - yhat\\_m_i \\mid} {n}\n",
    "$$"
   ]
  },
  {
   "cell_type": "code",
   "execution_count": 157,
   "metadata": {},
   "outputs": [
    {
     "data": {
      "text/plain": [
       "4.942737690907909e-05"
      ]
     },
     "execution_count": 157,
     "metadata": {},
     "output_type": "execute_result"
    }
   ],
   "source": [
    "err = np.abs(np.sum((yhat - yhat_m))) / len(yhat)\n",
    "err"
   ]
  },
  {
   "cell_type": "code",
   "execution_count": 158,
   "metadata": {},
   "outputs": [
    {
     "data": {
      "image/png": "[encoded data removed]",
      "text/plain": [
       "<Figure size 600x400 with 1 Axes>"
      ]
     },
     "metadata": {},
     "output_type": "display_data"
    }
   ],
   "source": [
    "fig, ax = plt.subplots(1, 1, figsize=(6, 4))\n",
    "\n",
    "sns.lineplot(x=X.ravel(), y=yhat.ravel(), color=\"#d69cff\")\n",
    "sns.scatterplot(x=X.ravel(), y=y.ravel())\n",
    "\n",
    "ax.set_xlim([xmin, xmax])\n",
    "ax.set_ylim([ymin, ymax])\n",
    "ax.set_xlabel(\"GDP per capita (USD)\")\n",
    "ax.set_ylabel(\"Life satisfaction\")\n",
    "\n",
    "\n",
    "plt.show()"
   ]
  },
  {
   "cell_type": "markdown",
   "metadata": {},
   "source": [
    "As you probably noticed, this model is kinda useless. It is cool to explain maths but we make no prediction on unseen data. So lets simulate that we have two dataset, one for training the model and one for actual testing the model and lets see its performance."
   ]
  },
  {
   "cell_type": "code",
   "execution_count": 159,
   "metadata": {},
   "outputs": [
    {
     "data": {
      "text/plain": [
       "((21, 1), (6, 1), (21, 1), (6, 1))"
      ]
     },
     "execution_count": 159,
     "metadata": {},
     "output_type": "execute_result"
    }
   ],
   "source": [
    "X_train, X_test, y_train, y_test = train_test_split(\n",
    "    X, y, test_size=0.2, random_state=42\n",
    ")\n",
    "X_train.shape, X_test.shape, y_train.shape, y_test.shape"
   ]
  },
  {
   "cell_type": "code",
   "execution_count": 160,
   "metadata": {},
   "outputs": [
    {
     "data": {
      "image/png": "[encoded data removed]",
      "text/plain": [
       "<Figure size 600x400 with 1 Axes>"
      ]
     },
     "metadata": {},
     "output_type": "display_data"
    }
   ],
   "source": [
    "fig, ax = plt.subplots(1, 1, figsize=(6, 4))\n",
    "\n",
    "sns.scatterplot(x=X_train.ravel(), y=y_train.ravel())\n",
    "sns.scatterplot(x=X_test.ravel(), y=y_test.ravel(), color=\"orange\", marker=\"$\\circ$\")\n",
    "\n",
    "ax.set_xlim([xmin, xmax])\n",
    "ax.set_ylim([ymin, ymax])\n",
    "ax.set_xlabel(\"GDP per capita (USD)\")\n",
    "ax.set_ylabel(\"Life satisfaction\")\n",
    "\n",
    "plt.show()"
   ]
  },
  {
   "cell_type": "code",
   "execution_count": 161,
   "metadata": {},
   "outputs": [
    {
     "data": {
      "text/plain": [
       "(3.533, 7.18650303768337e-05)"
      ]
     },
     "execution_count": 161,
     "metadata": {},
     "output_type": "execute_result"
    }
   ],
   "source": [
    "model = LinearRegression()\n",
    "model.fit(X_train, y_train)\n",
    "\n",
    "t0 = round(model.intercept_[0], 3)\n",
    "t1 = model.coef_[0][0]\n",
    "\n",
    "t0, t1"
   ]
  },
  {
   "cell_type": "code",
   "execution_count": 162,
   "metadata": {},
   "outputs": [
    {
     "data": {
      "text/markdown": [
       "\n",
       "The linear equation that minimizes the error in the train dataset is the follow:\n",
       "\n",
       "$Life \\ satisfaction = 3.533 + 7.18650303768337e-05 * GDP$\n"
      ],
      "text/plain": [
       "<IPython.core.display.Markdown object>"
      ]
     },
     "metadata": {},
     "output_type": "display_data"
    }
   ],
   "source": [
    "markdown = f\"\"\"\n",
    "The linear equation that minimizes the error in the train dataset is the follow:\n",
    "\n",
    "$Life \\ satisfaction = {t0} + {t1} * GDP$\n",
    "\"\"\"\n",
    "\n",
    "display(Markdown(markdown))"
   ]
  },
  {
   "cell_type": "code",
   "execution_count": 163,
   "metadata": {},
   "outputs": [
    {
     "data": {
      "text/plain": [
       "array([[6.8281986 ],\n",
       "       [6.92910967],\n",
       "       [6.33488274],\n",
       "       [7.42848276],\n",
       "       [5.49369788]])"
      ]
     },
     "execution_count": 163,
     "metadata": {},
     "output_type": "execute_result"
    }
   ],
   "source": [
    "yhat_train = model.predict(X_train)\n",
    "yhat_train[:5]"
   ]
  },
  {
   "cell_type": "code",
   "execution_count": 164,
   "metadata": {},
   "outputs": [
    {
     "data": {
      "image/png": "[encoded data removed]",
      "text/plain": [
       "<Figure size 600x400 with 1 Axes>"
      ]
     },
     "metadata": {},
     "output_type": "display_data"
    }
   ],
   "source": [
    "fig, ax = plt.subplots(1, 1, figsize=(6, 4))\n",
    "\n",
    "sns.scatterplot(x=X_test.ravel(), y=y_test.ravel(), color=\"orange\", marker=\"$\\circ$\")\n",
    "sns.scatterplot(x=X_train.ravel(), y=y_train.ravel())\n",
    "sns.lineplot(x=X_train.ravel(), y=yhat_train.ravel(), color=\"#d69cff\")\n",
    "\n",
    "ax.set_xlim([xmin, xmax])\n",
    "ax.set_ylim([ymin, ymax])\n",
    "ax.set_xlabel(\"GDP per capita (USD)\")\n",
    "ax.set_ylabel(\"Life satisfaction\")\n",
    "\n",
    "plt.show()"
   ]
  },
  {
   "cell_type": "code",
   "execution_count": 165,
   "metadata": {},
   "outputs": [
    {
     "data": {
      "text/plain": [
       "array([[6.13533505],\n",
       "       [6.52424572],\n",
       "       [6.15921518],\n",
       "       [7.19224761],\n",
       "       [5.43399993]])"
      ]
     },
     "execution_count": 165,
     "metadata": {},
     "output_type": "execute_result"
    }
   ],
   "source": [
    "yhat_test = model.predict(X_test)\n",
    "yhat_test[:5]"
   ]
  },
  {
   "cell_type": "code",
   "execution_count": 166,
   "metadata": {},
   "outputs": [
    {
     "data": {
      "image/png": "[encoded data removed]",
      "text/plain": [
       "<Figure size 600x400 with 1 Axes>"
      ]
     },
     "metadata": {},
     "output_type": "display_data"
    }
   ],
   "source": [
    "fig, ax = plt.subplots(1, 1, figsize=(6, 4))\n",
    "\n",
    "sns.lineplot(x=X_train.ravel(), y=yhat_train.ravel(), color=\"#d69cff\")\n",
    "sns.scatterplot(x=X_train.ravel(), y=y_train.ravel())\n",
    "\n",
    "for i, x in enumerate(y_test):\n",
    "    stack_y = np.vstack((x, yhat_test[i]))\n",
    "    stack_x = np.repeat(X_test[i], len(stack_y))\n",
    "\n",
    "    sns.lineplot(x=stack_x.ravel(), y=stack_y.ravel(), color=\"orange\")\n",
    "\n",
    "sns.scatterplot(x=X_test.ravel(), y=y_test.ravel(), color=\"orange\", marker=\"$\\circ$\")\n",
    "sns.scatterplot(x=X_test.ravel(), y=yhat_test.ravel(), color=\"orange\")\n",
    "\n",
    "\n",
    "ax.set_xlim([xmin, xmax])\n",
    "ax.set_ylim([ymin, ymax])\n",
    "ax.set_xlabel(\"GDP per capita (USD)\")\n",
    "ax.set_ylabel(\"Life satisfaction\")\n",
    "\n",
    "plt.show()"
   ]
  },
  {
   "cell_type": "code",
   "execution_count": 167,
   "metadata": {},
   "outputs": [
    {
     "data": {
      "image/png": "[encoded data removed]",
      "text/plain": [
       "<Figure size 1200x400 with 2 Axes>"
      ]
     },
     "metadata": {},
     "output_type": "display_data"
    }
   ],
   "source": [
    "fig, axes = plt.subplots(1, 2, figsize=(12, 4))\n",
    "\n",
    "sns.scatterplot(x=X.ravel(), y=y.ravel(), ax=axes[0])\n",
    "sns.lineplot(x=X.ravel(), y=yhat.ravel(), color=\"#d69cff\", ax=axes[0])\n",
    "\n",
    "sns.lineplot(x=X_train.ravel(), y=yhat_train.ravel(), color=\"#d69cff\", ax=axes[1])\n",
    "sns.scatterplot(x=X_train.ravel(), y=y_train.ravel(), ax=axes[1])\n",
    "\n",
    "for i, x in enumerate(y_test):\n",
    "    stack_y = np.vstack((x, yhat_test[i]))\n",
    "    stack_x = np.repeat(X_test[i], len(stack_y))\n",
    "    sns.lineplot(x=stack_x.ravel(), y=stack_y.ravel(), color=\"orange\", ax=axes[1])\n",
    "\n",
    "sns.scatterplot(x=X_test.ravel(), y=y_test.ravel(), color=\"orange\", marker=\"$\\circ$\")\n",
    "sns.scatterplot(x=X_test.ravel(), y=yhat_test.ravel(), color=\"orange\", ax=axes[1])\n",
    "\n",
    "for ax in axes:\n",
    "    ax.set_xlim([xmin, xmax])\n",
    "    ax.set_ylim([ymin, ymax])\n",
    "    ax.set_xlabel(\"GDP per capita (USD)\")\n",
    "    ax.set_ylabel(\"Life satisfaction\")\n",
    "\n",
    "axes[0].set_title(\"Linear model with the hole dataset\")\n",
    "axes[1].set_title(\"Linear model with train and test dataset\")\n",
    "\n",
    "plt.show()"
   ]
  },
  {
   "cell_type": "markdown",
   "metadata": {},
   "source": [
    "As a conclusion, this is a toy modeling example. We have very few data examples to model the problem, yet, we got two different models. You can notice the difference if you look closer at the privious graphic."
   ]
  }
 ],
 "metadata": {
  "kernelspec": {
   "display_name": "hands-on-ml",
   "language": "python",
   "name": "python3"
  },
  "language_info": {
   "codemirror_mode": {
    "name": "ipython",
    "version": 3
   },
   "file_extension": ".py",
   "mimetype": "text/x-python",
   "name": "python",
   "nbconvert_exporter": "python",
   "pygments_lexer": "ipython3",
   "version": "3.9.19"
  }
 },
 "nbformat": 4,
 "nbformat_minor": 2
}
