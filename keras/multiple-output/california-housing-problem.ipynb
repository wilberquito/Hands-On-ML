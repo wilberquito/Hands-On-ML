{
 "cells": [
  {
   "cell_type": "markdown",
   "metadata": {},
   "source": [
    "# Handling Multiple Output"
   ]
  },
  {
   "cell_type": "code",
   "execution_count": 28,
   "metadata": {},
   "outputs": [],
   "source": [
    "import numpy as np\n",
    "import pandas as pd\n",
    "import tensorflow as tf\n",
    "import keras\n",
    "import matplotlib.pyplot as plt"
   ]
  },
  {
   "cell_type": "code",
   "execution_count": 29,
   "metadata": {},
   "outputs": [
    {
     "data": {
      "text/plain": [
       "'2.17.0'"
      ]
     },
     "execution_count": 29,
     "metadata": {},
     "output_type": "execute_result"
    }
   ],
   "source": [
    "tf.__version__"
   ]
  },
  {
   "cell_type": "code",
   "execution_count": 30,
   "metadata": {},
   "outputs": [
    {
     "data": {
      "text/plain": [
       "[PhysicalDevice(name='/physical_device:GPU:0', device_type='GPU')]"
      ]
     },
     "execution_count": 30,
     "metadata": {},
     "output_type": "execute_result"
    }
   ],
   "source": [
    "tf.config.list_physical_devices(\"GPU\")"
   ]
  },
  {
   "cell_type": "code",
   "execution_count": 31,
   "metadata": {},
   "outputs": [
    {
     "data": {
      "text/plain": [
       "'3.4.1'"
      ]
     },
     "execution_count": 31,
     "metadata": {},
     "output_type": "execute_result"
    }
   ],
   "source": [
    "keras.__version__"
   ]
  },
  {
   "cell_type": "code",
   "execution_count": 32,
   "metadata": {},
   "outputs": [],
   "source": [
    "california_housing = tf.keras.datasets.california_housing.load_data(\n",
    "    version=\"large\", path=\"california_housing.npz\", test_split=0.2, seed=42\n",
    ")\n",
    "(X_train_full, y_train_full), (X_test, y_test) = california_housing"
   ]
  },
  {
   "cell_type": "code",
   "execution_count": 33,
   "metadata": {},
   "outputs": [
    {
     "data": {
      "text/plain": [
       "(16512, 8)"
      ]
     },
     "execution_count": 33,
     "metadata": {},
     "output_type": "execute_result"
    }
   ],
   "source": [
    "X_train_full.shape"
   ]
  },
  {
   "cell_type": "code",
   "execution_count": 34,
   "metadata": {},
   "outputs": [
    {
     "data": {
      "text/plain": [
       "(4128, 8)"
      ]
     },
     "execution_count": 34,
     "metadata": {},
     "output_type": "execute_result"
    }
   ],
   "source": [
    "X_test.shape"
   ]
  },
  {
   "cell_type": "code",
   "execution_count": 35,
   "metadata": {},
   "outputs": [],
   "source": [
    "X_train, X_valid = X_train_full[:12000], X_train_full[12000:]\n",
    "y_train, y_valid = y_train_full[:12000], y_train_full[12000:]"
   ]
  },
  {
   "cell_type": "code",
   "execution_count": 36,
   "metadata": {},
   "outputs": [
    {
     "data": {
      "text/plain": [
       "(12000, 8)"
      ]
     },
     "execution_count": 36,
     "metadata": {},
     "output_type": "execute_result"
    }
   ],
   "source": [
    "X_train.shape"
   ]
  },
  {
   "cell_type": "code",
   "execution_count": 37,
   "metadata": {},
   "outputs": [
    {
     "data": {
      "text/plain": [
       "(4512, 8)"
      ]
     },
     "execution_count": 37,
     "metadata": {},
     "output_type": "execute_result"
    }
   ],
   "source": [
    "X_valid.shape"
   ]
  },
  {
   "cell_type": "code",
   "execution_count": 38,
   "metadata": {},
   "outputs": [
    {
     "data": {
      "text/plain": [
       "(8,)"
      ]
     },
     "execution_count": 38,
     "metadata": {},
     "output_type": "execute_result"
    }
   ],
   "source": [
    "X_train.shape[1:]"
   ]
  },
  {
   "cell_type": "code",
   "execution_count": 39,
   "metadata": {},
   "outputs": [],
   "source": [
    "X_train_wide, X_train_deep = X_train[:, :5], X_train[:, 2:]\n",
    "X_valid_wide, X_valid_deep = X_valid[:, :5], X_valid[:, 2:]\n",
    "X_test_wide, X_test_deep = X_test[:, :5], X_test[:, 2:]"
   ]
  },
  {
   "cell_type": "markdown",
   "metadata": {},
   "source": [
    "## Single Ouput and Wide & Deep"
   ]
  },
  {
   "cell_type": "markdown",
   "metadata": {},
   "source": [
    "What if part of the input we want to handle it as a simple concepts or patterns to learn and the rest of the inputs\n",
    "should be analyzed and learned deeplier."
   ]
  },
  {
   "cell_type": "markdown",
   "metadata": {},
   "source": [
    "![](assets/wide-and-deep-multiple-inputs.png)"
   ]
  },
  {
   "cell_type": "code",
   "execution_count": 40,
   "metadata": {},
   "outputs": [
    {
     "data": {
      "text/html": [
       "<pre style=\"white-space:pre;overflow-x:auto;line-height:normal;font-family:Menlo,'DejaVu Sans Mono',consolas,'Courier New',monospace\"><span style=\"font-weight: bold\">Model: \"functional_4\"</span>\n",
       "</pre>\n"
      ],
      "text/plain": [
       "\u001b[1mModel: \"functional_4\"\u001b[0m\n"
      ]
     },
     "metadata": {},
     "output_type": "display_data"
    },
    {
     "data": {
      "text/html": [
       "<pre style=\"white-space:pre;overflow-x:auto;line-height:normal;font-family:Menlo,'DejaVu Sans Mono',consolas,'Courier New',monospace\">┏━━━━━━━━━━━━━━━━━━━━━┳━━━━━━━━━━━━━━━━━━━┳━━━━━━━━━━━━┳━━━━━━━━━━━━━━━━━━━┓\n",
       "┃<span style=\"font-weight: bold\"> Layer (type)        </span>┃<span style=\"font-weight: bold\"> Output Shape      </span>┃<span style=\"font-weight: bold\">    Param # </span>┃<span style=\"font-weight: bold\"> Connected to      </span>┃\n",
       "┡━━━━━━━━━━━━━━━━━━━━━╇━━━━━━━━━━━━━━━━━━━╇━━━━━━━━━━━━╇━━━━━━━━━━━━━━━━━━━┩\n",
       "│ input_deep          │ (<span style=\"color: #00d7ff; text-decoration-color: #00d7ff\">None</span>, <span style=\"color: #00af00; text-decoration-color: #00af00\">6</span>)         │          <span style=\"color: #00af00; text-decoration-color: #00af00\">0</span> │ -                 │\n",
       "│ (<span style=\"color: #0087ff; text-decoration-color: #0087ff\">InputLayer</span>)        │                   │            │                   │\n",
       "├─────────────────────┼───────────────────┼────────────┼───────────────────┤\n",
       "│ normalization_deep  │ (<span style=\"color: #00d7ff; text-decoration-color: #00d7ff\">None</span>, <span style=\"color: #00af00; text-decoration-color: #00af00\">6</span>)         │         <span style=\"color: #00af00; text-decoration-color: #00af00\">13</span> │ input_deep[<span style=\"color: #00af00; text-decoration-color: #00af00\">0</span>][<span style=\"color: #00af00; text-decoration-color: #00af00\">0</span>]  │\n",
       "│ (<span style=\"color: #0087ff; text-decoration-color: #0087ff\">Normalization</span>)     │                   │            │                   │\n",
       "├─────────────────────┼───────────────────┼────────────┼───────────────────┤\n",
       "│ input_wide          │ (<span style=\"color: #00d7ff; text-decoration-color: #00d7ff\">None</span>, <span style=\"color: #00af00; text-decoration-color: #00af00\">5</span>)         │          <span style=\"color: #00af00; text-decoration-color: #00af00\">0</span> │ -                 │\n",
       "│ (<span style=\"color: #0087ff; text-decoration-color: #0087ff\">InputLayer</span>)        │                   │            │                   │\n",
       "├─────────────────────┼───────────────────┼────────────┼───────────────────┤\n",
       "│ hidden_1 (<span style=\"color: #0087ff; text-decoration-color: #0087ff\">Dense</span>)    │ (<span style=\"color: #00d7ff; text-decoration-color: #00d7ff\">None</span>, <span style=\"color: #00af00; text-decoration-color: #00af00\">30</span>)        │        <span style=\"color: #00af00; text-decoration-color: #00af00\">210</span> │ normalization_de… │\n",
       "├─────────────────────┼───────────────────┼────────────┼───────────────────┤\n",
       "│ normalization_wide  │ (<span style=\"color: #00d7ff; text-decoration-color: #00d7ff\">None</span>, <span style=\"color: #00af00; text-decoration-color: #00af00\">5</span>)         │         <span style=\"color: #00af00; text-decoration-color: #00af00\">11</span> │ input_wide[<span style=\"color: #00af00; text-decoration-color: #00af00\">0</span>][<span style=\"color: #00af00; text-decoration-color: #00af00\">0</span>]  │\n",
       "│ (<span style=\"color: #0087ff; text-decoration-color: #0087ff\">Normalization</span>)     │                   │            │                   │\n",
       "├─────────────────────┼───────────────────┼────────────┼───────────────────┤\n",
       "│ hidden_2 (<span style=\"color: #0087ff; text-decoration-color: #0087ff\">Dense</span>)    │ (<span style=\"color: #00d7ff; text-decoration-color: #00d7ff\">None</span>, <span style=\"color: #00af00; text-decoration-color: #00af00\">30</span>)        │        <span style=\"color: #00af00; text-decoration-color: #00af00\">930</span> │ hidden_1[<span style=\"color: #00af00; text-decoration-color: #00af00\">0</span>][<span style=\"color: #00af00; text-decoration-color: #00af00\">0</span>]    │\n",
       "├─────────────────────┼───────────────────┼────────────┼───────────────────┤\n",
       "│ concat              │ (<span style=\"color: #00d7ff; text-decoration-color: #00d7ff\">None</span>, <span style=\"color: #00af00; text-decoration-color: #00af00\">35</span>)        │          <span style=\"color: #00af00; text-decoration-color: #00af00\">0</span> │ normalization_wi… │\n",
       "│ (<span style=\"color: #0087ff; text-decoration-color: #0087ff\">Concatenate</span>)       │                   │            │ hidden_2[<span style=\"color: #00af00; text-decoration-color: #00af00\">0</span>][<span style=\"color: #00af00; text-decoration-color: #00af00\">0</span>]    │\n",
       "├─────────────────────┼───────────────────┼────────────┼───────────────────┤\n",
       "│ output_layer        │ (<span style=\"color: #00d7ff; text-decoration-color: #00d7ff\">None</span>, <span style=\"color: #00af00; text-decoration-color: #00af00\">1</span>)         │         <span style=\"color: #00af00; text-decoration-color: #00af00\">36</span> │ concat[<span style=\"color: #00af00; text-decoration-color: #00af00\">0</span>][<span style=\"color: #00af00; text-decoration-color: #00af00\">0</span>]      │\n",
       "│ (<span style=\"color: #0087ff; text-decoration-color: #0087ff\">Dense</span>)             │                   │            │                   │\n",
       "└─────────────────────┴───────────────────┴────────────┴───────────────────┘\n",
       "</pre>\n"
      ],
      "text/plain": [
       "┏━━━━━━━━━━━━━━━━━━━━━┳━━━━━━━━━━━━━━━━━━━┳━━━━━━━━━━━━┳━━━━━━━━━━━━━━━━━━━┓\n",
       "┃\u001b[1m \u001b[0m\u001b[1mLayer (type)       \u001b[0m\u001b[1m \u001b[0m┃\u001b[1m \u001b[0m\u001b[1mOutput Shape     \u001b[0m\u001b[1m \u001b[0m┃\u001b[1m \u001b[0m\u001b[1m   Param #\u001b[0m\u001b[1m \u001b[0m┃\u001b[1m \u001b[0m\u001b[1mConnected to     \u001b[0m\u001b[1m \u001b[0m┃\n",
       "┡━━━━━━━━━━━━━━━━━━━━━╇━━━━━━━━━━━━━━━━━━━╇━━━━━━━━━━━━╇━━━━━━━━━━━━━━━━━━━┩\n",
       "│ input_deep          │ (\u001b[38;5;45mNone\u001b[0m, \u001b[38;5;34m6\u001b[0m)         │          \u001b[38;5;34m0\u001b[0m │ -                 │\n",
       "│ (\u001b[38;5;33mInputLayer\u001b[0m)        │                   │            │                   │\n",
       "├─────────────────────┼───────────────────┼────────────┼───────────────────┤\n",
       "│ normalization_deep  │ (\u001b[38;5;45mNone\u001b[0m, \u001b[38;5;34m6\u001b[0m)         │         \u001b[38;5;34m13\u001b[0m │ input_deep[\u001b[38;5;34m0\u001b[0m][\u001b[38;5;34m0\u001b[0m]  │\n",
       "│ (\u001b[38;5;33mNormalization\u001b[0m)     │                   │            │                   │\n",
       "├─────────────────────┼───────────────────┼────────────┼───────────────────┤\n",
       "│ input_wide          │ (\u001b[38;5;45mNone\u001b[0m, \u001b[38;5;34m5\u001b[0m)         │          \u001b[38;5;34m0\u001b[0m │ -                 │\n",
       "│ (\u001b[38;5;33mInputLayer\u001b[0m)        │                   │            │                   │\n",
       "├─────────────────────┼───────────────────┼────────────┼───────────────────┤\n",
       "│ hidden_1 (\u001b[38;5;33mDense\u001b[0m)    │ (\u001b[38;5;45mNone\u001b[0m, \u001b[38;5;34m30\u001b[0m)        │        \u001b[38;5;34m210\u001b[0m │ normalization_de… │\n",
       "├─────────────────────┼───────────────────┼────────────┼───────────────────┤\n",
       "│ normalization_wide  │ (\u001b[38;5;45mNone\u001b[0m, \u001b[38;5;34m5\u001b[0m)         │         \u001b[38;5;34m11\u001b[0m │ input_wide[\u001b[38;5;34m0\u001b[0m][\u001b[38;5;34m0\u001b[0m]  │\n",
       "│ (\u001b[38;5;33mNormalization\u001b[0m)     │                   │            │                   │\n",
       "├─────────────────────┼───────────────────┼────────────┼───────────────────┤\n",
       "│ hidden_2 (\u001b[38;5;33mDense\u001b[0m)    │ (\u001b[38;5;45mNone\u001b[0m, \u001b[38;5;34m30\u001b[0m)        │        \u001b[38;5;34m930\u001b[0m │ hidden_1[\u001b[38;5;34m0\u001b[0m][\u001b[38;5;34m0\u001b[0m]    │\n",
       "├─────────────────────┼───────────────────┼────────────┼───────────────────┤\n",
       "│ concat              │ (\u001b[38;5;45mNone\u001b[0m, \u001b[38;5;34m35\u001b[0m)        │          \u001b[38;5;34m0\u001b[0m │ normalization_wi… │\n",
       "│ (\u001b[38;5;33mConcatenate\u001b[0m)       │                   │            │ hidden_2[\u001b[38;5;34m0\u001b[0m][\u001b[38;5;34m0\u001b[0m]    │\n",
       "├─────────────────────┼───────────────────┼────────────┼───────────────────┤\n",
       "│ output_layer        │ (\u001b[38;5;45mNone\u001b[0m, \u001b[38;5;34m1\u001b[0m)         │         \u001b[38;5;34m36\u001b[0m │ concat[\u001b[38;5;34m0\u001b[0m][\u001b[38;5;34m0\u001b[0m]      │\n",
       "│ (\u001b[38;5;33mDense\u001b[0m)             │                   │            │                   │\n",
       "└─────────────────────┴───────────────────┴────────────┴───────────────────┘\n"
      ]
     },
     "metadata": {},
     "output_type": "display_data"
    },
    {
     "data": {
      "text/html": [
       "<pre style=\"white-space:pre;overflow-x:auto;line-height:normal;font-family:Menlo,'DejaVu Sans Mono',consolas,'Courier New',monospace\"><span style=\"font-weight: bold\"> Total params: </span><span style=\"color: #00af00; text-decoration-color: #00af00\">1,200</span> (4.70 KB)\n",
       "</pre>\n"
      ],
      "text/plain": [
       "\u001b[1m Total params: \u001b[0m\u001b[38;5;34m1,200\u001b[0m (4.70 KB)\n"
      ]
     },
     "metadata": {},
     "output_type": "display_data"
    },
    {
     "data": {
      "text/html": [
       "<pre style=\"white-space:pre;overflow-x:auto;line-height:normal;font-family:Menlo,'DejaVu Sans Mono',consolas,'Courier New',monospace\"><span style=\"font-weight: bold\"> Trainable params: </span><span style=\"color: #00af00; text-decoration-color: #00af00\">1,176</span> (4.59 KB)\n",
       "</pre>\n"
      ],
      "text/plain": [
       "\u001b[1m Trainable params: \u001b[0m\u001b[38;5;34m1,176\u001b[0m (4.59 KB)\n"
      ]
     },
     "metadata": {},
     "output_type": "display_data"
    },
    {
     "data": {
      "text/html": [
       "<pre style=\"white-space:pre;overflow-x:auto;line-height:normal;font-family:Menlo,'DejaVu Sans Mono',consolas,'Courier New',monospace\"><span style=\"font-weight: bold\"> Non-trainable params: </span><span style=\"color: #00af00; text-decoration-color: #00af00\">24</span> (104.00 B)\n",
       "</pre>\n"
      ],
      "text/plain": [
       "\u001b[1m Non-trainable params: \u001b[0m\u001b[38;5;34m24\u001b[0m (104.00 B)\n"
      ]
     },
     "metadata": {},
     "output_type": "display_data"
    }
   ],
   "source": [
    "tf.random.set_seed(42)\n",
    "\n",
    "input_wide = tf.keras.layers.Input(shape=[5], name=\"input_wide\")\n",
    "input_deep = tf.keras.layers.Input(shape=[6], name=\"input_deep\")\n",
    "\n",
    "norm_layer_wide = tf.keras.layers.Normalization(name=\"normalization_wide\")\n",
    "norm_layer_wide.adapt(X_train_wide)\n",
    "\n",
    "norm_layer_deep = tf.keras.layers.Normalization(name=\"normalization_deep\")\n",
    "norm_layer_deep.adapt(X_train_deep)\n",
    "\n",
    "hidden_layer_1 = tf.keras.layers.Dense(30, activation=\"relu\", name=\"hidden_1\")\n",
    "hidden_layer_2 = tf.keras.layers.Dense(30, activation=\"relu\", name=\"hidden_2\")\n",
    "\n",
    "concat_layer = tf.keras.layers.Concatenate(name=\"concat\")\n",
    "\n",
    "output_layer = tf.keras.layers.Dense(1, name=\"output_layer\")\n",
    "\n",
    "normalized_wide = norm_layer_wide(input_wide)\n",
    "\n",
    "normalized_deep = norm_layer_deep(input_deep)\n",
    "hidden1 = hidden_layer_1(normalized_deep)\n",
    "hidden2 = hidden_layer_2(hidden1)\n",
    "\n",
    "concat = concat_layer([normalized_wide, hidden2])\n",
    "\n",
    "output = output_layer(concat)\n",
    "\n",
    "model = tf.keras.Model(inputs=[input_wide, input_deep], outputs=[output])\n",
    "model.compile(loss=\"mse\", optimizer=\"Adam\", metrics=[\"RootMeanSquaredError\"])\n",
    "\n",
    "model.summary()"
   ]
  },
  {
   "cell_type": "code",
   "execution_count": 41,
   "metadata": {},
   "outputs": [
    {
     "name": "stdout",
     "output_type": "stream",
     "text": [
      "X_train_wide shape: (12000, 5)\n",
      "X_train_deep shape: (12000, 6)\n",
      "X_valid_wide shape: (4512, 5)\n",
      "X_valid_deep shape: (4512, 6)\n",
      "y_train shape: (12000,)\n",
      "y_valid shape: (4512,)\n"
     ]
    }
   ],
   "source": [
    "print(\"X_train_wide shape:\", X_train_wide.shape)\n",
    "print(\"X_train_deep shape:\", X_train_deep.shape)\n",
    "print(\"X_valid_wide shape:\", X_valid_wide.shape)\n",
    "print(\"X_valid_deep shape:\", X_valid_deep.shape)\n",
    "print(\"y_train shape:\", y_train.shape)\n",
    "print(\"y_valid shape:\", y_valid.shape)"
   ]
  },
  {
   "cell_type": "code",
   "execution_count": 42,
   "metadata": {},
   "outputs": [
    {
     "name": "stdout",
     "output_type": "stream",
     "text": [
      "Epoch 1/30\n",
      "\u001b[1m375/375\u001b[0m \u001b[32m━━━━━━━━━━━━━━━━━━━━\u001b[0m\u001b[37m\u001b[0m \u001b[1m2s\u001b[0m 3ms/step - RootMeanSquaredError: 236921.7344 - loss: 56133423104.0000 - val_RootMeanSquaredError: 236706.7344 - val_loss: 56030081024.0000\n",
      "Epoch 2/30\n",
      "\u001b[1m375/375\u001b[0m \u001b[32m━━━━━━━━━━━━━━━━━━━━\u001b[0m\u001b[37m\u001b[0m \u001b[1m1s\u001b[0m 2ms/step - RootMeanSquaredError: 236370.5781 - loss: 55872569344.0000 - val_RootMeanSquaredError: 234757.5938 - val_loss: 55111131136.0000\n",
      "Epoch 3/30\n",
      "\u001b[1m375/375\u001b[0m \u001b[32m━━━━━━━━━━━━━━━━━━━━\u001b[0m\u001b[37m\u001b[0m \u001b[1m1s\u001b[0m 2ms/step - RootMeanSquaredError: 233706.9375 - loss: 54620676096.0000 - val_RootMeanSquaredError: 229736.8750 - val_loss: 52779032576.0000\n",
      "Epoch 4/30\n",
      "\u001b[1m375/375\u001b[0m \u001b[32m━━━━━━━━━━━━━━━━━━━━\u001b[0m\u001b[37m\u001b[0m \u001b[1m1s\u001b[0m 2ms/step - RootMeanSquaredError: 227804.5625 - loss: 51897368576.0000 - val_RootMeanSquaredError: 221196.4844 - val_loss: 48927887360.0000\n",
      "Epoch 5/30\n",
      "\u001b[1m375/375\u001b[0m \u001b[32m━━━━━━━━━━━━━━━━━━━━\u001b[0m\u001b[37m\u001b[0m \u001b[1m1s\u001b[0m 2ms/step - RootMeanSquaredError: 218432.2344 - loss: 47716163584.0000 - val_RootMeanSquaredError: 209487.1719 - val_loss: 43884871680.0000\n",
      "Epoch 6/30\n",
      "\u001b[1m375/375\u001b[0m \u001b[32m━━━━━━━━━━━━━━━━━━━━\u001b[0m\u001b[37m\u001b[0m \u001b[1m1s\u001b[0m 2ms/step - RootMeanSquaredError: 206141.0938 - loss: 42498682880.0000 - val_RootMeanSquaredError: 195610.3750 - val_loss: 38263422976.0000\n",
      "Epoch 7/30\n",
      "\u001b[1m375/375\u001b[0m \u001b[32m━━━━━━━━━━━━━━━━━━━━\u001b[0m\u001b[37m\u001b[0m \u001b[1m1s\u001b[0m 2ms/step - RootMeanSquaredError: 192021.7344 - loss: 36877488128.0000 - val_RootMeanSquaredError: 180678.1094 - val_loss: 32644577280.0000\n",
      "Epoch 8/30\n",
      "\u001b[1m375/375\u001b[0m \u001b[32m━━━━━━━━━━━━━━━━━━━━\u001b[0m\u001b[37m\u001b[0m \u001b[1m1s\u001b[0m 1ms/step - RootMeanSquaredError: 177096.0469 - loss: 31368507392.0000 - val_RootMeanSquaredError: 165444.2812 - val_loss: 27371806720.0000\n",
      "Epoch 9/30\n",
      "\u001b[1m375/375\u001b[0m \u001b[32m━━━━━━━━━━━━━━━━━━━━\u001b[0m\u001b[37m\u001b[0m \u001b[1m1s\u001b[0m 2ms/step - RootMeanSquaredError: 162051.9531 - loss: 26266486784.0000 - val_RootMeanSquaredError: 150669.3750 - val_loss: 22701260800.0000\n",
      "Epoch 10/30\n",
      "\u001b[1m375/375\u001b[0m \u001b[32m━━━━━━━━━━━━━━━━━━━━\u001b[0m\u001b[37m\u001b[0m \u001b[1m1s\u001b[0m 2ms/step - RootMeanSquaredError: 147698.0625 - loss: 21820067840.0000 - val_RootMeanSquaredError: 137407.2500 - val_loss: 18880753664.0000\n",
      "Epoch 11/30\n",
      "\u001b[1m375/375\u001b[0m \u001b[32m━━━━━━━━━━━━━━━━━━━━\u001b[0m\u001b[37m\u001b[0m \u001b[1m1s\u001b[0m 2ms/step - RootMeanSquaredError: 135107.7812 - loss: 18258647040.0000 - val_RootMeanSquaredError: 126726.4297 - val_loss: 16059588608.0000\n",
      "Epoch 12/30\n",
      "\u001b[1m375/375\u001b[0m \u001b[32m━━━━━━━━━━━━━━━━━━━━\u001b[0m\u001b[37m\u001b[0m \u001b[1m1s\u001b[0m 2ms/step - RootMeanSquaredError: 125232.3359 - loss: 15686715392.0000 - val_RootMeanSquaredError: 119125.6250 - val_loss: 14190914560.0000\n",
      "Epoch 13/30\n",
      "\u001b[1m375/375\u001b[0m \u001b[32m━━━━━━━━━━━━━━━━━━━━\u001b[0m\u001b[37m\u001b[0m \u001b[1m1s\u001b[0m 2ms/step - RootMeanSquaredError: 118338.8359 - loss: 14007046144.0000 - val_RootMeanSquaredError: 114154.0703 - val_loss: 13031152640.0000\n",
      "Epoch 14/30\n",
      "\u001b[1m375/375\u001b[0m \u001b[32m━━━━━━━━━━━━━━━━━━━━\u001b[0m\u001b[37m\u001b[0m \u001b[1m1s\u001b[0m 2ms/step - RootMeanSquaredError: 113801.4531 - loss: 12953522176.0000 - val_RootMeanSquaredError: 110788.5156 - val_loss: 12274095104.0000\n",
      "Epoch 15/30\n",
      "\u001b[1m375/375\u001b[0m \u001b[32m━━━━━━━━━━━━━━━━━━━━\u001b[0m\u001b[37m\u001b[0m \u001b[1m1s\u001b[0m 2ms/step - RootMeanSquaredError: 110606.1719 - loss: 12236405760.0000 - val_RootMeanSquaredError: 108148.7969 - val_loss: 11696161792.0000\n",
      "Epoch 16/30\n",
      "\u001b[1m375/375\u001b[0m \u001b[32m━━━━━━━━━━━━━━━━━━━━\u001b[0m\u001b[37m\u001b[0m \u001b[1m1s\u001b[0m 2ms/step - RootMeanSquaredError: 107996.0156 - loss: 11665746944.0000 - val_RootMeanSquaredError: 105793.0234 - val_loss: 11192164352.0000\n",
      "Epoch 17/30\n",
      "\u001b[1m375/375\u001b[0m \u001b[32m━━━━━━━━━━━━━━━━━━━━\u001b[0m\u001b[37m\u001b[0m \u001b[1m1s\u001b[0m 2ms/step - RootMeanSquaredError: 105616.6484 - loss: 11157384192.0000 - val_RootMeanSquaredError: 103555.8047 - val_loss: 10723805184.0000\n",
      "Epoch 18/30\n",
      "\u001b[1m375/375\u001b[0m \u001b[32m━━━━━━━━━━━━━━━━━━━━\u001b[0m\u001b[37m\u001b[0m \u001b[1m1s\u001b[0m 2ms/step - RootMeanSquaredError: 103345.3828 - loss: 10682649600.0000 - val_RootMeanSquaredError: 101380.7266 - val_loss: 10278051840.0000\n",
      "Epoch 19/30\n",
      "\u001b[1m375/375\u001b[0m \u001b[32m━━━━━━━━━━━━━━━━━━━━\u001b[0m\u001b[37m\u001b[0m \u001b[1m1s\u001b[0m 2ms/step - RootMeanSquaredError: 101147.6406 - loss: 10233088000.0000 - val_RootMeanSquaredError: 99264.8125 - val_loss: 9853503488.0000\n",
      "Epoch 20/30\n",
      "\u001b[1m375/375\u001b[0m \u001b[32m━━━━━━━━━━━━━━━━━━━━\u001b[0m\u001b[37m\u001b[0m \u001b[1m1s\u001b[0m 2ms/step - RootMeanSquaredError: 99017.4844 - loss: 9806560256.0000 - val_RootMeanSquaredError: 97211.5469 - val_loss: 9450085376.0000\n",
      "Epoch 21/30\n",
      "\u001b[1m375/375\u001b[0m \u001b[32m━━━━━━━━━━━━━━━━━━━━\u001b[0m\u001b[37m\u001b[0m \u001b[1m1s\u001b[0m 2ms/step - RootMeanSquaredError: 96963.0312 - loss: 9403781120.0000 - val_RootMeanSquaredError: 95236.8672 - val_loss: 9070060544.0000\n",
      "Epoch 22/30\n",
      "\u001b[1m375/375\u001b[0m \u001b[32m━━━━━━━━━━━━━━━━━━━━\u001b[0m\u001b[37m\u001b[0m \u001b[1m1s\u001b[0m 2ms/step - RootMeanSquaredError: 94993.5547 - loss: 9025581056.0000 - val_RootMeanSquaredError: 93351.1172 - val_loss: 8714431488.0000\n",
      "Epoch 23/30\n",
      "\u001b[1m375/375\u001b[0m \u001b[32m━━━━━━━━━━━━━━━━━━━━\u001b[0m\u001b[37m\u001b[0m \u001b[1m1s\u001b[0m 2ms/step - RootMeanSquaredError: 93124.6641 - loss: 8673860608.0000 - val_RootMeanSquaredError: 91569.0703 - val_loss: 8384894464.0000\n",
      "Epoch 24/30\n",
      "\u001b[1m375/375\u001b[0m \u001b[32m━━━━━━━━━━━━━━━━━━━━\u001b[0m\u001b[37m\u001b[0m \u001b[1m1s\u001b[0m 2ms/step - RootMeanSquaredError: 91367.2109 - loss: 8349479936.0000 - val_RootMeanSquaredError: 89898.3516 - val_loss: 8081713664.0000\n",
      "Epoch 25/30\n",
      "\u001b[1m375/375\u001b[0m \u001b[32m━━━━━━━━━━━━━━━━━━━━\u001b[0m\u001b[37m\u001b[0m \u001b[1m1s\u001b[0m 2ms/step - RootMeanSquaredError: 89730.8438 - loss: 8052998144.0000 - val_RootMeanSquaredError: 88346.5156 - val_loss: 7805107200.0000\n",
      "Epoch 26/30\n",
      "\u001b[1m375/375\u001b[0m \u001b[32m━━━━━━━━━━━━━━━━━━━━\u001b[0m\u001b[37m\u001b[0m \u001b[1m1s\u001b[0m 2ms/step - RootMeanSquaredError: 88219.9531 - loss: 7784007680.0000 - val_RootMeanSquaredError: 86908.2500 - val_loss: 7553044480.0000\n",
      "Epoch 27/30\n",
      "\u001b[1m375/375\u001b[0m \u001b[32m━━━━━━━━━━━━━━━━━━━━\u001b[0m\u001b[37m\u001b[0m \u001b[1m1s\u001b[0m 2ms/step - RootMeanSquaredError: 86834.5156 - loss: 7541368832.0000 - val_RootMeanSquaredError: 85571.3906 - val_loss: 7322463232.0000\n",
      "Epoch 28/30\n",
      "\u001b[1m375/375\u001b[0m \u001b[32m━━━━━━━━━━━━━━━━━━━━\u001b[0m\u001b[37m\u001b[0m \u001b[1m1s\u001b[0m 2ms/step - RootMeanSquaredError: 85569.4688 - loss: 7323179520.0000 - val_RootMeanSquaredError: 84329.2500 - val_loss: 7111421952.0000\n",
      "Epoch 29/30\n",
      "\u001b[1m375/375\u001b[0m \u001b[32m━━━━━━━━━━━━━━━━━━━━\u001b[0m\u001b[37m\u001b[0m \u001b[1m1s\u001b[0m 2ms/step - RootMeanSquaredError: 84401.5000 - loss: 7124583424.0000 - val_RootMeanSquaredError: 83174.0859 - val_loss: 6917929472.0000\n",
      "Epoch 30/30\n",
      "\u001b[1m375/375\u001b[0m \u001b[32m━━━━━━━━━━━━━━━━━━━━\u001b[0m\u001b[37m\u001b[0m \u001b[1m1s\u001b[0m 1ms/step - RootMeanSquaredError: 83313.7500 - loss: 6942093312.0000 - val_RootMeanSquaredError: 82103.4062 - val_loss: 6740969984.0000\n"
     ]
    }
   ],
   "source": [
    "history = model.fit(\n",
    "    (X_train_wide, X_train_deep),\n",
    "    (y_train, y_train),\n",
    "    epochs=30,\n",
    "    validation_data=((X_valid_wide, X_valid_deep), (y_valid, y_valid)),\n",
    ")"
   ]
  },
  {
   "cell_type": "code",
   "execution_count": 43,
   "metadata": {},
   "outputs": [
    {
     "data": {
      "image/png": "[encoded data removed]",
      "text/plain": [
       "<Figure size 800x500 with 1 Axes>"
      ]
     },
     "metadata": {},
     "output_type": "display_data"
    }
   ],
   "source": [
    "history_df = pd.DataFrame(history.history)\n",
    "history_df = history_df.drop([\"loss\", \"val_loss\"], axis=1)\n",
    "history_df.plot(\n",
    "    figsize=(8, 5),\n",
    "    xlim=[0, 29],\n",
    "    grid=True,\n",
    "    xlabel=\"Epoch\",\n",
    "    style=[\"r--\", \"r--.\", \"b-\", \"b--.\"],\n",
    ")\n",
    "plt.show()"
   ]
  },
  {
   "cell_type": "code",
   "execution_count": 44,
   "metadata": {},
   "outputs": [
    {
     "name": "stdout",
     "output_type": "stream",
     "text": [
      "\u001b[1m129/129\u001b[0m \u001b[32m━━━━━━━━━━━━━━━━━━━━\u001b[0m\u001b[37m\u001b[0m \u001b[1m0s\u001b[0m 944us/step - RootMeanSquaredError: 85606.8750 - loss: 7336898560.0000\n"
     ]
    },
    {
     "data": {
      "text/plain": [
       "{'RootMeanSquaredError': 84630.6796875, 'loss': 7162351616.0}"
      ]
     },
     "execution_count": 44,
     "metadata": {},
     "output_type": "execute_result"
    }
   ],
   "source": [
    "model.evaluate((X_test_wide, X_test_deep), (y_test, y_test), return_dict=True)"
   ]
  },
  {
   "cell_type": "code",
   "execution_count": 45,
   "metadata": {},
   "outputs": [
    {
     "data": {
      "text/plain": [
       "((3, 6), (3, 5))"
      ]
     },
     "execution_count": 45,
     "metadata": {},
     "output_type": "execute_result"
    }
   ],
   "source": [
    "X_new_deep, X_new_wide = X_test_deep[:3], X_test_wide[:3]\n",
    "X_new_deep.shape, X_new_wide.shape"
   ]
  },
  {
   "cell_type": "code",
   "execution_count": 46,
   "metadata": {},
   "outputs": [
    {
     "name": "stdout",
     "output_type": "stream",
     "text": [
      "\u001b[1m1/1\u001b[0m \u001b[32m━━━━━━━━━━━━━━━━━━━━\u001b[0m\u001b[37m\u001b[0m \u001b[1m0s\u001b[0m 208ms/step\n"
     ]
    },
    {
     "data": {
      "text/plain": [
       "array([[129052.57],\n",
       "       [125439.24],\n",
       "       [173517.75]], dtype=float32)"
      ]
     },
     "execution_count": 46,
     "metadata": {},
     "output_type": "execute_result"
    }
   ],
   "source": [
    "model.predict((X_new_wide, X_new_deep))"
   ]
  },
  {
   "cell_type": "markdown",
   "metadata": {},
   "source": [
    "## Multiple Output and Wide & Deep"
   ]
  },
  {
   "cell_type": "markdown",
   "metadata": {},
   "source": [
    "![](assets/multiple-output.png)"
   ]
  },
  {
   "cell_type": "markdown",
   "metadata": {},
   "source": [
    "*Reasons to have multiple output*\n",
    "\n",
    "- The task may demand it: for instance, you may want to locate and classify an object in a picture.\n",
    "- You may have multiple independent tasks bass on the same data. You could of course train multiple NN \n",
    "per task but in many cases you will get better results on all tasks by training a single NN with one output per task.\n",
    "For instance, in case of **multitask classification** on pictures of faces, you may want to recognize a face but also\n",
    "you may want to say if that face wear glasses.\n",
    "- Another approuch is for regularization tecniques. The goal is to avoid overfitting giving a weigthed \n",
    "value to each output you can make predictions based on multiple output."
   ]
  },
  {
   "cell_type": "code",
   "execution_count": 47,
   "metadata": {},
   "outputs": [
    {
     "data": {
      "text/html": [
       "<pre style=\"white-space:pre;overflow-x:auto;line-height:normal;font-family:Menlo,'DejaVu Sans Mono',consolas,'Courier New',monospace\"><span style=\"font-weight: bold\">Model: \"functional_5\"</span>\n",
       "</pre>\n"
      ],
      "text/plain": [
       "\u001b[1mModel: \"functional_5\"\u001b[0m\n"
      ]
     },
     "metadata": {},
     "output_type": "display_data"
    },
    {
     "data": {
      "text/html": [
       "<pre style=\"white-space:pre;overflow-x:auto;line-height:normal;font-family:Menlo,'DejaVu Sans Mono',consolas,'Courier New',monospace\">┏━━━━━━━━━━━━━━━━━━━━━┳━━━━━━━━━━━━━━━━━━━┳━━━━━━━━━━━━┳━━━━━━━━━━━━━━━━━━━┓\n",
       "┃<span style=\"font-weight: bold\"> Layer (type)        </span>┃<span style=\"font-weight: bold\"> Output Shape      </span>┃<span style=\"font-weight: bold\">    Param # </span>┃<span style=\"font-weight: bold\"> Connected to      </span>┃\n",
       "┡━━━━━━━━━━━━━━━━━━━━━╇━━━━━━━━━━━━━━━━━━━╇━━━━━━━━━━━━╇━━━━━━━━━━━━━━━━━━━┩\n",
       "│ input_deep          │ (<span style=\"color: #00d7ff; text-decoration-color: #00d7ff\">None</span>, <span style=\"color: #00af00; text-decoration-color: #00af00\">6</span>)         │          <span style=\"color: #00af00; text-decoration-color: #00af00\">0</span> │ -                 │\n",
       "│ (<span style=\"color: #0087ff; text-decoration-color: #0087ff\">InputLayer</span>)        │                   │            │                   │\n",
       "├─────────────────────┼───────────────────┼────────────┼───────────────────┤\n",
       "│ normalization_deep  │ (<span style=\"color: #00d7ff; text-decoration-color: #00d7ff\">None</span>, <span style=\"color: #00af00; text-decoration-color: #00af00\">6</span>)         │         <span style=\"color: #00af00; text-decoration-color: #00af00\">13</span> │ input_deep[<span style=\"color: #00af00; text-decoration-color: #00af00\">0</span>][<span style=\"color: #00af00; text-decoration-color: #00af00\">0</span>]  │\n",
       "│ (<span style=\"color: #0087ff; text-decoration-color: #0087ff\">Normalization</span>)     │                   │            │                   │\n",
       "├─────────────────────┼───────────────────┼────────────┼───────────────────┤\n",
       "│ input_wide          │ (<span style=\"color: #00d7ff; text-decoration-color: #00d7ff\">None</span>, <span style=\"color: #00af00; text-decoration-color: #00af00\">5</span>)         │          <span style=\"color: #00af00; text-decoration-color: #00af00\">0</span> │ -                 │\n",
       "│ (<span style=\"color: #0087ff; text-decoration-color: #0087ff\">InputLayer</span>)        │                   │            │                   │\n",
       "├─────────────────────┼───────────────────┼────────────┼───────────────────┤\n",
       "│ hidden_1 (<span style=\"color: #0087ff; text-decoration-color: #0087ff\">Dense</span>)    │ (<span style=\"color: #00d7ff; text-decoration-color: #00d7ff\">None</span>, <span style=\"color: #00af00; text-decoration-color: #00af00\">30</span>)        │        <span style=\"color: #00af00; text-decoration-color: #00af00\">210</span> │ normalization_de… │\n",
       "├─────────────────────┼───────────────────┼────────────┼───────────────────┤\n",
       "│ normalization_wide  │ (<span style=\"color: #00d7ff; text-decoration-color: #00d7ff\">None</span>, <span style=\"color: #00af00; text-decoration-color: #00af00\">5</span>)         │         <span style=\"color: #00af00; text-decoration-color: #00af00\">11</span> │ input_wide[<span style=\"color: #00af00; text-decoration-color: #00af00\">0</span>][<span style=\"color: #00af00; text-decoration-color: #00af00\">0</span>]  │\n",
       "│ (<span style=\"color: #0087ff; text-decoration-color: #0087ff\">Normalization</span>)     │                   │            │                   │\n",
       "├─────────────────────┼───────────────────┼────────────┼───────────────────┤\n",
       "│ hidden_2 (<span style=\"color: #0087ff; text-decoration-color: #0087ff\">Dense</span>)    │ (<span style=\"color: #00d7ff; text-decoration-color: #00d7ff\">None</span>, <span style=\"color: #00af00; text-decoration-color: #00af00\">30</span>)        │        <span style=\"color: #00af00; text-decoration-color: #00af00\">930</span> │ hidden_1[<span style=\"color: #00af00; text-decoration-color: #00af00\">0</span>][<span style=\"color: #00af00; text-decoration-color: #00af00\">0</span>]    │\n",
       "├─────────────────────┼───────────────────┼────────────┼───────────────────┤\n",
       "│ concat              │ (<span style=\"color: #00d7ff; text-decoration-color: #00d7ff\">None</span>, <span style=\"color: #00af00; text-decoration-color: #00af00\">35</span>)        │          <span style=\"color: #00af00; text-decoration-color: #00af00\">0</span> │ normalization_wi… │\n",
       "│ (<span style=\"color: #0087ff; text-decoration-color: #0087ff\">Concatenate</span>)       │                   │            │ hidden_2[<span style=\"color: #00af00; text-decoration-color: #00af00\">0</span>][<span style=\"color: #00af00; text-decoration-color: #00af00\">0</span>]    │\n",
       "├─────────────────────┼───────────────────┼────────────┼───────────────────┤\n",
       "│ output_main (<span style=\"color: #0087ff; text-decoration-color: #0087ff\">Dense</span>) │ (<span style=\"color: #00d7ff; text-decoration-color: #00d7ff\">None</span>, <span style=\"color: #00af00; text-decoration-color: #00af00\">1</span>)         │         <span style=\"color: #00af00; text-decoration-color: #00af00\">36</span> │ concat[<span style=\"color: #00af00; text-decoration-color: #00af00\">0</span>][<span style=\"color: #00af00; text-decoration-color: #00af00\">0</span>]      │\n",
       "├─────────────────────┼───────────────────┼────────────┼───────────────────┤\n",
       "│ output_aux (<span style=\"color: #0087ff; text-decoration-color: #0087ff\">Dense</span>)  │ (<span style=\"color: #00d7ff; text-decoration-color: #00d7ff\">None</span>, <span style=\"color: #00af00; text-decoration-color: #00af00\">1</span>)         │         <span style=\"color: #00af00; text-decoration-color: #00af00\">31</span> │ hidden_2[<span style=\"color: #00af00; text-decoration-color: #00af00\">0</span>][<span style=\"color: #00af00; text-decoration-color: #00af00\">0</span>]    │\n",
       "└─────────────────────┴───────────────────┴────────────┴───────────────────┘\n",
       "</pre>\n"
      ],
      "text/plain": [
       "┏━━━━━━━━━━━━━━━━━━━━━┳━━━━━━━━━━━━━━━━━━━┳━━━━━━━━━━━━┳━━━━━━━━━━━━━━━━━━━┓\n",
       "┃\u001b[1m \u001b[0m\u001b[1mLayer (type)       \u001b[0m\u001b[1m \u001b[0m┃\u001b[1m \u001b[0m\u001b[1mOutput Shape     \u001b[0m\u001b[1m \u001b[0m┃\u001b[1m \u001b[0m\u001b[1m   Param #\u001b[0m\u001b[1m \u001b[0m┃\u001b[1m \u001b[0m\u001b[1mConnected to     \u001b[0m\u001b[1m \u001b[0m┃\n",
       "┡━━━━━━━━━━━━━━━━━━━━━╇━━━━━━━━━━━━━━━━━━━╇━━━━━━━━━━━━╇━━━━━━━━━━━━━━━━━━━┩\n",
       "│ input_deep          │ (\u001b[38;5;45mNone\u001b[0m, \u001b[38;5;34m6\u001b[0m)         │          \u001b[38;5;34m0\u001b[0m │ -                 │\n",
       "│ (\u001b[38;5;33mInputLayer\u001b[0m)        │                   │            │                   │\n",
       "├─────────────────────┼───────────────────┼────────────┼───────────────────┤\n",
       "│ normalization_deep  │ (\u001b[38;5;45mNone\u001b[0m, \u001b[38;5;34m6\u001b[0m)         │         \u001b[38;5;34m13\u001b[0m │ input_deep[\u001b[38;5;34m0\u001b[0m][\u001b[38;5;34m0\u001b[0m]  │\n",
       "│ (\u001b[38;5;33mNormalization\u001b[0m)     │                   │            │                   │\n",
       "├─────────────────────┼───────────────────┼────────────┼───────────────────┤\n",
       "│ input_wide          │ (\u001b[38;5;45mNone\u001b[0m, \u001b[38;5;34m5\u001b[0m)         │          \u001b[38;5;34m0\u001b[0m │ -                 │\n",
       "│ (\u001b[38;5;33mInputLayer\u001b[0m)        │                   │            │                   │\n",
       "├─────────────────────┼───────────────────┼────────────┼───────────────────┤\n",
       "│ hidden_1 (\u001b[38;5;33mDense\u001b[0m)    │ (\u001b[38;5;45mNone\u001b[0m, \u001b[38;5;34m30\u001b[0m)        │        \u001b[38;5;34m210\u001b[0m │ normalization_de… │\n",
       "├─────────────────────┼───────────────────┼────────────┼───────────────────┤\n",
       "│ normalization_wide  │ (\u001b[38;5;45mNone\u001b[0m, \u001b[38;5;34m5\u001b[0m)         │         \u001b[38;5;34m11\u001b[0m │ input_wide[\u001b[38;5;34m0\u001b[0m][\u001b[38;5;34m0\u001b[0m]  │\n",
       "│ (\u001b[38;5;33mNormalization\u001b[0m)     │                   │            │                   │\n",
       "├─────────────────────┼───────────────────┼────────────┼───────────────────┤\n",
       "│ hidden_2 (\u001b[38;5;33mDense\u001b[0m)    │ (\u001b[38;5;45mNone\u001b[0m, \u001b[38;5;34m30\u001b[0m)        │        \u001b[38;5;34m930\u001b[0m │ hidden_1[\u001b[38;5;34m0\u001b[0m][\u001b[38;5;34m0\u001b[0m]    │\n",
       "├─────────────────────┼───────────────────┼────────────┼───────────────────┤\n",
       "│ concat              │ (\u001b[38;5;45mNone\u001b[0m, \u001b[38;5;34m35\u001b[0m)        │          \u001b[38;5;34m0\u001b[0m │ normalization_wi… │\n",
       "│ (\u001b[38;5;33mConcatenate\u001b[0m)       │                   │            │ hidden_2[\u001b[38;5;34m0\u001b[0m][\u001b[38;5;34m0\u001b[0m]    │\n",
       "├─────────────────────┼───────────────────┼────────────┼───────────────────┤\n",
       "│ output_main (\u001b[38;5;33mDense\u001b[0m) │ (\u001b[38;5;45mNone\u001b[0m, \u001b[38;5;34m1\u001b[0m)         │         \u001b[38;5;34m36\u001b[0m │ concat[\u001b[38;5;34m0\u001b[0m][\u001b[38;5;34m0\u001b[0m]      │\n",
       "├─────────────────────┼───────────────────┼────────────┼───────────────────┤\n",
       "│ output_aux (\u001b[38;5;33mDense\u001b[0m)  │ (\u001b[38;5;45mNone\u001b[0m, \u001b[38;5;34m1\u001b[0m)         │         \u001b[38;5;34m31\u001b[0m │ hidden_2[\u001b[38;5;34m0\u001b[0m][\u001b[38;5;34m0\u001b[0m]    │\n",
       "└─────────────────────┴───────────────────┴────────────┴───────────────────┘\n"
      ]
     },
     "metadata": {},
     "output_type": "display_data"
    },
    {
     "data": {
      "text/html": [
       "<pre style=\"white-space:pre;overflow-x:auto;line-height:normal;font-family:Menlo,'DejaVu Sans Mono',consolas,'Courier New',monospace\"><span style=\"font-weight: bold\"> Total params: </span><span style=\"color: #00af00; text-decoration-color: #00af00\">1,231</span> (4.82 KB)\n",
       "</pre>\n"
      ],
      "text/plain": [
       "\u001b[1m Total params: \u001b[0m\u001b[38;5;34m1,231\u001b[0m (4.82 KB)\n"
      ]
     },
     "metadata": {},
     "output_type": "display_data"
    },
    {
     "data": {
      "text/html": [
       "<pre style=\"white-space:pre;overflow-x:auto;line-height:normal;font-family:Menlo,'DejaVu Sans Mono',consolas,'Courier New',monospace\"><span style=\"font-weight: bold\"> Trainable params: </span><span style=\"color: #00af00; text-decoration-color: #00af00\">1,207</span> (4.71 KB)\n",
       "</pre>\n"
      ],
      "text/plain": [
       "\u001b[1m Trainable params: \u001b[0m\u001b[38;5;34m1,207\u001b[0m (4.71 KB)\n"
      ]
     },
     "metadata": {},
     "output_type": "display_data"
    },
    {
     "data": {
      "text/html": [
       "<pre style=\"white-space:pre;overflow-x:auto;line-height:normal;font-family:Menlo,'DejaVu Sans Mono',consolas,'Courier New',monospace\"><span style=\"font-weight: bold\"> Non-trainable params: </span><span style=\"color: #00af00; text-decoration-color: #00af00\">24</span> (104.00 B)\n",
       "</pre>\n"
      ],
      "text/plain": [
       "\u001b[1m Non-trainable params: \u001b[0m\u001b[38;5;34m24\u001b[0m (104.00 B)\n"
      ]
     },
     "metadata": {},
     "output_type": "display_data"
    }
   ],
   "source": [
    "tf.random.set_seed(42)\n",
    "\n",
    "input_wide = tf.keras.layers.Input(shape=[5], name=\"input_wide\")\n",
    "input_deep = tf.keras.layers.Input(shape=[6], name=\"input_deep\")\n",
    "\n",
    "norm_layer_wide = tf.keras.layers.Normalization(name=\"normalization_wide\")\n",
    "norm_layer_wide.adapt(X_train_wide)\n",
    "\n",
    "norm_layer_deep = tf.keras.layers.Normalization(name=\"normalization_deep\")\n",
    "norm_layer_deep.adapt(X_train_deep)\n",
    "\n",
    "hidden_layer_1 = tf.keras.layers.Dense(30, activation=\"relu\", name=\"hidden_1\")\n",
    "hidden_layer_2 = tf.keras.layers.Dense(30, activation=\"relu\", name=\"hidden_2\")\n",
    "\n",
    "concat_layer = tf.keras.layers.Concatenate(name=\"concat\")\n",
    "\n",
    "output_layer_main = tf.keras.layers.Dense(1, name=\"output_main\")\n",
    "\n",
    "output_layer_aux = tf.keras.layers.Dense(1, name=\"output_aux\")\n",
    "\n",
    "normalized_wide = norm_layer_wide(input_wide)\n",
    "\n",
    "normalized_deep = norm_layer_deep(input_deep)\n",
    "hidden1 = hidden_layer_1(normalized_deep)\n",
    "hidden2 = hidden_layer_2(hidden1)\n",
    "\n",
    "concat = concat_layer([normalized_wide, hidden2])\n",
    "\n",
    "output_main = output_layer_main(concat)\n",
    "output_aux = output_layer_aux(hidden2)\n",
    "\n",
    "model = tf.keras.Model(\n",
    "    inputs=[input_wide, input_deep], outputs=[output_main, output_aux]\n",
    ")\n",
    "model.compile(\n",
    "    loss=(\"mse\", \"mse\"),\n",
    "    loss_weights=(0.9, 0.1),\n",
    "    optimizer=\"Adam\",\n",
    "    metrics=[\"RootMeanSquaredError\", \"RootMeanSquaredError\"],\n",
    ")\n",
    "\n",
    "model.summary()"
   ]
  },
  {
   "cell_type": "code",
   "execution_count": 48,
   "metadata": {},
   "outputs": [
    {
     "name": "stdout",
     "output_type": "stream",
     "text": [
      "X_train_wide shape: (12000, 5)\n",
      "X_train_deep shape: (12000, 6)\n",
      "X_valid_wide shape: (4512, 5)\n",
      "X_valid_deep shape: (4512, 6)\n",
      "y_train shape: (12000,)\n",
      "y_valid shape: (4512,)\n"
     ]
    }
   ],
   "source": [
    "print(\"X_train_wide shape:\", X_train_wide.shape)\n",
    "print(\"X_train_deep shape:\", X_train_deep.shape)\n",
    "print(\"X_valid_wide shape:\", X_valid_wide.shape)\n",
    "print(\"X_valid_deep shape:\", X_valid_deep.shape)\n",
    "print(\"y_train shape:\", y_train.shape)\n",
    "print(\"y_valid shape:\", y_valid.shape)"
   ]
  },
  {
   "cell_type": "code",
   "execution_count": 49,
   "metadata": {},
   "outputs": [
    {
     "name": "stdout",
     "output_type": "stream",
     "text": [
      "Epoch 1/30\n",
      "\u001b[1m375/375\u001b[0m \u001b[32m━━━━━━━━━━━━━━━━━━━━\u001b[0m\u001b[37m\u001b[0m \u001b[1m2s\u001b[0m 3ms/step - loss: 56131190784.0000 - output_aux_RootMeanSquaredError: 236922.2500 - output_main_RootMeanSquaredError: 236916.4375 - val_loss: 55990374400.0000 - val_output_aux_RootMeanSquaredError: 236675.4219 - val_output_main_RootMeanSquaredError: 236617.0312\n",
      "Epoch 2/30\n",
      "\u001b[1m375/375\u001b[0m \u001b[32m━━━━━━━━━━━━━━━━━━━━\u001b[0m\u001b[37m\u001b[0m \u001b[1m1s\u001b[0m 2ms/step - loss: 55784271872.0000 - output_aux_RootMeanSquaredError: 236273.8750 - output_main_RootMeanSquaredError: 236173.6562 - val_loss: 54813908992.0000 - val_output_aux_RootMeanSquaredError: 234356.1250 - val_output_main_RootMeanSquaredError: 234097.8125\n",
      "Epoch 3/30\n",
      "\u001b[1m375/375\u001b[0m \u001b[32m━━━━━━━━━━━━━━━━━━━━\u001b[0m\u001b[37m\u001b[0m \u001b[1m1s\u001b[0m 2ms/step - loss: 54198624256.0000 - output_aux_RootMeanSquaredError: 233100.0625 - output_main_RootMeanSquaredError: 232768.5781 - val_loss: 51924348928.0000 - val_output_aux_RootMeanSquaredError: 228380.1250 - val_output_main_RootMeanSquaredError: 227812.2969\n",
      "Epoch 4/30\n",
      "\u001b[1m375/375\u001b[0m \u001b[32m━━━━━━━━━━━━━━━━━━━━\u001b[0m\u001b[37m\u001b[0m \u001b[1m1s\u001b[0m 2ms/step - loss: 50828361728.0000 - output_aux_RootMeanSquaredError: 226038.4688 - output_main_RootMeanSquaredError: 225378.2344 - val_loss: 47214493696.0000 - val_output_aux_RootMeanSquaredError: 218131.6719 - val_output_main_RootMeanSquaredError: 217195.1406\n",
      "Epoch 5/30\n",
      "\u001b[1m375/375\u001b[0m \u001b[32m━━━━━━━━━━━━━━━━━━━━\u001b[0m\u001b[37m\u001b[0m \u001b[1m1s\u001b[0m 2ms/step - loss: 45718003712.0000 - output_aux_RootMeanSquaredError: 214733.6094 - output_main_RootMeanSquaredError: 213702.0938 - val_loss: 41135419392.0000 - val_output_aux_RootMeanSquaredError: 203987.5469 - val_output_main_RootMeanSquaredError: 202688.4375\n",
      "Epoch 6/30\n",
      "\u001b[1m375/375\u001b[0m \u001b[32m━━━━━━━━━━━━━━━━━━━━\u001b[0m\u001b[37m\u001b[0m \u001b[1m1s\u001b[0m 2ms/step - loss: 39444516864.0000 - output_aux_RootMeanSquaredError: 199825.9062 - output_main_RootMeanSquaredError: 198450.4688 - val_loss: 34537193472.0000 - val_output_aux_RootMeanSquaredError: 187262.4375 - val_output_main_RootMeanSquaredError: 185683.3125\n",
      "Epoch 7/30\n",
      "\u001b[1m375/375\u001b[0m \u001b[32m━━━━━━━━━━━━━━━━━━━━\u001b[0m\u001b[37m\u001b[0m \u001b[1m1s\u001b[0m 2ms/step - loss: 32907675648.0000 - output_aux_RootMeanSquaredError: 182835.2344 - output_main_RootMeanSquaredError: 181220.3281 - val_loss: 28328955904.0000 - val_output_aux_RootMeanSquaredError: 169849.1250 - val_output_main_RootMeanSquaredError: 168140.4688\n",
      "Epoch 8/30\n",
      "\u001b[1m375/375\u001b[0m \u001b[32m━━━━━━━━━━━━━━━━━━━━\u001b[0m\u001b[37m\u001b[0m \u001b[1m1s\u001b[0m 2ms/step - loss: 26956492800.0000 - output_aux_RootMeanSquaredError: 165680.9219 - output_main_RootMeanSquaredError: 163991.0938 - val_loss: 23134859264.0000 - val_output_aux_RootMeanSquaredError: 153585.3750 - val_output_main_RootMeanSquaredError: 151935.7031\n",
      "Epoch 9/30\n",
      "\u001b[1m375/375\u001b[0m \u001b[32m━━━━━━━━━━━━━━━━━━━━\u001b[0m\u001b[37m\u001b[0m \u001b[1m1s\u001b[0m 2ms/step - loss: 22118410240.0000 - output_aux_RootMeanSquaredError: 150114.2031 - output_main_RootMeanSquaredError: 148543.3438 - val_loss: 19229802496.0000 - val_output_aux_RootMeanSquaredError: 139895.8438 - val_output_main_RootMeanSquaredError: 138534.8594\n",
      "Epoch 10/30\n",
      "\u001b[1m375/375\u001b[0m \u001b[32m━━━━━━━━━━━━━━━━━━━━\u001b[0m\u001b[37m\u001b[0m \u001b[1m1s\u001b[0m 2ms/step - loss: 18577778688.0000 - output_aux_RootMeanSquaredError: 137391.3906 - output_main_RootMeanSquaredError: 136159.4062 - val_loss: 16632116224.0000 - val_output_aux_RootMeanSquaredError: 129829.6094 - val_output_main_RootMeanSquaredError: 128869.2031\n",
      "Epoch 11/30\n",
      "\u001b[1m375/375\u001b[0m \u001b[32m━━━━━━━━━━━━━━━━━━━━\u001b[0m\u001b[37m\u001b[0m \u001b[1m1s\u001b[0m 2ms/step - loss: 16289511424.0000 - output_aux_RootMeanSquaredError: 128366.3438 - output_main_RootMeanSquaredError: 127533.4922 - val_loss: 15059224576.0000 - val_output_aux_RootMeanSquaredError: 123248.8828 - val_output_main_RootMeanSquaredError: 122656.6797\n",
      "Epoch 12/30\n",
      "\u001b[1m375/375\u001b[0m \u001b[32m━━━━━━━━━━━━━━━━━━━━\u001b[0m\u001b[37m\u001b[0m \u001b[1m1s\u001b[0m 2ms/step - loss: 14893379584.0000 - output_aux_RootMeanSquaredError: 122472.7891 - output_main_RootMeanSquaredError: 121976.7031 - val_loss: 14049494016.0000 - val_output_aux_RootMeanSquaredError: 118833.7188 - val_output_main_RootMeanSquaredError: 118496.8359\n",
      "Epoch 13/30\n",
      "\u001b[1m375/375\u001b[0m \u001b[32m━━━━━━━━━━━━━━━━━━━━\u001b[0m\u001b[37m\u001b[0m \u001b[1m1s\u001b[0m 2ms/step - loss: 13954513920.0000 - output_aux_RootMeanSquaredError: 118367.0000 - output_main_RootMeanSquaredError: 118089.2266 - val_loss: 13286375424.0000 - val_output_aux_RootMeanSquaredError: 115437.3984 - val_output_main_RootMeanSquaredError: 115247.5547\n",
      "Epoch 14/30\n",
      "\u001b[1m375/375\u001b[0m \u001b[32m━━━━━━━━━━━━━━━━━━━━\u001b[0m\u001b[37m\u001b[0m \u001b[1m1s\u001b[0m 2ms/step - loss: 13213169664.0000 - output_aux_RootMeanSquaredError: 115077.0703 - output_main_RootMeanSquaredError: 114920.2266 - val_loss: 12634004480.0000 - val_output_aux_RootMeanSquaredError: 112500.5391 - val_output_main_RootMeanSquaredError: 112390.0547\n",
      "Epoch 15/30\n",
      "\u001b[1m375/375\u001b[0m \u001b[32m━━━━━━━━━━━━━━━━━━━━\u001b[0m\u001b[37m\u001b[0m \u001b[1m1s\u001b[0m 2ms/step - loss: 12566663168.0000 - output_aux_RootMeanSquaredError: 112171.4844 - output_main_RootMeanSquaredError: 112078.9453 - val_loss: 12041518080.0000 - val_output_aux_RootMeanSquaredError: 109794.2656 - val_output_main_RootMeanSquaredError: 109727.1719\n",
      "Epoch 16/30\n",
      "\u001b[1m375/375\u001b[0m \u001b[32m━━━━━━━━━━━━━━━━━━━━\u001b[0m\u001b[37m\u001b[0m \u001b[1m1s\u001b[0m 2ms/step - loss: 11978273792.0000 - output_aux_RootMeanSquaredError: 109483.7031 - output_main_RootMeanSquaredError: 109426.5312 - val_loss: 11487270912.0000 - val_output_aux_RootMeanSquaredError: 107216.8281 - val_output_main_RootMeanSquaredError: 107174.4453\n",
      "Epoch 17/30\n",
      "\u001b[1m375/375\u001b[0m \u001b[32m━━━━━━━━━━━━━━━━━━━━\u001b[0m\u001b[37m\u001b[0m \u001b[1m1s\u001b[0m 2ms/step - loss: 11428007936.0000 - output_aux_RootMeanSquaredError: 106921.8750 - output_main_RootMeanSquaredError: 106885.1641 - val_loss: 10960092160.0000 - val_output_aux_RootMeanSquaredError: 104715.2500 - val_output_main_RootMeanSquaredError: 104687.6797\n",
      "Epoch 18/30\n",
      "\u001b[1m375/375\u001b[0m \u001b[32m━━━━━━━━━━━━━━━━━━━━\u001b[0m\u001b[37m\u001b[0m \u001b[1m1s\u001b[0m 2ms/step - loss: 10904109056.0000 - output_aux_RootMeanSquaredError: 104431.6406 - output_main_RootMeanSquaredError: 104407.4844 - val_loss: 10449509376.0000 - val_output_aux_RootMeanSquaredError: 102239.2656 - val_output_main_RootMeanSquaredError: 102221.0312\n",
      "Epoch 19/30\n",
      "\u001b[1m375/375\u001b[0m \u001b[32m━━━━━━━━━━━━━━━━━━━━\u001b[0m\u001b[37m\u001b[0m \u001b[1m1s\u001b[0m 2ms/step - loss: 10397247488.0000 - output_aux_RootMeanSquaredError: 101968.8906 - output_main_RootMeanSquaredError: 101952.8047 - val_loss: 9955165184.0000 - val_output_aux_RootMeanSquaredError: 99786.5469 - val_output_main_RootMeanSquaredError: 99774.3594\n",
      "Epoch 20/30\n",
      "\u001b[1m375/375\u001b[0m \u001b[32m━━━━━━━━━━━━━━━━━━━━\u001b[0m\u001b[37m\u001b[0m \u001b[1m1s\u001b[0m 2ms/step - loss: 9907314688.0000 - output_aux_RootMeanSquaredError: 99533.1562 - output_main_RootMeanSquaredError: 99522.4453 - val_loss: 9478738944.0000 - val_output_aux_RootMeanSquaredError: 97366.1797 - val_output_main_RootMeanSquaredError: 97357.9766\n",
      "Epoch 21/30\n",
      "\u001b[1m375/375\u001b[0m \u001b[32m━━━━━━━━━━━━━━━━━━━━\u001b[0m\u001b[37m\u001b[0m \u001b[1m1s\u001b[0m 2ms/step - loss: 9435734016.0000 - output_aux_RootMeanSquaredError: 97132.7109 - output_main_RootMeanSquaredError: 97125.6250 - val_loss: 9024514048.0000 - val_output_aux_RootMeanSquaredError: 95002.4219 - val_output_main_RootMeanSquaredError: 94996.8828\n",
      "Epoch 22/30\n",
      "\u001b[1m375/375\u001b[0m \u001b[32m━━━━━━━━━━━━━━━━━━━━\u001b[0m\u001b[37m\u001b[0m \u001b[1m1s\u001b[0m 2ms/step - loss: 8989704192.0000 - output_aux_RootMeanSquaredError: 94807.5234 - output_main_RootMeanSquaredError: 94802.8984 - val_loss: 8592188416.0000 - val_output_aux_RootMeanSquaredError: 92697.4375 - val_output_main_RootMeanSquaredError: 92693.6953\n",
      "Epoch 23/30\n",
      "\u001b[1m375/375\u001b[0m \u001b[32m━━━━━━━━━━━━━━━━━━━━\u001b[0m\u001b[37m\u001b[0m \u001b[1m1s\u001b[0m 2ms/step - loss: 8569756160.0000 - output_aux_RootMeanSquaredError: 92565.6797 - output_main_RootMeanSquaredError: 92562.7500 - val_loss: 8180840448.0000 - val_output_aux_RootMeanSquaredError: 90450.2188 - val_output_main_RootMeanSquaredError: 90447.7422\n",
      "Epoch 24/30\n",
      "\u001b[1m375/375\u001b[0m \u001b[32m━━━━━━━━━━━━━━━━━━━━\u001b[0m\u001b[37m\u001b[0m \u001b[1m1s\u001b[0m 2ms/step - loss: 8173451264.0000 - output_aux_RootMeanSquaredError: 90399.5469 - output_main_RootMeanSquaredError: 90397.7656 - val_loss: 7796643328.0000 - val_output_aux_RootMeanSquaredError: 88300.0156 - val_output_main_RootMeanSquaredError: 88298.4453\n",
      "Epoch 25/30\n",
      "\u001b[1m375/375\u001b[0m \u001b[32m━━━━━━━━━━━━━━━━━━━━\u001b[0m\u001b[37m\u001b[0m \u001b[1m1s\u001b[0m 2ms/step - loss: 7803512320.0000 - output_aux_RootMeanSquaredError: 88329.9297 - output_main_RootMeanSquaredError: 88328.9844 - val_loss: 7442711552.0000 - val_output_aux_RootMeanSquaredError: 86271.9766 - val_output_main_RootMeanSquaredError: 86271.0781\n",
      "Epoch 26/30\n",
      "\u001b[1m375/375\u001b[0m \u001b[32m━━━━━━━━━━━━━━━━━━━━\u001b[0m\u001b[37m\u001b[0m \u001b[1m1s\u001b[0m 2ms/step - loss: 7464631808.0000 - output_aux_RootMeanSquaredError: 86390.6406 - output_main_RootMeanSquaredError: 86390.3125 - val_loss: 7123399680.0000 - val_output_aux_RootMeanSquaredError: 84400.5781 - val_output_main_RootMeanSquaredError: 84400.1875\n",
      "Epoch 27/30\n",
      "\u001b[1m375/375\u001b[0m \u001b[32m━━━━━━━━━━━━━━━━━━━━\u001b[0m\u001b[37m\u001b[0m \u001b[1m1s\u001b[0m 2ms/step - loss: 7162264576.0000 - output_aux_RootMeanSquaredError: 84622.7656 - output_main_RootMeanSquaredError: 84622.8984 - val_loss: 6841984000.0000 - val_output_aux_RootMeanSquaredError: 82716.2266 - val_output_main_RootMeanSquaredError: 82716.2812\n",
      "Epoch 28/30\n",
      "\u001b[1m375/375\u001b[0m \u001b[32m━━━━━━━━━━━━━━━━━━━━\u001b[0m\u001b[37m\u001b[0m \u001b[1m1s\u001b[0m 2ms/step - loss: 6899472896.0000 - output_aux_RootMeanSquaredError: 83055.6719 - output_main_RootMeanSquaredError: 83056.1875 - val_loss: 6600753152.0000 - val_output_aux_RootMeanSquaredError: 81244.6797 - val_output_main_RootMeanSquaredError: 81245.0625\n",
      "Epoch 29/30\n",
      "\u001b[1m375/375\u001b[0m \u001b[32m━━━━━━━━━━━━━━━━━━━━\u001b[0m\u001b[37m\u001b[0m \u001b[1m1s\u001b[0m 2ms/step - loss: 6678528512.0000 - output_aux_RootMeanSquaredError: 81714.9453 - output_main_RootMeanSquaredError: 81715.6953 - val_loss: 6403357184.0000 - val_output_aux_RootMeanSquaredError: 80020.4609 - val_output_main_RootMeanSquaredError: 80021.0547\n",
      "Epoch 30/30\n",
      "\u001b[1m375/375\u001b[0m \u001b[32m━━━━━━━━━━━━━━━━━━━━\u001b[0m\u001b[37m\u001b[0m \u001b[1m1s\u001b[0m 2ms/step - loss: 6498586112.0000 - output_aux_RootMeanSquaredError: 80606.5469 - output_main_RootMeanSquaredError: 80607.3984 - val_loss: 6246300672.0000 - val_output_aux_RootMeanSquaredError: 79032.9766 - val_output_main_RootMeanSquaredError: 79033.6016\n"
     ]
    }
   ],
   "source": [
    "history = model.fit(\n",
    "    (X_train_wide, X_train_deep),\n",
    "    (y_train, y_train),\n",
    "    epochs=30,\n",
    "    validation_data=((X_valid_wide, X_valid_deep), (y_valid, y_valid)),\n",
    ")"
   ]
  },
  {
   "cell_type": "code",
   "execution_count": 50,
   "metadata": {},
   "outputs": [
    {
     "data": {
      "image/png": "[encoded data removed]",
      "text/plain": [
       "<Figure size 800x500 with 1 Axes>"
      ]
     },
     "metadata": {},
     "output_type": "display_data"
    }
   ],
   "source": [
    "history_df = pd.DataFrame(history.history)\n",
    "history_df = history_df.drop([\"loss\", \"val_loss\"], axis=1)\n",
    "history_df.plot(\n",
    "    figsize=(8, 5),\n",
    "    xlim=[0, 29],\n",
    "    grid=True,\n",
    "    xlabel=\"Epoch\",\n",
    "    style=[\"r-\", \"r--.\", \"b-\", \"b--.\"],\n",
    ")\n",
    "plt.show()"
   ]
  },
  {
   "cell_type": "code",
   "execution_count": 51,
   "metadata": {},
   "outputs": [
    {
     "name": "stdout",
     "output_type": "stream",
     "text": [
      "\u001b[1m129/129\u001b[0m \u001b[32m━━━━━━━━━━━━━━━━━━━━\u001b[0m\u001b[37m\u001b[0m \u001b[1m0s\u001b[0m 999us/step - loss: 6839359488.0000 - output_aux_RootMeanSquaredError: 82656.8047 - output_main_RootMeanSquaredError: 82656.8281\n"
     ]
    },
    {
     "data": {
      "text/plain": [
       "{'loss': 6716411904.0,\n",
       " 'output_aux_RootMeanSquaredError': 81953.0859375,\n",
       " 'output_main_RootMeanSquaredError': 81953.78125}"
      ]
     },
     "execution_count": 51,
     "metadata": {},
     "output_type": "execute_result"
    }
   ],
   "source": [
    "model.evaluate((X_test_wide, X_test_deep), (y_test, y_test), return_dict=True)"
   ]
  },
  {
   "cell_type": "code",
   "execution_count": 52,
   "metadata": {},
   "outputs": [
    {
     "data": {
      "text/plain": [
       "((3, 6), (3, 5))"
      ]
     },
     "execution_count": 52,
     "metadata": {},
     "output_type": "execute_result"
    }
   ],
   "source": [
    "X_new_deep, X_new_wide = X_test_deep[:3], X_test_wide[:3]\n",
    "X_new_deep.shape, X_new_wide.shape"
   ]
  },
  {
   "cell_type": "code",
   "execution_count": 53,
   "metadata": {},
   "outputs": [
    {
     "name": "stdout",
     "output_type": "stream",
     "text": [
      "\u001b[1m1/1\u001b[0m \u001b[32m━━━━━━━━━━━━━━━━━━━━\u001b[0m\u001b[37m\u001b[0m \u001b[1m0s\u001b[0m 216ms/step\n"
     ]
    },
    {
     "data": {
      "text/plain": [
       "[array([[123443.336],\n",
       "        [134594.56 ],\n",
       "        [174956.34 ]], dtype=float32),\n",
       " array([[123460.875],\n",
       "        [134583.9  ],\n",
       "        [174972.38 ]], dtype=float32)]"
      ]
     },
     "execution_count": 53,
     "metadata": {},
     "output_type": "execute_result"
    }
   ],
   "source": [
    "model.predict((X_new_wide, X_new_deep))"
   ]
  },
  {
   "cell_type": "code",
   "execution_count": 55,
   "metadata": {},
   "outputs": [
    {
     "data": {
      "text/plain": [
       "array([ 58800., 165800., 139400.], dtype=float32)"
      ]
     },
     "execution_count": 55,
     "metadata": {},
     "output_type": "execute_result"
    }
   ],
   "source": [
    "y_test[:3]"
   ]
  }
 ],
 "metadata": {
  "kernelspec": {
   "display_name": "classifier-using-keras-api",
   "language": "python",
   "name": "python3"
  },
  "language_info": {
   "codemirror_mode": {
    "name": "ipython",
    "version": 3
   },
   "file_extension": ".py",
   "mimetype": "text/x-python",
   "name": "python",
   "nbconvert_exporter": "python",
   "pygments_lexer": "ipython3",
   "version": "3.9.19"
  }
 },
 "nbformat": 4,
 "nbformat_minor": 2
}
