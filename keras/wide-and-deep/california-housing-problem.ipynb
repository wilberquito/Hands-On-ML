{
 "cells": [
  {
   "cell_type": "markdown",
   "metadata": {},
   "source": [
    "# Wide and Deep Networks"
   ]
  },
  {
   "cell_type": "code",
   "execution_count": 4,
   "metadata": {},
   "outputs": [],
   "source": [
    "import numpy as np\n",
    "import pandas as pd\n",
    "import tensorflow as tf\n",
    "import keras\n",
    "import matplotlib.pyplot as plt"
   ]
  },
  {
   "cell_type": "code",
   "execution_count": 5,
   "metadata": {},
   "outputs": [
    {
     "data": {
      "text/plain": [
       "'2.17.0'"
      ]
     },
     "execution_count": 5,
     "metadata": {},
     "output_type": "execute_result"
    }
   ],
   "source": [
    "tf.__version__"
   ]
  },
  {
   "cell_type": "code",
   "execution_count": 6,
   "metadata": {},
   "outputs": [
    {
     "data": {
      "text/plain": [
       "'3.4.1'"
      ]
     },
     "execution_count": 6,
     "metadata": {},
     "output_type": "execute_result"
    }
   ],
   "source": [
    "keras.__version__"
   ]
  },
  {
   "cell_type": "code",
   "execution_count": 7,
   "metadata": {},
   "outputs": [
    {
     "name": "stdout",
     "output_type": "stream",
     "text": [
      "Downloading data from https://storage.googleapis.com/tensorflow/tf-keras-datasets/california_housing.npz\n",
      "\u001b[1m743530/743530\u001b[0m \u001b[32m━━━━━━━━━━━━━━━━━━━━\u001b[0m\u001b[37m\u001b[0m \u001b[1m1s\u001b[0m 1us/step\n"
     ]
    }
   ],
   "source": [
    "california_housing = tf.keras.datasets.california_housing.load_data(\n",
    "    version='large', path='california_housing.npz', test_split=0.2, seed=42\n",
    ")\n",
    "(X_train_full, y_train_full), (X_test, y_test) = california_housing"
   ]
  },
  {
   "cell_type": "code",
   "execution_count": 8,
   "metadata": {},
   "outputs": [
    {
     "data": {
      "text/plain": [
       "(16512, 8)"
      ]
     },
     "execution_count": 8,
     "metadata": {},
     "output_type": "execute_result"
    }
   ],
   "source": [
    "X_train_full.shape"
   ]
  },
  {
   "cell_type": "code",
   "execution_count": 9,
   "metadata": {},
   "outputs": [
    {
     "data": {
      "text/plain": [
       "(4128, 8)"
      ]
     },
     "execution_count": 9,
     "metadata": {},
     "output_type": "execute_result"
    }
   ],
   "source": [
    "X_test.shape"
   ]
  },
  {
   "cell_type": "code",
   "execution_count": 10,
   "metadata": {},
   "outputs": [],
   "source": [
    "X_train, X_valid = X_train_full[:12000], X_train_full[12000:]\n",
    "y_train, y_valid = y_train_full[:12000], y_train_full[12000:]"
   ]
  },
  {
   "cell_type": "code",
   "execution_count": 11,
   "metadata": {},
   "outputs": [
    {
     "data": {
      "text/plain": [
       "(12000, 8)"
      ]
     },
     "execution_count": 11,
     "metadata": {},
     "output_type": "execute_result"
    }
   ],
   "source": [
    "X_train.shape"
   ]
  },
  {
   "cell_type": "code",
   "execution_count": 13,
   "metadata": {},
   "outputs": [
    {
     "data": {
      "text/plain": [
       "(4512, 8)"
      ]
     },
     "execution_count": 13,
     "metadata": {},
     "output_type": "execute_result"
    }
   ],
   "source": [
    "X_valid.shape"
   ]
  },
  {
   "cell_type": "code",
   "execution_count": 21,
   "metadata": {},
   "outputs": [
    {
     "data": {
      "text/plain": [
       "(8,)"
      ]
     },
     "execution_count": 21,
     "metadata": {},
     "output_type": "execute_result"
    }
   ],
   "source": [
    "X_train.shape[1:]"
   ]
  },
  {
   "cell_type": "markdown",
   "metadata": {},
   "source": [
    "## Just Deep"
   ]
  },
  {
   "cell_type": "markdown",
   "metadata": {},
   "source": [
    "![](assets/just-deep.png)"
   ]
  },
  {
   "cell_type": "code",
   "execution_count": 48,
   "metadata": {},
   "outputs": [
    {
     "data": {
      "text/html": [
       "<pre style=\"white-space:pre;overflow-x:auto;line-height:normal;font-family:Menlo,'DejaVu Sans Mono',consolas,'Courier New',monospace\"><span style=\"font-weight: bold\">Model: \"functional_4\"</span>\n",
       "</pre>\n"
      ],
      "text/plain": [
       "\u001b[1mModel: \"functional_4\"\u001b[0m\n"
      ]
     },
     "metadata": {},
     "output_type": "display_data"
    },
    {
     "data": {
      "text/html": [
       "<pre style=\"white-space:pre;overflow-x:auto;line-height:normal;font-family:Menlo,'DejaVu Sans Mono',consolas,'Courier New',monospace\">┏━━━━━━━━━━━━━━━━━━━━━━━━━━━━━━━━━┳━━━━━━━━━━━━━━━━━━━━━━━━┳━━━━━━━━━━━━━━━┓\n",
       "┃<span style=\"font-weight: bold\"> Layer (type)                    </span>┃<span style=\"font-weight: bold\"> Output Shape           </span>┃<span style=\"font-weight: bold\">       Param # </span>┃\n",
       "┡━━━━━━━━━━━━━━━━━━━━━━━━━━━━━━━━━╇━━━━━━━━━━━━━━━━━━━━━━━━╇━━━━━━━━━━━━━━━┩\n",
       "│ input_layer_12 (<span style=\"color: #0087ff; text-decoration-color: #0087ff\">InputLayer</span>)     │ (<span style=\"color: #00d7ff; text-decoration-color: #00d7ff\">None</span>, <span style=\"color: #00af00; text-decoration-color: #00af00\">8</span>)              │             <span style=\"color: #00af00; text-decoration-color: #00af00\">0</span> │\n",
       "├─────────────────────────────────┼────────────────────────┼───────────────┤\n",
       "│ normalization_10                │ (<span style=\"color: #00d7ff; text-decoration-color: #00d7ff\">None</span>, <span style=\"color: #00af00; text-decoration-color: #00af00\">8</span>)              │            <span style=\"color: #00af00; text-decoration-color: #00af00\">17</span> │\n",
       "│ (<span style=\"color: #0087ff; text-decoration-color: #0087ff\">Normalization</span>)                 │                        │               │\n",
       "├─────────────────────────────────┼────────────────────────┼───────────────┤\n",
       "│ dense_24 (<span style=\"color: #0087ff; text-decoration-color: #0087ff\">Dense</span>)                │ (<span style=\"color: #00d7ff; text-decoration-color: #00d7ff\">None</span>, <span style=\"color: #00af00; text-decoration-color: #00af00\">30</span>)             │           <span style=\"color: #00af00; text-decoration-color: #00af00\">270</span> │\n",
       "├─────────────────────────────────┼────────────────────────┼───────────────┤\n",
       "│ dense_25 (<span style=\"color: #0087ff; text-decoration-color: #0087ff\">Dense</span>)                │ (<span style=\"color: #00d7ff; text-decoration-color: #00d7ff\">None</span>, <span style=\"color: #00af00; text-decoration-color: #00af00\">30</span>)             │           <span style=\"color: #00af00; text-decoration-color: #00af00\">930</span> │\n",
       "├─────────────────────────────────┼────────────────────────┼───────────────┤\n",
       "│ dense_26 (<span style=\"color: #0087ff; text-decoration-color: #0087ff\">Dense</span>)                │ (<span style=\"color: #00d7ff; text-decoration-color: #00d7ff\">None</span>, <span style=\"color: #00af00; text-decoration-color: #00af00\">1</span>)              │            <span style=\"color: #00af00; text-decoration-color: #00af00\">31</span> │\n",
       "└─────────────────────────────────┴────────────────────────┴───────────────┘\n",
       "</pre>\n"
      ],
      "text/plain": [
       "┏━━━━━━━━━━━━━━━━━━━━━━━━━━━━━━━━━┳━━━━━━━━━━━━━━━━━━━━━━━━┳━━━━━━━━━━━━━━━┓\n",
       "┃\u001b[1m \u001b[0m\u001b[1mLayer (type)                   \u001b[0m\u001b[1m \u001b[0m┃\u001b[1m \u001b[0m\u001b[1mOutput Shape          \u001b[0m\u001b[1m \u001b[0m┃\u001b[1m \u001b[0m\u001b[1m      Param #\u001b[0m\u001b[1m \u001b[0m┃\n",
       "┡━━━━━━━━━━━━━━━━━━━━━━━━━━━━━━━━━╇━━━━━━━━━━━━━━━━━━━━━━━━╇━━━━━━━━━━━━━━━┩\n",
       "│ input_layer_12 (\u001b[38;5;33mInputLayer\u001b[0m)     │ (\u001b[38;5;45mNone\u001b[0m, \u001b[38;5;34m8\u001b[0m)              │             \u001b[38;5;34m0\u001b[0m │\n",
       "├─────────────────────────────────┼────────────────────────┼───────────────┤\n",
       "│ normalization_10                │ (\u001b[38;5;45mNone\u001b[0m, \u001b[38;5;34m8\u001b[0m)              │            \u001b[38;5;34m17\u001b[0m │\n",
       "│ (\u001b[38;5;33mNormalization\u001b[0m)                 │                        │               │\n",
       "├─────────────────────────────────┼────────────────────────┼───────────────┤\n",
       "│ dense_24 (\u001b[38;5;33mDense\u001b[0m)                │ (\u001b[38;5;45mNone\u001b[0m, \u001b[38;5;34m30\u001b[0m)             │           \u001b[38;5;34m270\u001b[0m │\n",
       "├─────────────────────────────────┼────────────────────────┼───────────────┤\n",
       "│ dense_25 (\u001b[38;5;33mDense\u001b[0m)                │ (\u001b[38;5;45mNone\u001b[0m, \u001b[38;5;34m30\u001b[0m)             │           \u001b[38;5;34m930\u001b[0m │\n",
       "├─────────────────────────────────┼────────────────────────┼───────────────┤\n",
       "│ dense_26 (\u001b[38;5;33mDense\u001b[0m)                │ (\u001b[38;5;45mNone\u001b[0m, \u001b[38;5;34m1\u001b[0m)              │            \u001b[38;5;34m31\u001b[0m │\n",
       "└─────────────────────────────────┴────────────────────────┴───────────────┘\n"
      ]
     },
     "metadata": {},
     "output_type": "display_data"
    },
    {
     "data": {
      "text/html": [
       "<pre style=\"white-space:pre;overflow-x:auto;line-height:normal;font-family:Menlo,'DejaVu Sans Mono',consolas,'Courier New',monospace\"><span style=\"font-weight: bold\"> Total params: </span><span style=\"color: #00af00; text-decoration-color: #00af00\">1,248</span> (4.88 KB)\n",
       "</pre>\n"
      ],
      "text/plain": [
       "\u001b[1m Total params: \u001b[0m\u001b[38;5;34m1,248\u001b[0m (4.88 KB)\n"
      ]
     },
     "metadata": {},
     "output_type": "display_data"
    },
    {
     "data": {
      "text/html": [
       "<pre style=\"white-space:pre;overflow-x:auto;line-height:normal;font-family:Menlo,'DejaVu Sans Mono',consolas,'Courier New',monospace\"><span style=\"font-weight: bold\"> Trainable params: </span><span style=\"color: #00af00; text-decoration-color: #00af00\">1,231</span> (4.81 KB)\n",
       "</pre>\n"
      ],
      "text/plain": [
       "\u001b[1m Trainable params: \u001b[0m\u001b[38;5;34m1,231\u001b[0m (4.81 KB)\n"
      ]
     },
     "metadata": {},
     "output_type": "display_data"
    },
    {
     "data": {
      "text/html": [
       "<pre style=\"white-space:pre;overflow-x:auto;line-height:normal;font-family:Menlo,'DejaVu Sans Mono',consolas,'Courier New',monospace\"><span style=\"font-weight: bold\"> Non-trainable params: </span><span style=\"color: #00af00; text-decoration-color: #00af00\">17</span> (72.00 B)\n",
       "</pre>\n"
      ],
      "text/plain": [
       "\u001b[1m Non-trainable params: \u001b[0m\u001b[38;5;34m17\u001b[0m (72.00 B)\n"
      ]
     },
     "metadata": {},
     "output_type": "display_data"
    }
   ],
   "source": [
    "tf.random.set_seed(42)\n",
    "\n",
    "normalization_layer = tf.keras.layers.Normalization()\n",
    "hidden_layer_1 = tf.keras.layers.Dense(30, activation='relu')\n",
    "hidden_layer_2 = tf.keras.layers.Dense(30, activation='relu')\n",
    "concat_layer = tf.keras.layers.Concatenate()\n",
    "output_layer = tf.keras.layers.Dense(1)\n",
    "\n",
    "input_ = tf.keras.layers.Input(shape=X_train.shape[1:])\n",
    "normalized = normalization_layer(input_)\n",
    "hidden1 = hidden_layer_1(normalized)\n",
    "hidden2 = hidden_layer_2(hidden1)\n",
    "output = output_layer(hidden2)\n",
    "\n",
    "model = tf.keras.Model(inputs=[input_], outputs=[output])\n",
    "model.compile(loss='mse', optimizer='Adam', metrics=['RootMeanSquaredError'])\n",
    "\n",
    "model.summary()"
   ]
  },
  {
   "cell_type": "code",
   "execution_count": 49,
   "metadata": {},
   "outputs": [
    {
     "data": {
      "text/plain": [
       "[<InputLayer name=input_layer_12, built=True>,\n",
       " <Normalization name=normalization_10, built=True>,\n",
       " <Dense name=dense_24, built=True>,\n",
       " <Dense name=dense_25, built=True>,\n",
       " <Dense name=dense_26, built=True>]"
      ]
     },
     "execution_count": 49,
     "metadata": {},
     "output_type": "execute_result"
    }
   ],
   "source": [
    "model.layers"
   ]
  },
  {
   "cell_type": "code",
   "execution_count": 50,
   "metadata": {},
   "outputs": [
    {
     "name": "stdout",
     "output_type": "stream",
     "text": [
      "Epoch 1/30\n",
      "\u001b[1m375/375\u001b[0m \u001b[32m━━━━━━━━━━━━━━━━━━━━\u001b[0m\u001b[37m\u001b[0m \u001b[1m1s\u001b[0m 959us/step - RootMeanSquaredError: 219402.1875 - loss: 48315940864.0000 - val_RootMeanSquaredError: 162204.5312 - val_loss: 26310307840.0000\n",
      "Epoch 2/30\n",
      "\u001b[1m375/375\u001b[0m \u001b[32m━━━━━━━━━━━━━━━━━━━━\u001b[0m\u001b[37m\u001b[0m \u001b[1m0s\u001b[0m 720us/step - RootMeanSquaredError: 162245.0938 - loss: 26333542400.0000 - val_RootMeanSquaredError: 159078.3906 - val_loss: 25305933824.0000\n",
      "Epoch 3/30\n",
      "\u001b[1m375/375\u001b[0m \u001b[32m━━━━━━━━━━━━━━━━━━━━\u001b[0m\u001b[37m\u001b[0m \u001b[1m0s\u001b[0m 764us/step - RootMeanSquaredError: 158630.3906 - loss: 25172633600.0000 - val_RootMeanSquaredError: 154272.2812 - val_loss: 23799937024.0000\n",
      "Epoch 4/30\n",
      "\u001b[1m375/375\u001b[0m \u001b[32m━━━━━━━━━━━━━━━━━━━━\u001b[0m\u001b[37m\u001b[0m \u001b[1m0s\u001b[0m 719us/step - RootMeanSquaredError: 153080.9219 - loss: 23441471488.0000 - val_RootMeanSquaredError: 147118.2656 - val_loss: 21643786240.0000\n",
      "Epoch 5/30\n",
      "\u001b[1m375/375\u001b[0m \u001b[32m━━━━━━━━━━━━━━━━━━━━\u001b[0m\u001b[37m\u001b[0m \u001b[1m0s\u001b[0m 774us/step - RootMeanSquaredError: 145024.8594 - loss: 21038571520.0000 - val_RootMeanSquaredError: 137238.9688 - val_loss: 18834536448.0000\n",
      "Epoch 6/30\n",
      "\u001b[1m375/375\u001b[0m \u001b[32m━━━━━━━━━━━━━━━━━━━━\u001b[0m\u001b[37m\u001b[0m \u001b[1m0s\u001b[0m 695us/step - RootMeanSquaredError: 134199.5312 - loss: 18014717952.0000 - val_RootMeanSquaredError: 125056.5859 - val_loss: 15639150592.0000\n",
      "Epoch 7/30\n",
      "\u001b[1m375/375\u001b[0m \u001b[32m━━━━━━━━━━━━━━━━━━━━\u001b[0m\u001b[37m\u001b[0m \u001b[1m0s\u001b[0m 696us/step - RootMeanSquaredError: 121590.7734 - loss: 14787930112.0000 - val_RootMeanSquaredError: 113854.9297 - val_loss: 12962945024.0000\n",
      "Epoch 8/30\n",
      "\u001b[1m375/375\u001b[0m \u001b[32m━━━━━━━━━━━━━━━━━━━━\u001b[0m\u001b[37m\u001b[0m \u001b[1m0s\u001b[0m 694us/step - RootMeanSquaredError: 111305.4531 - loss: 12390490112.0000 - val_RootMeanSquaredError: 107701.4141 - val_loss: 11599594496.0000\n",
      "Epoch 9/30\n",
      "\u001b[1m375/375\u001b[0m \u001b[32m━━━━━━━━━━━━━━━━━━━━\u001b[0m\u001b[37m\u001b[0m \u001b[1m0s\u001b[0m 736us/step - RootMeanSquaredError: 106421.2891 - loss: 11326268416.0000 - val_RootMeanSquaredError: 105624.8828 - val_loss: 11156615168.0000\n",
      "Epoch 10/30\n",
      "\u001b[1m375/375\u001b[0m \u001b[32m━━━━━━━━━━━━━━━━━━━━\u001b[0m\u001b[37m\u001b[0m \u001b[1m0s\u001b[0m 705us/step - RootMeanSquaredError: 104833.0078 - loss: 10990664704.0000 - val_RootMeanSquaredError: 104774.0156 - val_loss: 10977594368.0000\n",
      "Epoch 11/30\n",
      "\u001b[1m375/375\u001b[0m \u001b[32m━━━━━━━━━━━━━━━━━━━━\u001b[0m\u001b[37m\u001b[0m \u001b[1m0s\u001b[0m 697us/step - RootMeanSquaredError: 104071.7969 - loss: 10831663104.0000 - val_RootMeanSquaredError: 104180.4844 - val_loss: 10853572608.0000\n",
      "Epoch 12/30\n",
      "\u001b[1m375/375\u001b[0m \u001b[32m━━━━━━━━━━━━━━━━━━━━\u001b[0m\u001b[37m\u001b[0m \u001b[1m0s\u001b[0m 689us/step - RootMeanSquaredError: 103503.5703 - loss: 10713720832.0000 - val_RootMeanSquaredError: 103637.3750 - val_loss: 10740706304.0000\n",
      "Epoch 13/30\n",
      "\u001b[1m375/375\u001b[0m \u001b[32m━━━━━━━━━━━━━━━━━━━━\u001b[0m\u001b[37m\u001b[0m \u001b[1m0s\u001b[0m 689us/step - RootMeanSquaredError: 102959.0781 - loss: 10601313280.0000 - val_RootMeanSquaredError: 103118.9531 - val_loss: 10633519104.0000\n",
      "Epoch 14/30\n",
      "\u001b[1m375/375\u001b[0m \u001b[32m━━━━━━━━━━━━━━━━━━━━\u001b[0m\u001b[37m\u001b[0m \u001b[1m0s\u001b[0m 691us/step - RootMeanSquaredError: 102430.0156 - loss: 10492652544.0000 - val_RootMeanSquaredError: 102603.4922 - val_loss: 10527476736.0000\n",
      "Epoch 15/30\n",
      "\u001b[1m375/375\u001b[0m \u001b[32m━━━━━━━━━━━━━━━━━━━━\u001b[0m\u001b[37m\u001b[0m \u001b[1m0s\u001b[0m 718us/step - RootMeanSquaredError: 101901.8672 - loss: 10384744448.0000 - val_RootMeanSquaredError: 102089.8594 - val_loss: 10422339584.0000\n",
      "Epoch 16/30\n",
      "\u001b[1m375/375\u001b[0m \u001b[32m━━━━━━━━━━━━━━━━━━━━\u001b[0m\u001b[37m\u001b[0m \u001b[1m0s\u001b[0m 717us/step - RootMeanSquaredError: 101362.9219 - loss: 10275197952.0000 - val_RootMeanSquaredError: 101564.8203 - val_loss: 10315413504.0000\n",
      "Epoch 17/30\n",
      "\u001b[1m375/375\u001b[0m \u001b[32m━━━━━━━━━━━━━━━━━━━━\u001b[0m\u001b[37m\u001b[0m \u001b[1m0s\u001b[0m 715us/step - RootMeanSquaredError: 100812.1172 - loss: 10163853312.0000 - val_RootMeanSquaredError: 101025.7812 - val_loss: 10206209024.0000\n",
      "Epoch 18/30\n",
      "\u001b[1m375/375\u001b[0m \u001b[32m━━━━━━━━━━━━━━━━━━━━\u001b[0m\u001b[37m\u001b[0m \u001b[1m0s\u001b[0m 688us/step - RootMeanSquaredError: 100254.2969 - loss: 10051710976.0000 - val_RootMeanSquaredError: 100478.0391 - val_loss: 10095836160.0000\n",
      "Epoch 19/30\n",
      "\u001b[1m375/375\u001b[0m \u001b[32m━━━━━━━━━━━━━━━━━━━━\u001b[0m\u001b[37m\u001b[0m \u001b[1m0s\u001b[0m 697us/step - RootMeanSquaredError: 99684.5391 - loss: 9937810432.0000 - val_RootMeanSquaredError: 99918.2109 - val_loss: 9983648768.0000\n",
      "Epoch 20/30\n",
      "\u001b[1m375/375\u001b[0m \u001b[32m━━━━━━━━━━━━━━━━━━━━\u001b[0m\u001b[37m\u001b[0m \u001b[1m0s\u001b[0m 708us/step - RootMeanSquaredError: 99106.3125 - loss: 9822877696.0000 - val_RootMeanSquaredError: 99358.0234 - val_loss: 9872016384.0000\n",
      "Epoch 21/30\n",
      "\u001b[1m375/375\u001b[0m \u001b[32m━━━━━━━━━━━━━━━━━━━━\u001b[0m\u001b[37m\u001b[0m \u001b[1m0s\u001b[0m 695us/step - RootMeanSquaredError: 98520.2969 - loss: 9707076608.0000 - val_RootMeanSquaredError: 98790.4766 - val_loss: 9759558656.0000\n",
      "Epoch 22/30\n",
      "\u001b[1m375/375\u001b[0m \u001b[32m━━━━━━━━━━━━━━━━━━━━\u001b[0m\u001b[37m\u001b[0m \u001b[1m0s\u001b[0m 759us/step - RootMeanSquaredError: 97931.1953 - loss: 9591362560.0000 - val_RootMeanSquaredError: 98219.7109 - val_loss: 9647112192.0000\n",
      "Epoch 23/30\n",
      "\u001b[1m375/375\u001b[0m \u001b[32m━━━━━━━━━━━━━━━━━━━━\u001b[0m\u001b[37m\u001b[0m \u001b[1m0s\u001b[0m 661us/step - RootMeanSquaredError: 97336.8750 - loss: 9475324928.0000 - val_RootMeanSquaredError: 97649.7734 - val_loss: 9535478784.0000\n",
      "Epoch 24/30\n",
      "\u001b[1m375/375\u001b[0m \u001b[32m━━━━━━━━━━━━━━━━━━━━\u001b[0m\u001b[37m\u001b[0m \u001b[1m0s\u001b[0m 672us/step - RootMeanSquaredError: 96742.8984 - loss: 9360064512.0000 - val_RootMeanSquaredError: 97076.9766 - val_loss: 9423939584.0000\n",
      "Epoch 25/30\n",
      "\u001b[1m375/375\u001b[0m \u001b[32m━━━━━━━━━━━━━━━━━━━━\u001b[0m\u001b[37m\u001b[0m \u001b[1m0s\u001b[0m 696us/step - RootMeanSquaredError: 96150.5625 - loss: 9245817856.0000 - val_RootMeanSquaredError: 96506.2656 - val_loss: 9313459200.0000\n",
      "Epoch 26/30\n",
      "\u001b[1m375/375\u001b[0m \u001b[32m━━━━━━━━━━━━━━━━━━━━\u001b[0m\u001b[37m\u001b[0m \u001b[1m0s\u001b[0m 660us/step - RootMeanSquaredError: 95554.1484 - loss: 9131501568.0000 - val_RootMeanSquaredError: 95932.1484 - val_loss: 9202977792.0000\n",
      "Epoch 27/30\n",
      "\u001b[1m375/375\u001b[0m \u001b[32m━━━━━━━━━━━━━━━━━━━━\u001b[0m\u001b[37m\u001b[0m \u001b[1m0s\u001b[0m 677us/step - RootMeanSquaredError: 94974.1406 - loss: 9021012992.0000 - val_RootMeanSquaredError: 95359.2500 - val_loss: 9093387264.0000\n",
      "Epoch 28/30\n",
      "\u001b[1m375/375\u001b[0m \u001b[32m━━━━━━━━━━━━━━━━━━━━\u001b[0m\u001b[37m\u001b[0m \u001b[1m0s\u001b[0m 696us/step - RootMeanSquaredError: 94391.8125 - loss: 8910745600.0000 - val_RootMeanSquaredError: 94785.7031 - val_loss: 8984329216.0000\n",
      "Epoch 29/30\n",
      "\u001b[1m375/375\u001b[0m \u001b[32m━━━━━━━━━━━━━━━━━━━━\u001b[0m\u001b[37m\u001b[0m \u001b[1m0s\u001b[0m 767us/step - RootMeanSquaredError: 93814.0625 - loss: 8802021376.0000 - val_RootMeanSquaredError: 94230.3359 - val_loss: 8879355904.0000\n",
      "Epoch 30/30\n",
      "\u001b[1m375/375\u001b[0m \u001b[32m━━━━━━━━━━━━━━━━━━━━\u001b[0m\u001b[37m\u001b[0m \u001b[1m0s\u001b[0m 747us/step - RootMeanSquaredError: 93262.1875 - loss: 8698784768.0000 - val_RootMeanSquaredError: 93677.5156 - val_loss: 8775477248.0000\n"
     ]
    }
   ],
   "source": [
    "history = model.fit(X_train, y_train, epochs=30, validation_data=(X_valid, y_valid))"
   ]
  },
  {
   "cell_type": "code",
   "execution_count": 51,
   "metadata": {},
   "outputs": [
    {
     "data": {
      "text/html": [
       "<div>\n",
       "<style scoped>\n",
       "    .dataframe tbody tr th:only-of-type {\n",
       "        vertical-align: middle;\n",
       "    }\n",
       "\n",
       "    .dataframe tbody tr th {\n",
       "        vertical-align: top;\n",
       "    }\n",
       "\n",
       "    .dataframe thead th {\n",
       "        text-align: right;\n",
       "    }\n",
       "</style>\n",
       "<table border=\"1\" class=\"dataframe\">\n",
       "  <thead>\n",
       "    <tr style=\"text-align: right;\">\n",
       "      <th></th>\n",
       "      <th>RootMeanSquaredError</th>\n",
       "      <th>loss</th>\n",
       "      <th>val_RootMeanSquaredError</th>\n",
       "      <th>val_loss</th>\n",
       "    </tr>\n",
       "  </thead>\n",
       "  <tbody>\n",
       "    <tr>\n",
       "      <th>0</th>\n",
       "      <td>196260.156250</td>\n",
       "      <td>3.851805e+10</td>\n",
       "      <td>162204.531250</td>\n",
       "      <td>2.631031e+10</td>\n",
       "    </tr>\n",
       "    <tr>\n",
       "      <th>1</th>\n",
       "      <td>161296.312500</td>\n",
       "      <td>2.601650e+10</td>\n",
       "      <td>159078.390625</td>\n",
       "      <td>2.530593e+10</td>\n",
       "    </tr>\n",
       "    <tr>\n",
       "      <th>2</th>\n",
       "      <td>157312.531250</td>\n",
       "      <td>2.474723e+10</td>\n",
       "      <td>154272.281250</td>\n",
       "      <td>2.379994e+10</td>\n",
       "    </tr>\n",
       "    <tr>\n",
       "      <th>3</th>\n",
       "      <td>151225.125000</td>\n",
       "      <td>2.286904e+10</td>\n",
       "      <td>147118.265625</td>\n",
       "      <td>2.164379e+10</td>\n",
       "    </tr>\n",
       "    <tr>\n",
       "      <th>4</th>\n",
       "      <td>142544.062500</td>\n",
       "      <td>2.031881e+10</td>\n",
       "      <td>137238.968750</td>\n",
       "      <td>1.883454e+10</td>\n",
       "    </tr>\n",
       "    <tr>\n",
       "      <th>5</th>\n",
       "      <td>131175.625000</td>\n",
       "      <td>1.720705e+10</td>\n",
       "      <td>125056.585938</td>\n",
       "      <td>1.563915e+10</td>\n",
       "    </tr>\n",
       "    <tr>\n",
       "      <th>6</th>\n",
       "      <td>118790.859375</td>\n",
       "      <td>1.411127e+10</td>\n",
       "      <td>113854.929688</td>\n",
       "      <td>1.296295e+10</td>\n",
       "    </tr>\n",
       "    <tr>\n",
       "      <th>7</th>\n",
       "      <td>109743.828125</td>\n",
       "      <td>1.204371e+10</td>\n",
       "      <td>107701.414062</td>\n",
       "      <td>1.159959e+10</td>\n",
       "    </tr>\n",
       "    <tr>\n",
       "      <th>8</th>\n",
       "      <td>105868.117188</td>\n",
       "      <td>1.120806e+10</td>\n",
       "      <td>105624.882812</td>\n",
       "      <td>1.115662e+10</td>\n",
       "    </tr>\n",
       "    <tr>\n",
       "      <th>9</th>\n",
       "      <td>104559.078125</td>\n",
       "      <td>1.093260e+10</td>\n",
       "      <td>104774.015625</td>\n",
       "      <td>1.097759e+10</td>\n",
       "    </tr>\n",
       "    <tr>\n",
       "      <th>10</th>\n",
       "      <td>103858.718750</td>\n",
       "      <td>1.078663e+10</td>\n",
       "      <td>104180.484375</td>\n",
       "      <td>1.085357e+10</td>\n",
       "    </tr>\n",
       "    <tr>\n",
       "      <th>11</th>\n",
       "      <td>103297.171875</td>\n",
       "      <td>1.067031e+10</td>\n",
       "      <td>103637.375000</td>\n",
       "      <td>1.074071e+10</td>\n",
       "    </tr>\n",
       "    <tr>\n",
       "      <th>12</th>\n",
       "      <td>102750.617188</td>\n",
       "      <td>1.055769e+10</td>\n",
       "      <td>103118.953125</td>\n",
       "      <td>1.063352e+10</td>\n",
       "    </tr>\n",
       "    <tr>\n",
       "      <th>13</th>\n",
       "      <td>102221.796875</td>\n",
       "      <td>1.044930e+10</td>\n",
       "      <td>102603.492188</td>\n",
       "      <td>1.052748e+10</td>\n",
       "    </tr>\n",
       "    <tr>\n",
       "      <th>14</th>\n",
       "      <td>101688.843750</td>\n",
       "      <td>1.034062e+10</td>\n",
       "      <td>102089.859375</td>\n",
       "      <td>1.042234e+10</td>\n",
       "    </tr>\n",
       "    <tr>\n",
       "      <th>15</th>\n",
       "      <td>101143.968750</td>\n",
       "      <td>1.023010e+10</td>\n",
       "      <td>101564.820312</td>\n",
       "      <td>1.031541e+10</td>\n",
       "    </tr>\n",
       "    <tr>\n",
       "      <th>16</th>\n",
       "      <td>100583.960938</td>\n",
       "      <td>1.011713e+10</td>\n",
       "      <td>101025.781250</td>\n",
       "      <td>1.020621e+10</td>\n",
       "    </tr>\n",
       "    <tr>\n",
       "      <th>17</th>\n",
       "      <td>100013.656250</td>\n",
       "      <td>1.000273e+10</td>\n",
       "      <td>100478.039062</td>\n",
       "      <td>1.009584e+10</td>\n",
       "    </tr>\n",
       "    <tr>\n",
       "      <th>18</th>\n",
       "      <td>99434.351562</td>\n",
       "      <td>9.887190e+09</td>\n",
       "      <td>99918.210938</td>\n",
       "      <td>9.983649e+09</td>\n",
       "    </tr>\n",
       "    <tr>\n",
       "      <th>19</th>\n",
       "      <td>98848.289062</td>\n",
       "      <td>9.770984e+09</td>\n",
       "      <td>99358.023438</td>\n",
       "      <td>9.872016e+09</td>\n",
       "    </tr>\n",
       "    <tr>\n",
       "      <th>20</th>\n",
       "      <td>98253.265625</td>\n",
       "      <td>9.653705e+09</td>\n",
       "      <td>98790.476562</td>\n",
       "      <td>9.759559e+09</td>\n",
       "    </tr>\n",
       "    <tr>\n",
       "      <th>21</th>\n",
       "      <td>97655.351562</td>\n",
       "      <td>9.536567e+09</td>\n",
       "      <td>98219.710938</td>\n",
       "      <td>9.647112e+09</td>\n",
       "    </tr>\n",
       "    <tr>\n",
       "      <th>22</th>\n",
       "      <td>97055.468750</td>\n",
       "      <td>9.419765e+09</td>\n",
       "      <td>97649.773438</td>\n",
       "      <td>9.535479e+09</td>\n",
       "    </tr>\n",
       "    <tr>\n",
       "      <th>23</th>\n",
       "      <td>96455.187500</td>\n",
       "      <td>9.303603e+09</td>\n",
       "      <td>97076.976562</td>\n",
       "      <td>9.423940e+09</td>\n",
       "    </tr>\n",
       "    <tr>\n",
       "      <th>24</th>\n",
       "      <td>95854.945312</td>\n",
       "      <td>9.188171e+09</td>\n",
       "      <td>96506.265625</td>\n",
       "      <td>9.313459e+09</td>\n",
       "    </tr>\n",
       "    <tr>\n",
       "      <th>25</th>\n",
       "      <td>95255.671875</td>\n",
       "      <td>9.073642e+09</td>\n",
       "      <td>95932.148438</td>\n",
       "      <td>9.202978e+09</td>\n",
       "    </tr>\n",
       "    <tr>\n",
       "      <th>26</th>\n",
       "      <td>94670.109375</td>\n",
       "      <td>8.962429e+09</td>\n",
       "      <td>95359.250000</td>\n",
       "      <td>9.093387e+09</td>\n",
       "    </tr>\n",
       "    <tr>\n",
       "      <th>27</th>\n",
       "      <td>94091.023438</td>\n",
       "      <td>8.853121e+09</td>\n",
       "      <td>94785.703125</td>\n",
       "      <td>8.984329e+09</td>\n",
       "    </tr>\n",
       "    <tr>\n",
       "      <th>28</th>\n",
       "      <td>93516.585938</td>\n",
       "      <td>8.745352e+09</td>\n",
       "      <td>94230.335938</td>\n",
       "      <td>8.879356e+09</td>\n",
       "    </tr>\n",
       "    <tr>\n",
       "      <th>29</th>\n",
       "      <td>92967.695312</td>\n",
       "      <td>8.642992e+09</td>\n",
       "      <td>93677.515625</td>\n",
       "      <td>8.775477e+09</td>\n",
       "    </tr>\n",
       "  </tbody>\n",
       "</table>\n",
       "</div>"
      ],
      "text/plain": [
       "    RootMeanSquaredError          loss  val_RootMeanSquaredError      val_loss\n",
       "0          196260.156250  3.851805e+10             162204.531250  2.631031e+10\n",
       "1          161296.312500  2.601650e+10             159078.390625  2.530593e+10\n",
       "2          157312.531250  2.474723e+10             154272.281250  2.379994e+10\n",
       "3          151225.125000  2.286904e+10             147118.265625  2.164379e+10\n",
       "4          142544.062500  2.031881e+10             137238.968750  1.883454e+10\n",
       "5          131175.625000  1.720705e+10             125056.585938  1.563915e+10\n",
       "6          118790.859375  1.411127e+10             113854.929688  1.296295e+10\n",
       "7          109743.828125  1.204371e+10             107701.414062  1.159959e+10\n",
       "8          105868.117188  1.120806e+10             105624.882812  1.115662e+10\n",
       "9          104559.078125  1.093260e+10             104774.015625  1.097759e+10\n",
       "10         103858.718750  1.078663e+10             104180.484375  1.085357e+10\n",
       "11         103297.171875  1.067031e+10             103637.375000  1.074071e+10\n",
       "12         102750.617188  1.055769e+10             103118.953125  1.063352e+10\n",
       "13         102221.796875  1.044930e+10             102603.492188  1.052748e+10\n",
       "14         101688.843750  1.034062e+10             102089.859375  1.042234e+10\n",
       "15         101143.968750  1.023010e+10             101564.820312  1.031541e+10\n",
       "16         100583.960938  1.011713e+10             101025.781250  1.020621e+10\n",
       "17         100013.656250  1.000273e+10             100478.039062  1.009584e+10\n",
       "18          99434.351562  9.887190e+09              99918.210938  9.983649e+09\n",
       "19          98848.289062  9.770984e+09              99358.023438  9.872016e+09\n",
       "20          98253.265625  9.653705e+09              98790.476562  9.759559e+09\n",
       "21          97655.351562  9.536567e+09              98219.710938  9.647112e+09\n",
       "22          97055.468750  9.419765e+09              97649.773438  9.535479e+09\n",
       "23          96455.187500  9.303603e+09              97076.976562  9.423940e+09\n",
       "24          95854.945312  9.188171e+09              96506.265625  9.313459e+09\n",
       "25          95255.671875  9.073642e+09              95932.148438  9.202978e+09\n",
       "26          94670.109375  8.962429e+09              95359.250000  9.093387e+09\n",
       "27          94091.023438  8.853121e+09              94785.703125  8.984329e+09\n",
       "28          93516.585938  8.745352e+09              94230.335938  8.879356e+09\n",
       "29          92967.695312  8.642992e+09              93677.515625  8.775477e+09"
      ]
     },
     "execution_count": 51,
     "metadata": {},
     "output_type": "execute_result"
    }
   ],
   "source": [
    "history_df = pd.DataFrame(history.history)\n",
    "history_df"
   ]
  },
  {
   "cell_type": "code",
   "execution_count": 52,
   "metadata": {},
   "outputs": [
    {
     "data": {
      "image/png": "[encoded data removed]",
      "text/plain": [
       "<Figure size 800x500 with 1 Axes>"
      ]
     },
     "metadata": {},
     "output_type": "display_data"
    }
   ],
   "source": [
    "history_df.plot(\n",
    "    figsize=(8, 5),\n",
    "    xlim=[0, 29],\n",
    "    grid=True,\n",
    "    xlabel=\"Epoch\",\n",
    "    style=[\"r--\", \"r--.\", \"b-\", \"b--.\"],\n",
    ")\n",
    "plt.show()"
   ]
  },
  {
   "cell_type": "code",
   "execution_count": 53,
   "metadata": {},
   "outputs": [
    {
     "name": "stdout",
     "output_type": "stream",
     "text": [
      "\u001b[1m129/129\u001b[0m \u001b[32m━━━━━━━━━━━━━━━━━━━━\u001b[0m\u001b[37m\u001b[0m \u001b[1m0s\u001b[0m 378us/step - RootMeanSquaredError: 94450.2500 - loss: 8921778176.0000\n"
     ]
    },
    {
     "data": {
      "text/plain": [
       "[8900408320.0, 94341.9765625]"
      ]
     },
     "execution_count": 53,
     "metadata": {},
     "output_type": "execute_result"
    }
   ],
   "source": [
    "model.evaluate(X_test, y_test)"
   ]
  },
  {
   "cell_type": "markdown",
   "metadata": {},
   "source": [
    "## Wide and Deep (1)"
   ]
  },
  {
   "cell_type": "markdown",
   "metadata": {},
   "source": [
    "Lets force a NN to learn deep and complex concepts plus basic concepts"
   ]
  },
  {
   "cell_type": "markdown",
   "metadata": {},
   "source": [
    "![](assets/wide-and-deep_1.png)"
   ]
  },
  {
   "cell_type": "code",
   "execution_count": 24,
   "metadata": {},
   "outputs": [
    {
     "data": {
      "text/html": [
       "<pre style=\"white-space:pre;overflow-x:auto;line-height:normal;font-family:Menlo,'DejaVu Sans Mono',consolas,'Courier New',monospace\"><span style=\"font-weight: bold\">Model: \"functional_1\"</span>\n",
       "</pre>\n"
      ],
      "text/plain": [
       "\u001b[1mModel: \"functional_1\"\u001b[0m\n"
      ]
     },
     "metadata": {},
     "output_type": "display_data"
    },
    {
     "data": {
      "text/html": [
       "<pre style=\"white-space:pre;overflow-x:auto;line-height:normal;font-family:Menlo,'DejaVu Sans Mono',consolas,'Courier New',monospace\">┏━━━━━━━━━━━━━━━━━━━━━┳━━━━━━━━━━━━━━━━━━━┳━━━━━━━━━━━━┳━━━━━━━━━━━━━━━━━━━┓\n",
       "┃<span style=\"font-weight: bold\"> Layer (type)        </span>┃<span style=\"font-weight: bold\"> Output Shape      </span>┃<span style=\"font-weight: bold\">    Param # </span>┃<span style=\"font-weight: bold\"> Connected to      </span>┃\n",
       "┡━━━━━━━━━━━━━━━━━━━━━╇━━━━━━━━━━━━━━━━━━━╇━━━━━━━━━━━━╇━━━━━━━━━━━━━━━━━━━┩\n",
       "│ input_layer_5       │ (<span style=\"color: #00d7ff; text-decoration-color: #00d7ff\">None</span>, <span style=\"color: #00af00; text-decoration-color: #00af00\">8</span>)         │          <span style=\"color: #00af00; text-decoration-color: #00af00\">0</span> │ -                 │\n",
       "│ (<span style=\"color: #0087ff; text-decoration-color: #0087ff\">InputLayer</span>)        │                   │            │                   │\n",
       "├─────────────────────┼───────────────────┼────────────┼───────────────────┤\n",
       "│ normalization_5     │ (<span style=\"color: #00d7ff; text-decoration-color: #00d7ff\">None</span>, <span style=\"color: #00af00; text-decoration-color: #00af00\">8</span>)         │         <span style=\"color: #00af00; text-decoration-color: #00af00\">17</span> │ input_layer_5[<span style=\"color: #00af00; text-decoration-color: #00af00\">0</span>]… │\n",
       "│ (<span style=\"color: #0087ff; text-decoration-color: #0087ff\">Normalization</span>)     │                   │            │                   │\n",
       "├─────────────────────┼───────────────────┼────────────┼───────────────────┤\n",
       "│ dense_15 (<span style=\"color: #0087ff; text-decoration-color: #0087ff\">Dense</span>)    │ (<span style=\"color: #00d7ff; text-decoration-color: #00d7ff\">None</span>, <span style=\"color: #00af00; text-decoration-color: #00af00\">30</span>)        │        <span style=\"color: #00af00; text-decoration-color: #00af00\">270</span> │ normalization_5[<span style=\"color: #00af00; text-decoration-color: #00af00\">…</span> │\n",
       "├─────────────────────┼───────────────────┼────────────┼───────────────────┤\n",
       "│ dense_16 (<span style=\"color: #0087ff; text-decoration-color: #0087ff\">Dense</span>)    │ (<span style=\"color: #00d7ff; text-decoration-color: #00d7ff\">None</span>, <span style=\"color: #00af00; text-decoration-color: #00af00\">30</span>)        │        <span style=\"color: #00af00; text-decoration-color: #00af00\">930</span> │ dense_15[<span style=\"color: #00af00; text-decoration-color: #00af00\">0</span>][<span style=\"color: #00af00; text-decoration-color: #00af00\">0</span>]    │\n",
       "├─────────────────────┼───────────────────┼────────────┼───────────────────┤\n",
       "│ concatenate_5       │ (<span style=\"color: #00d7ff; text-decoration-color: #00d7ff\">None</span>, <span style=\"color: #00af00; text-decoration-color: #00af00\">38</span>)        │          <span style=\"color: #00af00; text-decoration-color: #00af00\">0</span> │ normalization_5[<span style=\"color: #00af00; text-decoration-color: #00af00\">…</span> │\n",
       "│ (<span style=\"color: #0087ff; text-decoration-color: #0087ff\">Concatenate</span>)       │                   │            │ dense_16[<span style=\"color: #00af00; text-decoration-color: #00af00\">0</span>][<span style=\"color: #00af00; text-decoration-color: #00af00\">0</span>]    │\n",
       "├─────────────────────┼───────────────────┼────────────┼───────────────────┤\n",
       "│ dense_17 (<span style=\"color: #0087ff; text-decoration-color: #0087ff\">Dense</span>)    │ (<span style=\"color: #00d7ff; text-decoration-color: #00d7ff\">None</span>, <span style=\"color: #00af00; text-decoration-color: #00af00\">1</span>)         │         <span style=\"color: #00af00; text-decoration-color: #00af00\">39</span> │ concatenate_5[<span style=\"color: #00af00; text-decoration-color: #00af00\">0</span>]… │\n",
       "└─────────────────────┴───────────────────┴────────────┴───────────────────┘\n",
       "</pre>\n"
      ],
      "text/plain": [
       "┏━━━━━━━━━━━━━━━━━━━━━┳━━━━━━━━━━━━━━━━━━━┳━━━━━━━━━━━━┳━━━━━━━━━━━━━━━━━━━┓\n",
       "┃\u001b[1m \u001b[0m\u001b[1mLayer (type)       \u001b[0m\u001b[1m \u001b[0m┃\u001b[1m \u001b[0m\u001b[1mOutput Shape     \u001b[0m\u001b[1m \u001b[0m┃\u001b[1m \u001b[0m\u001b[1m   Param #\u001b[0m\u001b[1m \u001b[0m┃\u001b[1m \u001b[0m\u001b[1mConnected to     \u001b[0m\u001b[1m \u001b[0m┃\n",
       "┡━━━━━━━━━━━━━━━━━━━━━╇━━━━━━━━━━━━━━━━━━━╇━━━━━━━━━━━━╇━━━━━━━━━━━━━━━━━━━┩\n",
       "│ input_layer_5       │ (\u001b[38;5;45mNone\u001b[0m, \u001b[38;5;34m8\u001b[0m)         │          \u001b[38;5;34m0\u001b[0m │ -                 │\n",
       "│ (\u001b[38;5;33mInputLayer\u001b[0m)        │                   │            │                   │\n",
       "├─────────────────────┼───────────────────┼────────────┼───────────────────┤\n",
       "│ normalization_5     │ (\u001b[38;5;45mNone\u001b[0m, \u001b[38;5;34m8\u001b[0m)         │         \u001b[38;5;34m17\u001b[0m │ input_layer_5[\u001b[38;5;34m0\u001b[0m]… │\n",
       "│ (\u001b[38;5;33mNormalization\u001b[0m)     │                   │            │                   │\n",
       "├─────────────────────┼───────────────────┼────────────┼───────────────────┤\n",
       "│ dense_15 (\u001b[38;5;33mDense\u001b[0m)    │ (\u001b[38;5;45mNone\u001b[0m, \u001b[38;5;34m30\u001b[0m)        │        \u001b[38;5;34m270\u001b[0m │ normalization_5[\u001b[38;5;34m…\u001b[0m │\n",
       "├─────────────────────┼───────────────────┼────────────┼───────────────────┤\n",
       "│ dense_16 (\u001b[38;5;33mDense\u001b[0m)    │ (\u001b[38;5;45mNone\u001b[0m, \u001b[38;5;34m30\u001b[0m)        │        \u001b[38;5;34m930\u001b[0m │ dense_15[\u001b[38;5;34m0\u001b[0m][\u001b[38;5;34m0\u001b[0m]    │\n",
       "├─────────────────────┼───────────────────┼────────────┼───────────────────┤\n",
       "│ concatenate_5       │ (\u001b[38;5;45mNone\u001b[0m, \u001b[38;5;34m38\u001b[0m)        │          \u001b[38;5;34m0\u001b[0m │ normalization_5[\u001b[38;5;34m…\u001b[0m │\n",
       "│ (\u001b[38;5;33mConcatenate\u001b[0m)       │                   │            │ dense_16[\u001b[38;5;34m0\u001b[0m][\u001b[38;5;34m0\u001b[0m]    │\n",
       "├─────────────────────┼───────────────────┼────────────┼───────────────────┤\n",
       "│ dense_17 (\u001b[38;5;33mDense\u001b[0m)    │ (\u001b[38;5;45mNone\u001b[0m, \u001b[38;5;34m1\u001b[0m)         │         \u001b[38;5;34m39\u001b[0m │ concatenate_5[\u001b[38;5;34m0\u001b[0m]… │\n",
       "└─────────────────────┴───────────────────┴────────────┴───────────────────┘\n"
      ]
     },
     "metadata": {},
     "output_type": "display_data"
    },
    {
     "data": {
      "text/html": [
       "<pre style=\"white-space:pre;overflow-x:auto;line-height:normal;font-family:Menlo,'DejaVu Sans Mono',consolas,'Courier New',monospace\"><span style=\"font-weight: bold\"> Total params: </span><span style=\"color: #00af00; text-decoration-color: #00af00\">1,256</span> (4.91 KB)\n",
       "</pre>\n"
      ],
      "text/plain": [
       "\u001b[1m Total params: \u001b[0m\u001b[38;5;34m1,256\u001b[0m (4.91 KB)\n"
      ]
     },
     "metadata": {},
     "output_type": "display_data"
    },
    {
     "data": {
      "text/html": [
       "<pre style=\"white-space:pre;overflow-x:auto;line-height:normal;font-family:Menlo,'DejaVu Sans Mono',consolas,'Courier New',monospace\"><span style=\"font-weight: bold\"> Trainable params: </span><span style=\"color: #00af00; text-decoration-color: #00af00\">1,239</span> (4.84 KB)\n",
       "</pre>\n"
      ],
      "text/plain": [
       "\u001b[1m Trainable params: \u001b[0m\u001b[38;5;34m1,239\u001b[0m (4.84 KB)\n"
      ]
     },
     "metadata": {},
     "output_type": "display_data"
    },
    {
     "data": {
      "text/html": [
       "<pre style=\"white-space:pre;overflow-x:auto;line-height:normal;font-family:Menlo,'DejaVu Sans Mono',consolas,'Courier New',monospace\"><span style=\"font-weight: bold\"> Non-trainable params: </span><span style=\"color: #00af00; text-decoration-color: #00af00\">17</span> (72.00 B)\n",
       "</pre>\n"
      ],
      "text/plain": [
       "\u001b[1m Non-trainable params: \u001b[0m\u001b[38;5;34m17\u001b[0m (72.00 B)\n"
      ]
     },
     "metadata": {},
     "output_type": "display_data"
    }
   ],
   "source": [
    "tf.random.set_seed(42)\n",
    "\n",
    "normalization_layer = tf.keras.layers.Normalization()\n",
    "hidden_layer_1 = tf.keras.layers.Dense(30, activation='relu')\n",
    "hidden_layer_2 = tf.keras.layers.Dense(30, activation='relu')\n",
    "concat_layer = tf.keras.layers.Concatenate()\n",
    "output_layer = tf.keras.layers.Dense(1)\n",
    "\n",
    "input_ = tf.keras.layers.Input(shape=X_train.shape[1:])\n",
    "normalized = normalization_layer(input_)\n",
    "hidden1 = hidden_layer_1(normalized)\n",
    "hidden2 = hidden_layer_2(hidden1)\n",
    "concat = concat_layer([normalized, hidden2])\n",
    "output = output_layer(concat)\n",
    "\n",
    "model = tf.keras.Model(inputs=[input_], outputs=[output])\n",
    "model.compile(loss='mse', optimizer='Adam', metrics=['RootMeanSquaredError'])\n",
    "\n",
    "model.summary()"
   ]
  },
  {
   "cell_type": "code",
   "execution_count": 25,
   "metadata": {},
   "outputs": [
    {
     "data": {
      "text/plain": [
       "[<InputLayer name=input_layer_5, built=True>,\n",
       " <Normalization name=normalization_5, built=True>,\n",
       " <Dense name=dense_15, built=True>,\n",
       " <Dense name=dense_16, built=True>,\n",
       " <Concatenate name=concatenate_5, built=True>,\n",
       " <Dense name=dense_17, built=True>]"
      ]
     },
     "execution_count": 25,
     "metadata": {},
     "output_type": "execute_result"
    }
   ],
   "source": [
    "model.layers"
   ]
  },
  {
   "cell_type": "code",
   "execution_count": 26,
   "metadata": {},
   "outputs": [
    {
     "name": "stdout",
     "output_type": "stream",
     "text": [
      "Epoch 1/30\n",
      "\u001b[1m375/375\u001b[0m \u001b[32m━━━━━━━━━━━━━━━━━━━━\u001b[0m\u001b[37m\u001b[0m \u001b[1m1s\u001b[0m 963us/step - RootMeanSquaredError: 221748.7500 - loss: 49352048640.0000 - val_RootMeanSquaredError: 162503.0156 - val_loss: 26407231488.0000\n",
      "Epoch 2/30\n",
      "\u001b[1m375/375\u001b[0m \u001b[32m━━━━━━━━━━━━━━━━━━━━\u001b[0m\u001b[37m\u001b[0m \u001b[1m0s\u001b[0m 692us/step - RootMeanSquaredError: 162613.5938 - loss: 26453217280.0000 - val_RootMeanSquaredError: 159880.0312 - val_loss: 25561626624.0000\n",
      "Epoch 3/30\n",
      "\u001b[1m375/375\u001b[0m \u001b[32m━━━━━━━━━━━━━━━━━━━━\u001b[0m\u001b[37m\u001b[0m \u001b[1m0s\u001b[0m 682us/step - RootMeanSquaredError: 159817.0000 - loss: 25550788608.0000 - val_RootMeanSquaredError: 156957.1094 - val_loss: 24635533312.0000\n",
      "Epoch 4/30\n",
      "\u001b[1m375/375\u001b[0m \u001b[32m━━━━━━━━━━━━━━━━━━━━\u001b[0m\u001b[37m\u001b[0m \u001b[1m0s\u001b[0m 704us/step - RootMeanSquaredError: 156628.3281 - loss: 24540940288.0000 - val_RootMeanSquaredError: 153297.2812 - val_loss: 23500058624.0000\n",
      "Epoch 5/30\n",
      "\u001b[1m375/375\u001b[0m \u001b[32m━━━━━━━━━━━━━━━━━━━━\u001b[0m\u001b[37m\u001b[0m \u001b[1m0s\u001b[0m 682us/step - RootMeanSquaredError: 152529.6094 - loss: 23272726528.0000 - val_RootMeanSquaredError: 148246.9688 - val_loss: 21977163776.0000\n",
      "Epoch 6/30\n",
      "\u001b[1m375/375\u001b[0m \u001b[32m━━━━━━━━━━━━━━━━━━━━\u001b[0m\u001b[37m\u001b[0m \u001b[1m0s\u001b[0m 681us/step - RootMeanSquaredError: 146795.5781 - loss: 21555095552.0000 - val_RootMeanSquaredError: 140990.0156 - val_loss: 19878182912.0000\n",
      "Epoch 7/30\n",
      "\u001b[1m375/375\u001b[0m \u001b[32m━━━━━━━━━━━━━━━━━━━━\u001b[0m\u001b[37m\u001b[0m \u001b[1m0s\u001b[0m 678us/step - RootMeanSquaredError: 138584.0625 - loss: 19210473472.0000 - val_RootMeanSquaredError: 130848.7188 - val_loss: 17121386496.0000\n",
      "Epoch 8/30\n",
      "\u001b[1m375/375\u001b[0m \u001b[32m━━━━━━━━━━━━━━━━━━━━\u001b[0m\u001b[37m\u001b[0m \u001b[1m0s\u001b[0m 698us/step - RootMeanSquaredError: 127599.8203 - loss: 16285640704.0000 - val_RootMeanSquaredError: 119327.4375 - val_loss: 14239037440.0000\n",
      "Epoch 9/30\n",
      "\u001b[1m375/375\u001b[0m \u001b[32m━━━━━━━━━━━━━━━━━━━━\u001b[0m\u001b[37m\u001b[0m \u001b[1m0s\u001b[0m 682us/step - RootMeanSquaredError: 116203.5703 - loss: 13505744896.0000 - val_RootMeanSquaredError: 110408.8828 - val_loss: 12190120960.0000\n",
      "Epoch 10/30\n",
      "\u001b[1m375/375\u001b[0m \u001b[32m━━━━━━━━━━━━━━━━━━━━\u001b[0m\u001b[37m\u001b[0m \u001b[1m0s\u001b[0m 683us/step - RootMeanSquaredError: 108523.9688 - loss: 11778424832.0000 - val_RootMeanSquaredError: 106836.9062 - val_loss: 11414124544.0000\n",
      "Epoch 11/30\n",
      "\u001b[1m375/375\u001b[0m \u001b[32m━━━━━━━━━━━━━━━━━━━━\u001b[0m\u001b[37m\u001b[0m \u001b[1m0s\u001b[0m 699us/step - RootMeanSquaredError: 105920.6484 - loss: 11219871744.0000 - val_RootMeanSquaredError: 105818.6016 - val_loss: 11197577216.0000\n",
      "Epoch 12/30\n",
      "\u001b[1m375/375\u001b[0m \u001b[32m━━━━━━━━━━━━━━━━━━━━\u001b[0m\u001b[37m\u001b[0m \u001b[1m0s\u001b[0m 666us/step - RootMeanSquaredError: 105123.2031 - loss: 11051591680.0000 - val_RootMeanSquaredError: 105277.5234 - val_loss: 11083357184.0000\n",
      "Epoch 13/30\n",
      "\u001b[1m375/375\u001b[0m \u001b[32m━━━━━━━━━━━━━━━━━━━━\u001b[0m\u001b[37m\u001b[0m \u001b[1m0s\u001b[0m 692us/step - RootMeanSquaredError: 104631.9766 - loss: 10948575232.0000 - val_RootMeanSquaredError: 104795.7422 - val_loss: 10982147072.0000\n",
      "Epoch 14/30\n",
      "\u001b[1m375/375\u001b[0m \u001b[32m━━━━━━━━━━━━━━━━━━━━\u001b[0m\u001b[37m\u001b[0m \u001b[1m0s\u001b[0m 682us/step - RootMeanSquaredError: 104166.2969 - loss: 10851350528.0000 - val_RootMeanSquaredError: 104337.8203 - val_loss: 10886380544.0000\n",
      "Epoch 15/30\n",
      "\u001b[1m375/375\u001b[0m \u001b[32m━━━━━━━━━━━━━━━━━━━━\u001b[0m\u001b[37m\u001b[0m \u001b[1m0s\u001b[0m 691us/step - RootMeanSquaredError: 103709.2812 - loss: 10756355072.0000 - val_RootMeanSquaredError: 103868.0234 - val_loss: 10788567040.0000\n",
      "Epoch 16/30\n",
      "\u001b[1m375/375\u001b[0m \u001b[32m━━━━━━━━━━━━━━━━━━━━\u001b[0m\u001b[37m\u001b[0m \u001b[1m0s\u001b[0m 708us/step - RootMeanSquaredError: 103227.3906 - loss: 10656640000.0000 - val_RootMeanSquaredError: 103372.9844 - val_loss: 10685973504.0000\n",
      "Epoch 17/30\n",
      "\u001b[1m375/375\u001b[0m \u001b[32m━━━━━━━━━━━━━━━━━━━━\u001b[0m\u001b[37m\u001b[0m \u001b[1m0s\u001b[0m 708us/step - RootMeanSquaredError: 102725.2500 - loss: 10553235456.0000 - val_RootMeanSquaredError: 102882.3281 - val_loss: 10584773632.0000\n",
      "Epoch 18/30\n",
      "\u001b[1m375/375\u001b[0m \u001b[32m━━━━━━━━━━━━━━━━━━━━\u001b[0m\u001b[37m\u001b[0m \u001b[1m0s\u001b[0m 691us/step - RootMeanSquaredError: 102209.0547 - loss: 10447461376.0000 - val_RootMeanSquaredError: 102382.6484 - val_loss: 10482206720.0000\n",
      "Epoch 19/30\n",
      "\u001b[1m375/375\u001b[0m \u001b[32m━━━━━━━━━━━━━━━━━━━━\u001b[0m\u001b[37m\u001b[0m \u001b[1m0s\u001b[0m 681us/step - RootMeanSquaredError: 101689.0781 - loss: 10341453824.0000 - val_RootMeanSquaredError: 101877.1875 - val_loss: 10378960896.0000\n",
      "Epoch 20/30\n",
      "\u001b[1m375/375\u001b[0m \u001b[32m━━━━━━━━━━━━━━━━━━━━\u001b[0m\u001b[37m\u001b[0m \u001b[1m0s\u001b[0m 712us/step - RootMeanSquaredError: 101160.2422 - loss: 10234189824.0000 - val_RootMeanSquaredError: 101352.9844 - val_loss: 10272427008.0000\n",
      "Epoch 21/30\n",
      "\u001b[1m375/375\u001b[0m \u001b[32m━━━━━━━━━━━━━━━━━━━━\u001b[0m\u001b[37m\u001b[0m \u001b[1m0s\u001b[0m 724us/step - RootMeanSquaredError: 100600.3281 - loss: 10121234432.0000 - val_RootMeanSquaredError: 100807.3828 - val_loss: 10162128896.0000\n",
      "Epoch 22/30\n",
      "\u001b[1m375/375\u001b[0m \u001b[32m━━━━━━━━━━━━━━━━━━━━\u001b[0m\u001b[37m\u001b[0m \u001b[1m0s\u001b[0m 713us/step - RootMeanSquaredError: 100017.4766 - loss: 10004322304.0000 - val_RootMeanSquaredError: 100250.0938 - val_loss: 10050080768.0000\n",
      "Epoch 23/30\n",
      "\u001b[1m375/375\u001b[0m \u001b[32m━━━━━━━━━━━━━━━━━━━━\u001b[0m\u001b[37m\u001b[0m \u001b[1m0s\u001b[0m 684us/step - RootMeanSquaredError: 99425.5938 - loss: 9886288896.0000 - val_RootMeanSquaredError: 99690.9844 - val_loss: 9938292736.0000\n",
      "Epoch 24/30\n",
      "\u001b[1m375/375\u001b[0m \u001b[32m━━━━━━━━━━━━━━━━━━━━\u001b[0m\u001b[37m\u001b[0m \u001b[1m0s\u001b[0m 694us/step - RootMeanSquaredError: 98824.1797 - loss: 9767072768.0000 - val_RootMeanSquaredError: 99131.1328 - val_loss: 9826980864.0000\n",
      "Epoch 25/30\n",
      "\u001b[1m375/375\u001b[0m \u001b[32m━━━━━━━━━━━━━━━━━━━━\u001b[0m\u001b[37m\u001b[0m \u001b[1m0s\u001b[0m 706us/step - RootMeanSquaredError: 98224.5391 - loss: 9648928768.0000 - val_RootMeanSquaredError: 98567.0625 - val_loss: 9715465216.0000\n",
      "Epoch 26/30\n",
      "\u001b[1m375/375\u001b[0m \u001b[32m━━━━━━━━━━━━━━━━━━━━\u001b[0m\u001b[37m\u001b[0m \u001b[1m0s\u001b[0m 682us/step - RootMeanSquaredError: 97628.1719 - loss: 9532144640.0000 - val_RootMeanSquaredError: 98015.3438 - val_loss: 9607007232.0000\n",
      "Epoch 27/30\n",
      "\u001b[1m375/375\u001b[0m \u001b[32m━━━━━━━━━━━━━━━━━━━━\u001b[0m\u001b[37m\u001b[0m \u001b[1m0s\u001b[0m 684us/step - RootMeanSquaredError: 97045.7188 - loss: 9418775552.0000 - val_RootMeanSquaredError: 97460.3516 - val_loss: 9498520576.0000\n",
      "Epoch 28/30\n",
      "\u001b[1m375/375\u001b[0m \u001b[32m━━━━━━━━━━━━━━━━━━━━\u001b[0m\u001b[37m\u001b[0m \u001b[1m0s\u001b[0m 691us/step - RootMeanSquaredError: 96467.8047 - loss: 9306958848.0000 - val_RootMeanSquaredError: 96917.9453 - val_loss: 9393088512.0000\n",
      "Epoch 29/30\n",
      "\u001b[1m375/375\u001b[0m \u001b[32m━━━━━━━━━━━━━━━━━━━━\u001b[0m\u001b[37m\u001b[0m \u001b[1m0s\u001b[0m 722us/step - RootMeanSquaredError: 95901.7656 - loss: 9198090240.0000 - val_RootMeanSquaredError: 96385.6328 - val_loss: 9290189824.0000\n",
      "Epoch 30/30\n",
      "\u001b[1m375/375\u001b[0m \u001b[32m━━━━━━━━━━━━━━━━━━━━\u001b[0m\u001b[37m\u001b[0m \u001b[1m0s\u001b[0m 703us/step - RootMeanSquaredError: 95344.2344 - loss: 9091481600.0000 - val_RootMeanSquaredError: 95872.9219 - val_loss: 9191616512.0000\n"
     ]
    }
   ],
   "source": [
    "history = model.fit(X_train, y_train, epochs=30, validation_data=(X_valid, y_valid))"
   ]
  },
  {
   "cell_type": "code",
   "execution_count": 27,
   "metadata": {},
   "outputs": [
    {
     "data": {
      "text/html": [
       "<div>\n",
       "<style scoped>\n",
       "    .dataframe tbody tr th:only-of-type {\n",
       "        vertical-align: middle;\n",
       "    }\n",
       "\n",
       "    .dataframe tbody tr th {\n",
       "        vertical-align: top;\n",
       "    }\n",
       "\n",
       "    .dataframe thead th {\n",
       "        text-align: right;\n",
       "    }\n",
       "</style>\n",
       "<table border=\"1\" class=\"dataframe\">\n",
       "  <thead>\n",
       "    <tr style=\"text-align: right;\">\n",
       "      <th></th>\n",
       "      <th>RootMeanSquaredError</th>\n",
       "      <th>loss</th>\n",
       "      <th>val_RootMeanSquaredError</th>\n",
       "      <th>val_loss</th>\n",
       "    </tr>\n",
       "  </thead>\n",
       "  <tbody>\n",
       "    <tr>\n",
       "      <th>0</th>\n",
       "      <td>198144.687500</td>\n",
       "      <td>3.926132e+10</td>\n",
       "      <td>162503.015625</td>\n",
       "      <td>2.640723e+10</td>\n",
       "    </tr>\n",
       "    <tr>\n",
       "      <th>1</th>\n",
       "      <td>161771.703125</td>\n",
       "      <td>2.617009e+10</td>\n",
       "      <td>159880.031250</td>\n",
       "      <td>2.556163e+10</td>\n",
       "    </tr>\n",
       "    <tr>\n",
       "      <th>2</th>\n",
       "      <td>158934.640625</td>\n",
       "      <td>2.526022e+10</td>\n",
       "      <td>156957.109375</td>\n",
       "      <td>2.463553e+10</td>\n",
       "    </tr>\n",
       "    <tr>\n",
       "      <th>3</th>\n",
       "      <td>155593.265625</td>\n",
       "      <td>2.420926e+10</td>\n",
       "      <td>153297.281250</td>\n",
       "      <td>2.350006e+10</td>\n",
       "    </tr>\n",
       "    <tr>\n",
       "      <th>4</th>\n",
       "      <td>151195.625000</td>\n",
       "      <td>2.286012e+10</td>\n",
       "      <td>148246.968750</td>\n",
       "      <td>2.197716e+10</td>\n",
       "    </tr>\n",
       "    <tr>\n",
       "      <th>5</th>\n",
       "      <td>144977.703125</td>\n",
       "      <td>2.101854e+10</td>\n",
       "      <td>140990.015625</td>\n",
       "      <td>1.987818e+10</td>\n",
       "    </tr>\n",
       "    <tr>\n",
       "      <th>6</th>\n",
       "      <td>136111.906250</td>\n",
       "      <td>1.852645e+10</td>\n",
       "      <td>130848.718750</td>\n",
       "      <td>1.712139e+10</td>\n",
       "    </tr>\n",
       "    <tr>\n",
       "      <th>7</th>\n",
       "      <td>124778.851562</td>\n",
       "      <td>1.556976e+10</td>\n",
       "      <td>119327.437500</td>\n",
       "      <td>1.423904e+10</td>\n",
       "    </tr>\n",
       "    <tr>\n",
       "      <th>8</th>\n",
       "      <td>113965.656250</td>\n",
       "      <td>1.298817e+10</td>\n",
       "      <td>110408.882812</td>\n",
       "      <td>1.219012e+10</td>\n",
       "    </tr>\n",
       "    <tr>\n",
       "      <th>9</th>\n",
       "      <td>107612.234375</td>\n",
       "      <td>1.158039e+10</td>\n",
       "      <td>106836.906250</td>\n",
       "      <td>1.141412e+10</td>\n",
       "    </tr>\n",
       "    <tr>\n",
       "      <th>10</th>\n",
       "      <td>105625.460938</td>\n",
       "      <td>1.115674e+10</td>\n",
       "      <td>105818.601562</td>\n",
       "      <td>1.119758e+10</td>\n",
       "    </tr>\n",
       "    <tr>\n",
       "      <th>11</th>\n",
       "      <td>104930.507812</td>\n",
       "      <td>1.101041e+10</td>\n",
       "      <td>105277.523438</td>\n",
       "      <td>1.108336e+10</td>\n",
       "    </tr>\n",
       "    <tr>\n",
       "      <th>12</th>\n",
       "      <td>104446.195312</td>\n",
       "      <td>1.090901e+10</td>\n",
       "      <td>104795.742188</td>\n",
       "      <td>1.098215e+10</td>\n",
       "    </tr>\n",
       "    <tr>\n",
       "      <th>13</th>\n",
       "      <td>103980.234375</td>\n",
       "      <td>1.081189e+10</td>\n",
       "      <td>104337.820312</td>\n",
       "      <td>1.088638e+10</td>\n",
       "    </tr>\n",
       "    <tr>\n",
       "      <th>14</th>\n",
       "      <td>103512.398438</td>\n",
       "      <td>1.071482e+10</td>\n",
       "      <td>103868.023438</td>\n",
       "      <td>1.078857e+10</td>\n",
       "    </tr>\n",
       "    <tr>\n",
       "      <th>15</th>\n",
       "      <td>103022.710938</td>\n",
       "      <td>1.061368e+10</td>\n",
       "      <td>103372.984375</td>\n",
       "      <td>1.068597e+10</td>\n",
       "    </tr>\n",
       "    <tr>\n",
       "      <th>16</th>\n",
       "      <td>102516.062500</td>\n",
       "      <td>1.050954e+10</td>\n",
       "      <td>102882.328125</td>\n",
       "      <td>1.058477e+10</td>\n",
       "    </tr>\n",
       "    <tr>\n",
       "      <th>17</th>\n",
       "      <td>101997.726562</td>\n",
       "      <td>1.040354e+10</td>\n",
       "      <td>102382.648438</td>\n",
       "      <td>1.048221e+10</td>\n",
       "    </tr>\n",
       "    <tr>\n",
       "      <th>18</th>\n",
       "      <td>101469.265625</td>\n",
       "      <td>1.029601e+10</td>\n",
       "      <td>101877.187500</td>\n",
       "      <td>1.037896e+10</td>\n",
       "    </tr>\n",
       "    <tr>\n",
       "      <th>19</th>\n",
       "      <td>100930.796875</td>\n",
       "      <td>1.018703e+10</td>\n",
       "      <td>101352.984375</td>\n",
       "      <td>1.027243e+10</td>\n",
       "    </tr>\n",
       "    <tr>\n",
       "      <th>20</th>\n",
       "      <td>100356.390625</td>\n",
       "      <td>1.007140e+10</td>\n",
       "      <td>100807.382812</td>\n",
       "      <td>1.016213e+10</td>\n",
       "    </tr>\n",
       "    <tr>\n",
       "      <th>21</th>\n",
       "      <td>99763.734375</td>\n",
       "      <td>9.952803e+09</td>\n",
       "      <td>100250.093750</td>\n",
       "      <td>1.005008e+10</td>\n",
       "    </tr>\n",
       "    <tr>\n",
       "      <th>22</th>\n",
       "      <td>99165.664062</td>\n",
       "      <td>9.833828e+09</td>\n",
       "      <td>99690.984375</td>\n",
       "      <td>9.938293e+09</td>\n",
       "    </tr>\n",
       "    <tr>\n",
       "      <th>23</th>\n",
       "      <td>98557.992188</td>\n",
       "      <td>9.713677e+09</td>\n",
       "      <td>99131.132812</td>\n",
       "      <td>9.826981e+09</td>\n",
       "    </tr>\n",
       "    <tr>\n",
       "      <th>24</th>\n",
       "      <td>97952.664062</td>\n",
       "      <td>9.594724e+09</td>\n",
       "      <td>98567.062500</td>\n",
       "      <td>9.715465e+09</td>\n",
       "    </tr>\n",
       "    <tr>\n",
       "      <th>25</th>\n",
       "      <td>97352.632812</td>\n",
       "      <td>9.477536e+09</td>\n",
       "      <td>98015.343750</td>\n",
       "      <td>9.607007e+09</td>\n",
       "    </tr>\n",
       "    <tr>\n",
       "      <th>26</th>\n",
       "      <td>96761.390625</td>\n",
       "      <td>9.362767e+09</td>\n",
       "      <td>97460.351562</td>\n",
       "      <td>9.498521e+09</td>\n",
       "    </tr>\n",
       "    <tr>\n",
       "      <th>27</th>\n",
       "      <td>96179.773438</td>\n",
       "      <td>9.250549e+09</td>\n",
       "      <td>96917.945312</td>\n",
       "      <td>9.393089e+09</td>\n",
       "    </tr>\n",
       "    <tr>\n",
       "      <th>28</th>\n",
       "      <td>95609.984375</td>\n",
       "      <td>9.141268e+09</td>\n",
       "      <td>96385.632812</td>\n",
       "      <td>9.290190e+09</td>\n",
       "    </tr>\n",
       "    <tr>\n",
       "      <th>29</th>\n",
       "      <td>95054.992188</td>\n",
       "      <td>9.035451e+09</td>\n",
       "      <td>95872.921875</td>\n",
       "      <td>9.191617e+09</td>\n",
       "    </tr>\n",
       "  </tbody>\n",
       "</table>\n",
       "</div>"
      ],
      "text/plain": [
       "    RootMeanSquaredError          loss  val_RootMeanSquaredError      val_loss\n",
       "0          198144.687500  3.926132e+10             162503.015625  2.640723e+10\n",
       "1          161771.703125  2.617009e+10             159880.031250  2.556163e+10\n",
       "2          158934.640625  2.526022e+10             156957.109375  2.463553e+10\n",
       "3          155593.265625  2.420926e+10             153297.281250  2.350006e+10\n",
       "4          151195.625000  2.286012e+10             148246.968750  2.197716e+10\n",
       "5          144977.703125  2.101854e+10             140990.015625  1.987818e+10\n",
       "6          136111.906250  1.852645e+10             130848.718750  1.712139e+10\n",
       "7          124778.851562  1.556976e+10             119327.437500  1.423904e+10\n",
       "8          113965.656250  1.298817e+10             110408.882812  1.219012e+10\n",
       "9          107612.234375  1.158039e+10             106836.906250  1.141412e+10\n",
       "10         105625.460938  1.115674e+10             105818.601562  1.119758e+10\n",
       "11         104930.507812  1.101041e+10             105277.523438  1.108336e+10\n",
       "12         104446.195312  1.090901e+10             104795.742188  1.098215e+10\n",
       "13         103980.234375  1.081189e+10             104337.820312  1.088638e+10\n",
       "14         103512.398438  1.071482e+10             103868.023438  1.078857e+10\n",
       "15         103022.710938  1.061368e+10             103372.984375  1.068597e+10\n",
       "16         102516.062500  1.050954e+10             102882.328125  1.058477e+10\n",
       "17         101997.726562  1.040354e+10             102382.648438  1.048221e+10\n",
       "18         101469.265625  1.029601e+10             101877.187500  1.037896e+10\n",
       "19         100930.796875  1.018703e+10             101352.984375  1.027243e+10\n",
       "20         100356.390625  1.007140e+10             100807.382812  1.016213e+10\n",
       "21          99763.734375  9.952803e+09             100250.093750  1.005008e+10\n",
       "22          99165.664062  9.833828e+09              99690.984375  9.938293e+09\n",
       "23          98557.992188  9.713677e+09              99131.132812  9.826981e+09\n",
       "24          97952.664062  9.594724e+09              98567.062500  9.715465e+09\n",
       "25          97352.632812  9.477536e+09              98015.343750  9.607007e+09\n",
       "26          96761.390625  9.362767e+09              97460.351562  9.498521e+09\n",
       "27          96179.773438  9.250549e+09              96917.945312  9.393089e+09\n",
       "28          95609.984375  9.141268e+09              96385.632812  9.290190e+09\n",
       "29          95054.992188  9.035451e+09              95872.921875  9.191617e+09"
      ]
     },
     "execution_count": 27,
     "metadata": {},
     "output_type": "execute_result"
    }
   ],
   "source": [
    "history_df = pd.DataFrame(history.history)\n",
    "history_df"
   ]
  },
  {
   "cell_type": "code",
   "execution_count": 29,
   "metadata": {},
   "outputs": [
    {
     "data": {
      "image/png": "[encoded data removed]",
      "text/plain": [
       "<Figure size 800x500 with 1 Axes>"
      ]
     },
     "metadata": {},
     "output_type": "display_data"
    }
   ],
   "source": [
    "history_df.plot(\n",
    "    figsize=(8, 5),\n",
    "    xlim=[0, 29],\n",
    "    grid=True,\n",
    "    xlabel=\"Epoch\",\n",
    "    style=[\"r--\", \"r--.\", \"b-\", \"b--.\"],\n",
    ")\n",
    "plt.show()"
   ]
  },
  {
   "cell_type": "code",
   "execution_count": 30,
   "metadata": {},
   "outputs": [
    {
     "name": "stdout",
     "output_type": "stream",
     "text": [
      "\u001b[1m129/129\u001b[0m \u001b[32m━━━━━━━━━━━━━━━━━━━━\u001b[0m\u001b[37m\u001b[0m \u001b[1m0s\u001b[0m 366us/step - RootMeanSquaredError: 96261.3125 - loss: 9267324928.0000\n"
     ]
    },
    {
     "data": {
      "text/plain": [
       "[9334300672.0, 96614.1875]"
      ]
     },
     "execution_count": 30,
     "metadata": {},
     "output_type": "execute_result"
    }
   ],
   "source": [
    "model.evaluate(X_test, y_test)"
   ]
  },
  {
   "cell_type": "code",
   "execution_count": 31,
   "metadata": {},
   "outputs": [
    {
     "name": "stdout",
     "output_type": "stream",
     "text": [
      "\u001b[1m1/1\u001b[0m \u001b[32m━━━━━━━━━━━━━━━━━━━━\u001b[0m\u001b[37m\u001b[0m \u001b[1m0s\u001b[0m 29ms/step\n"
     ]
    },
    {
     "data": {
      "text/plain": [
       "array([[206147.45],\n",
       "       [163486.77],\n",
       "       [205789.81]], dtype=float32)"
      ]
     },
     "execution_count": 31,
     "metadata": {},
     "output_type": "execute_result"
    }
   ],
   "source": [
    "X_sample = X_test[:3]\n",
    "y_proba = model.predict(X_sample)\n",
    "y_proba.round(2)"
   ]
  },
  {
   "cell_type": "markdown",
   "metadata": {},
   "source": [
    "## Wide and Deep (2)"
   ]
  },
  {
   "cell_type": "markdown",
   "metadata": {},
   "source": [
    "What if part of the input we want to handle it as a simple concepts or patterns to learn and the rest of the inputs\n",
    "should be analyzed and learned deeplier."
   ]
  },
  {
   "cell_type": "markdown",
   "metadata": {},
   "source": [
    "![](assets/wide-and-deep-multiple-inputs.png)"
   ]
  },
  {
   "cell_type": "code",
   "execution_count": 40,
   "metadata": {},
   "outputs": [
    {
     "data": {
      "text/html": [
       "<pre style=\"white-space:pre;overflow-x:auto;line-height:normal;font-family:Menlo,'DejaVu Sans Mono',consolas,'Courier New',monospace\"><span style=\"font-weight: bold\">Model: \"functional_3\"</span>\n",
       "</pre>\n"
      ],
      "text/plain": [
       "\u001b[1mModel: \"functional_3\"\u001b[0m\n"
      ]
     },
     "metadata": {},
     "output_type": "display_data"
    },
    {
     "data": {
      "text/html": [
       "<pre style=\"white-space:pre;overflow-x:auto;line-height:normal;font-family:Menlo,'DejaVu Sans Mono',consolas,'Courier New',monospace\">┏━━━━━━━━━━━━━━━━━━━━━┳━━━━━━━━━━━━━━━━━━━┳━━━━━━━━━━━━┳━━━━━━━━━━━━━━━━━━━┓\n",
       "┃<span style=\"font-weight: bold\"> Layer (type)        </span>┃<span style=\"font-weight: bold\"> Output Shape      </span>┃<span style=\"font-weight: bold\">    Param # </span>┃<span style=\"font-weight: bold\"> Connected to      </span>┃\n",
       "┡━━━━━━━━━━━━━━━━━━━━━╇━━━━━━━━━━━━━━━━━━━╇━━━━━━━━━━━━╇━━━━━━━━━━━━━━━━━━━┩\n",
       "│ input_layer_11      │ (<span style=\"color: #00d7ff; text-decoration-color: #00d7ff\">None</span>, <span style=\"color: #00af00; text-decoration-color: #00af00\">6</span>)         │          <span style=\"color: #00af00; text-decoration-color: #00af00\">0</span> │ -                 │\n",
       "│ (<span style=\"color: #0087ff; text-decoration-color: #0087ff\">InputLayer</span>)        │                   │            │                   │\n",
       "├─────────────────────┼───────────────────┼────────────┼───────────────────┤\n",
       "│ normalization_9     │ (<span style=\"color: #00d7ff; text-decoration-color: #00d7ff\">None</span>, <span style=\"color: #00af00; text-decoration-color: #00af00\">6</span>)         │         <span style=\"color: #00af00; text-decoration-color: #00af00\">13</span> │ input_layer_11[<span style=\"color: #00af00; text-decoration-color: #00af00\">0</span>… │\n",
       "│ (<span style=\"color: #0087ff; text-decoration-color: #0087ff\">Normalization</span>)     │                   │            │                   │\n",
       "├─────────────────────┼───────────────────┼────────────┼───────────────────┤\n",
       "│ input_layer_10      │ (<span style=\"color: #00d7ff; text-decoration-color: #00d7ff\">None</span>, <span style=\"color: #00af00; text-decoration-color: #00af00\">5</span>)         │          <span style=\"color: #00af00; text-decoration-color: #00af00\">0</span> │ -                 │\n",
       "│ (<span style=\"color: #0087ff; text-decoration-color: #0087ff\">InputLayer</span>)        │                   │            │                   │\n",
       "├─────────────────────┼───────────────────┼────────────┼───────────────────┤\n",
       "│ dense_21 (<span style=\"color: #0087ff; text-decoration-color: #0087ff\">Dense</span>)    │ (<span style=\"color: #00d7ff; text-decoration-color: #00d7ff\">None</span>, <span style=\"color: #00af00; text-decoration-color: #00af00\">30</span>)        │        <span style=\"color: #00af00; text-decoration-color: #00af00\">210</span> │ normalization_9[<span style=\"color: #00af00; text-decoration-color: #00af00\">…</span> │\n",
       "├─────────────────────┼───────────────────┼────────────┼───────────────────┤\n",
       "│ normalization_8     │ (<span style=\"color: #00d7ff; text-decoration-color: #00d7ff\">None</span>, <span style=\"color: #00af00; text-decoration-color: #00af00\">5</span>)         │         <span style=\"color: #00af00; text-decoration-color: #00af00\">11</span> │ input_layer_10[<span style=\"color: #00af00; text-decoration-color: #00af00\">0</span>… │\n",
       "│ (<span style=\"color: #0087ff; text-decoration-color: #0087ff\">Normalization</span>)     │                   │            │                   │\n",
       "├─────────────────────┼───────────────────┼────────────┼───────────────────┤\n",
       "│ dense_22 (<span style=\"color: #0087ff; text-decoration-color: #0087ff\">Dense</span>)    │ (<span style=\"color: #00d7ff; text-decoration-color: #00d7ff\">None</span>, <span style=\"color: #00af00; text-decoration-color: #00af00\">30</span>)        │        <span style=\"color: #00af00; text-decoration-color: #00af00\">930</span> │ dense_21[<span style=\"color: #00af00; text-decoration-color: #00af00\">0</span>][<span style=\"color: #00af00; text-decoration-color: #00af00\">0</span>]    │\n",
       "├─────────────────────┼───────────────────┼────────────┼───────────────────┤\n",
       "│ concatenate_7       │ (<span style=\"color: #00d7ff; text-decoration-color: #00d7ff\">None</span>, <span style=\"color: #00af00; text-decoration-color: #00af00\">35</span>)        │          <span style=\"color: #00af00; text-decoration-color: #00af00\">0</span> │ normalization_8[<span style=\"color: #00af00; text-decoration-color: #00af00\">…</span> │\n",
       "│ (<span style=\"color: #0087ff; text-decoration-color: #0087ff\">Concatenate</span>)       │                   │            │ dense_22[<span style=\"color: #00af00; text-decoration-color: #00af00\">0</span>][<span style=\"color: #00af00; text-decoration-color: #00af00\">0</span>]    │\n",
       "├─────────────────────┼───────────────────┼────────────┼───────────────────┤\n",
       "│ dense_23 (<span style=\"color: #0087ff; text-decoration-color: #0087ff\">Dense</span>)    │ (<span style=\"color: #00d7ff; text-decoration-color: #00d7ff\">None</span>, <span style=\"color: #00af00; text-decoration-color: #00af00\">1</span>)         │         <span style=\"color: #00af00; text-decoration-color: #00af00\">36</span> │ concatenate_7[<span style=\"color: #00af00; text-decoration-color: #00af00\">0</span>]… │\n",
       "└─────────────────────┴───────────────────┴────────────┴───────────────────┘\n",
       "</pre>\n"
      ],
      "text/plain": [
       "┏━━━━━━━━━━━━━━━━━━━━━┳━━━━━━━━━━━━━━━━━━━┳━━━━━━━━━━━━┳━━━━━━━━━━━━━━━━━━━┓\n",
       "┃\u001b[1m \u001b[0m\u001b[1mLayer (type)       \u001b[0m\u001b[1m \u001b[0m┃\u001b[1m \u001b[0m\u001b[1mOutput Shape     \u001b[0m\u001b[1m \u001b[0m┃\u001b[1m \u001b[0m\u001b[1m   Param #\u001b[0m\u001b[1m \u001b[0m┃\u001b[1m \u001b[0m\u001b[1mConnected to     \u001b[0m\u001b[1m \u001b[0m┃\n",
       "┡━━━━━━━━━━━━━━━━━━━━━╇━━━━━━━━━━━━━━━━━━━╇━━━━━━━━━━━━╇━━━━━━━━━━━━━━━━━━━┩\n",
       "│ input_layer_11      │ (\u001b[38;5;45mNone\u001b[0m, \u001b[38;5;34m6\u001b[0m)         │          \u001b[38;5;34m0\u001b[0m │ -                 │\n",
       "│ (\u001b[38;5;33mInputLayer\u001b[0m)        │                   │            │                   │\n",
       "├─────────────────────┼───────────────────┼────────────┼───────────────────┤\n",
       "│ normalization_9     │ (\u001b[38;5;45mNone\u001b[0m, \u001b[38;5;34m6\u001b[0m)         │         \u001b[38;5;34m13\u001b[0m │ input_layer_11[\u001b[38;5;34m0\u001b[0m… │\n",
       "│ (\u001b[38;5;33mNormalization\u001b[0m)     │                   │            │                   │\n",
       "├─────────────────────┼───────────────────┼────────────┼───────────────────┤\n",
       "│ input_layer_10      │ (\u001b[38;5;45mNone\u001b[0m, \u001b[38;5;34m5\u001b[0m)         │          \u001b[38;5;34m0\u001b[0m │ -                 │\n",
       "│ (\u001b[38;5;33mInputLayer\u001b[0m)        │                   │            │                   │\n",
       "├─────────────────────┼───────────────────┼────────────┼───────────────────┤\n",
       "│ dense_21 (\u001b[38;5;33mDense\u001b[0m)    │ (\u001b[38;5;45mNone\u001b[0m, \u001b[38;5;34m30\u001b[0m)        │        \u001b[38;5;34m210\u001b[0m │ normalization_9[\u001b[38;5;34m…\u001b[0m │\n",
       "├─────────────────────┼───────────────────┼────────────┼───────────────────┤\n",
       "│ normalization_8     │ (\u001b[38;5;45mNone\u001b[0m, \u001b[38;5;34m5\u001b[0m)         │         \u001b[38;5;34m11\u001b[0m │ input_layer_10[\u001b[38;5;34m0\u001b[0m… │\n",
       "│ (\u001b[38;5;33mNormalization\u001b[0m)     │                   │            │                   │\n",
       "├─────────────────────┼───────────────────┼────────────┼───────────────────┤\n",
       "│ dense_22 (\u001b[38;5;33mDense\u001b[0m)    │ (\u001b[38;5;45mNone\u001b[0m, \u001b[38;5;34m30\u001b[0m)        │        \u001b[38;5;34m930\u001b[0m │ dense_21[\u001b[38;5;34m0\u001b[0m][\u001b[38;5;34m0\u001b[0m]    │\n",
       "├─────────────────────┼───────────────────┼────────────┼───────────────────┤\n",
       "│ concatenate_7       │ (\u001b[38;5;45mNone\u001b[0m, \u001b[38;5;34m35\u001b[0m)        │          \u001b[38;5;34m0\u001b[0m │ normalization_8[\u001b[38;5;34m…\u001b[0m │\n",
       "│ (\u001b[38;5;33mConcatenate\u001b[0m)       │                   │            │ dense_22[\u001b[38;5;34m0\u001b[0m][\u001b[38;5;34m0\u001b[0m]    │\n",
       "├─────────────────────┼───────────────────┼────────────┼───────────────────┤\n",
       "│ dense_23 (\u001b[38;5;33mDense\u001b[0m)    │ (\u001b[38;5;45mNone\u001b[0m, \u001b[38;5;34m1\u001b[0m)         │         \u001b[38;5;34m36\u001b[0m │ concatenate_7[\u001b[38;5;34m0\u001b[0m]… │\n",
       "└─────────────────────┴───────────────────┴────────────┴───────────────────┘\n"
      ]
     },
     "metadata": {},
     "output_type": "display_data"
    },
    {
     "data": {
      "text/html": [
       "<pre style=\"white-space:pre;overflow-x:auto;line-height:normal;font-family:Menlo,'DejaVu Sans Mono',consolas,'Courier New',monospace\"><span style=\"font-weight: bold\"> Total params: </span><span style=\"color: #00af00; text-decoration-color: #00af00\">1,200</span> (4.70 KB)\n",
       "</pre>\n"
      ],
      "text/plain": [
       "\u001b[1m Total params: \u001b[0m\u001b[38;5;34m1,200\u001b[0m (4.70 KB)\n"
      ]
     },
     "metadata": {},
     "output_type": "display_data"
    },
    {
     "data": {
      "text/html": [
       "<pre style=\"white-space:pre;overflow-x:auto;line-height:normal;font-family:Menlo,'DejaVu Sans Mono',consolas,'Courier New',monospace\"><span style=\"font-weight: bold\"> Trainable params: </span><span style=\"color: #00af00; text-decoration-color: #00af00\">1,176</span> (4.59 KB)\n",
       "</pre>\n"
      ],
      "text/plain": [
       "\u001b[1m Trainable params: \u001b[0m\u001b[38;5;34m1,176\u001b[0m (4.59 KB)\n"
      ]
     },
     "metadata": {},
     "output_type": "display_data"
    },
    {
     "data": {
      "text/html": [
       "<pre style=\"white-space:pre;overflow-x:auto;line-height:normal;font-family:Menlo,'DejaVu Sans Mono',consolas,'Courier New',monospace\"><span style=\"font-weight: bold\"> Non-trainable params: </span><span style=\"color: #00af00; text-decoration-color: #00af00\">24</span> (104.00 B)\n",
       "</pre>\n"
      ],
      "text/plain": [
       "\u001b[1m Non-trainable params: \u001b[0m\u001b[38;5;34m24\u001b[0m (104.00 B)\n"
      ]
     },
     "metadata": {},
     "output_type": "display_data"
    }
   ],
   "source": [
    "tf.random.set_seed(42)\n",
    "\n",
    "input_wide = tf.keras.layers.Input(shape=[5])\n",
    "input_deep = tf.keras.layers.Input(shape=[6])\n",
    "\n",
    "norm_layer_wide = tf.keras.layers.Normalization()\n",
    "norm_layer_deep = tf.keras.layers.Normalization()\n",
    "\n",
    "hidden_layer_1 = tf.keras.layers.Dense(30, activation='relu')\n",
    "hidden_layer_2 = tf.keras.layers.Dense(30, activation='relu')\n",
    "\n",
    "concat_layer = tf.keras.layers.Concatenate()\n",
    "\n",
    "output_layer = tf.keras.layers.Dense(1)\n",
    "\n",
    "normalized_wide = norm_layer_wide(input_wide)\n",
    "\n",
    "normalized_deep = norm_layer_deep(input_deep)\n",
    "hidden1 = hidden_layer_1(normalized_deep)\n",
    "hidden2 = hidden_layer_2(hidden1)\n",
    "\n",
    "concat = concat_layer([normalized_wide, hidden2])\n",
    "\n",
    "output = output_layer(concat)\n",
    "\n",
    "model = tf.keras.Model(inputs=[input_wide, input_deep], outputs=[output])\n",
    "model.compile(loss='mse', optimizer='Adam', metrics=['RootMeanSquaredError'])\n",
    "\n",
    "model.summary()"
   ]
  },
  {
   "cell_type": "code",
   "execution_count": 41,
   "metadata": {},
   "outputs": [
    {
     "data": {
      "text/plain": [
       "[<InputLayer name=input_layer_11, built=True>,\n",
       " <Normalization name=normalization_9, built=True>,\n",
       " <InputLayer name=input_layer_10, built=True>,\n",
       " <Dense name=dense_21, built=True>,\n",
       " <Normalization name=normalization_8, built=True>,\n",
       " <Dense name=dense_22, built=True>,\n",
       " <Concatenate name=concatenate_7, built=True>,\n",
       " <Dense name=dense_23, built=True>]"
      ]
     },
     "execution_count": 41,
     "metadata": {},
     "output_type": "execute_result"
    }
   ],
   "source": [
    "model.layers"
   ]
  },
  {
   "cell_type": "code",
   "execution_count": 42,
   "metadata": {},
   "outputs": [
    {
     "data": {
      "text/plain": [
       "(12000, 5)"
      ]
     },
     "execution_count": 42,
     "metadata": {},
     "output_type": "execute_result"
    }
   ],
   "source": [
    "X_train_wide.shape"
   ]
  },
  {
   "cell_type": "code",
   "execution_count": 43,
   "metadata": {},
   "outputs": [
    {
     "data": {
      "text/plain": [
       "(12000, 6)"
      ]
     },
     "execution_count": 43,
     "metadata": {},
     "output_type": "execute_result"
    }
   ],
   "source": [
    "X_train_deep.shape"
   ]
  },
  {
   "cell_type": "code",
   "execution_count": 44,
   "metadata": {},
   "outputs": [
    {
     "name": "stdout",
     "output_type": "stream",
     "text": [
      "Epoch 1/30\n",
      "\u001b[1m375/375\u001b[0m \u001b[32m━━━━━━━━━━━━━━━━━━━━\u001b[0m\u001b[37m\u001b[0m \u001b[1m1s\u001b[0m 963us/step - RootMeanSquaredError: 236916.3125 - loss: 56130854912.0000 - val_RootMeanSquaredError: 236614.9844 - val_loss: 55986651136.0000\n",
      "Epoch 2/30\n",
      "\u001b[1m375/375\u001b[0m \u001b[32m━━━━━━━━━━━━━━━━━━━━\u001b[0m\u001b[37m\u001b[0m \u001b[1m0s\u001b[0m 706us/step - RootMeanSquaredError: 236170.0312 - loss: 55777824768.0000 - val_RootMeanSquaredError: 234084.5000 - val_loss: 54795550720.0000\n",
      "Epoch 3/30\n",
      "\u001b[1m375/375\u001b[0m \u001b[32m━━━━━━━━━━━━━━━━━━━━\u001b[0m\u001b[37m\u001b[0m \u001b[1m0s\u001b[0m 705us/step - RootMeanSquaredError: 232752.3750 - loss: 54175629312.0000 - val_RootMeanSquaredError: 227786.8906 - val_loss: 51886866432.0000\n",
      "Epoch 4/30\n",
      "\u001b[1m375/375\u001b[0m \u001b[32m━━━━━━━━━━━━━━━━━━━━\u001b[0m\u001b[37m\u001b[0m \u001b[1m0s\u001b[0m 756us/step - RootMeanSquaredError: 225361.0000 - loss: 50790760448.0000 - val_RootMeanSquaredError: 217200.5469 - val_loss: 47176077312.0000\n",
      "Epoch 5/30\n",
      "\u001b[1m375/375\u001b[0m \u001b[32m━━━━━━━━━━━━━━━━━━━━\u001b[0m\u001b[37m\u001b[0m \u001b[1m0s\u001b[0m 698us/step - RootMeanSquaredError: 213745.9844 - loss: 45692395520.0000 - val_RootMeanSquaredError: 202821.4688 - val_loss: 41136545792.0000\n",
      "Epoch 6/30\n",
      "\u001b[1m375/375\u001b[0m \u001b[32m━━━━━━━━━━━━━━━━━━━━\u001b[0m\u001b[37m\u001b[0m \u001b[1m0s\u001b[0m 696us/step - RootMeanSquaredError: 198668.2188 - loss: 39475843072.0000 - val_RootMeanSquaredError: 186055.5312 - val_loss: 34616659968.0000\n",
      "Epoch 7/30\n",
      "\u001b[1m375/375\u001b[0m \u001b[32m━━━━━━━━━━━━━━━━━━━━\u001b[0m\u001b[37m\u001b[0m \u001b[1m0s\u001b[0m 704us/step - RootMeanSquaredError: 181701.7344 - loss: 33023109120.0000 - val_RootMeanSquaredError: 168720.9375 - val_loss: 28466753536.0000\n",
      "Epoch 8/30\n",
      "\u001b[1m375/375\u001b[0m \u001b[32m━━━━━━━━━━━━━━━━━━━━\u001b[0m\u001b[37m\u001b[0m \u001b[1m0s\u001b[0m 713us/step - RootMeanSquaredError: 164646.6875 - loss: 27115894784.0000 - val_RootMeanSquaredError: 152475.1719 - val_loss: 23248676864.0000\n",
      "Epoch 9/30\n",
      "\u001b[1m375/375\u001b[0m \u001b[32m━━━━━━━━━━━━━━━━━━━━\u001b[0m\u001b[37m\u001b[0m \u001b[1m0s\u001b[0m 719us/step - RootMeanSquaredError: 149086.9375 - loss: 22233182208.0000 - val_RootMeanSquaredError: 138797.6875 - val_loss: 19264798720.0000\n",
      "Epoch 10/30\n",
      "\u001b[1m375/375\u001b[0m \u001b[32m━━━━━━━━━━━━━━━━━━━━\u001b[0m\u001b[37m\u001b[0m \u001b[1m0s\u001b[0m 732us/step - RootMeanSquaredError: 136403.1094 - loss: 18610520064.0000 - val_RootMeanSquaredError: 128700.5781 - val_loss: 16563837952.0000\n",
      "Epoch 11/30\n",
      "\u001b[1m375/375\u001b[0m \u001b[32m━━━━━━━━━━━━━━━━━━━━\u001b[0m\u001b[37m\u001b[0m \u001b[1m0s\u001b[0m 723us/step - RootMeanSquaredError: 127315.5781 - loss: 16212731904.0000 - val_RootMeanSquaredError: 122035.8516 - val_loss: 14892749824.0000\n",
      "Epoch 12/30\n",
      "\u001b[1m375/375\u001b[0m \u001b[32m━━━━━━━━━━━━━━━━━━━━\u001b[0m\u001b[37m\u001b[0m \u001b[1m0s\u001b[0m 726us/step - RootMeanSquaredError: 121355.6953 - loss: 14730131456.0000 - val_RootMeanSquaredError: 117636.1484 - val_loss: 13838263296.0000\n",
      "Epoch 13/30\n",
      "\u001b[1m375/375\u001b[0m \u001b[32m━━━━━━━━━━━━━━━━━━━━\u001b[0m\u001b[37m\u001b[0m \u001b[1m0s\u001b[0m 729us/step - RootMeanSquaredError: 117282.9922 - loss: 13758094336.0000 - val_RootMeanSquaredError: 114318.6172 - val_loss: 13068745728.0000\n",
      "Epoch 14/30\n",
      "\u001b[1m375/375\u001b[0m \u001b[32m━━━━━━━━━━━━━━━━━━━━\u001b[0m\u001b[37m\u001b[0m \u001b[1m0s\u001b[0m 711us/step - RootMeanSquaredError: 114064.3594 - loss: 13013443584.0000 - val_RootMeanSquaredError: 111450.7344 - val_loss: 12421265408.0000\n",
      "Epoch 15/30\n",
      "\u001b[1m375/375\u001b[0m \u001b[32m━━━━━━━━━━━━━━━━━━━━\u001b[0m\u001b[37m\u001b[0m \u001b[1m0s\u001b[0m 721us/step - RootMeanSquaredError: 111207.0000 - loss: 12369714176.0000 - val_RootMeanSquaredError: 108786.7969 - val_loss: 11834566656.0000\n",
      "Epoch 16/30\n",
      "\u001b[1m375/375\u001b[0m \u001b[32m━━━━━━━━━━━━━━━━━━━━\u001b[0m\u001b[37m\u001b[0m \u001b[1m0s\u001b[0m 723us/step - RootMeanSquaredError: 108534.6094 - loss: 11782400000.0000 - val_RootMeanSquaredError: 106231.2891 - val_loss: 11285087232.0000\n",
      "Epoch 17/30\n",
      "\u001b[1m375/375\u001b[0m \u001b[32m━━━━━━━━━━━━━━━━━━━━\u001b[0m\u001b[37m\u001b[0m \u001b[1m0s\u001b[0m 716us/step - RootMeanSquaredError: 105973.1641 - loss: 11232857088.0000 - val_RootMeanSquaredError: 103738.1875 - val_loss: 10761611264.0000\n",
      "Epoch 18/30\n",
      "\u001b[1m375/375\u001b[0m \u001b[32m━━━━━━━━━━━━━━━━━━━━\u001b[0m\u001b[37m\u001b[0m \u001b[1m0s\u001b[0m 718us/step - RootMeanSquaredError: 103472.7500 - loss: 10709039104.0000 - val_RootMeanSquaredError: 101283.6953 - val_loss: 10258386944.0000\n",
      "Epoch 19/30\n",
      "\u001b[1m375/375\u001b[0m \u001b[32m━━━━━━━━━━━━━━━━━━━━\u001b[0m\u001b[37m\u001b[0m \u001b[1m0s\u001b[0m 720us/step - RootMeanSquaredError: 101001.5781 - loss: 10203607040.0000 - val_RootMeanSquaredError: 98860.4062 - val_loss: 9773380608.0000\n",
      "Epoch 20/30\n",
      "\u001b[1m375/375\u001b[0m \u001b[32m━━━━━━━━━━━━━━━━━━━━\u001b[0m\u001b[37m\u001b[0m \u001b[1m0s\u001b[0m 699us/step - RootMeanSquaredError: 98568.6719 - loss: 9717910528.0000 - val_RootMeanSquaredError: 96485.3984 - val_loss: 9309432832.0000\n",
      "Epoch 21/30\n",
      "\u001b[1m375/375\u001b[0m \u001b[32m━━━━━━━━━━━━━━━━━━━━\u001b[0m\u001b[37m\u001b[0m \u001b[1m0s\u001b[0m 714us/step - RootMeanSquaredError: 96190.1719 - loss: 9254502400.0000 - val_RootMeanSquaredError: 94188.3672 - val_loss: 8871448576.0000\n",
      "Epoch 22/30\n",
      "\u001b[1m375/375\u001b[0m \u001b[32m━━━━━━━━━━━━━━━━━━━━\u001b[0m\u001b[37m\u001b[0m \u001b[1m0s\u001b[0m 738us/step - RootMeanSquaredError: 93900.0234 - loss: 8818989056.0000 - val_RootMeanSquaredError: 91976.3047 - val_loss: 8459640832.0000\n",
      "Epoch 23/30\n",
      "\u001b[1m375/375\u001b[0m \u001b[32m━━━━━━━━━━━━━━━━━━━━\u001b[0m\u001b[37m\u001b[0m \u001b[1m0s\u001b[0m 697us/step - RootMeanSquaredError: 91737.3984 - loss: 8417352704.0000 - val_RootMeanSquaredError: 89864.2266 - val_loss: 8075579392.0000\n",
      "Epoch 24/30\n",
      "\u001b[1m375/375\u001b[0m \u001b[32m━━━━━━━━━━━━━━━━━━━━\u001b[0m\u001b[37m\u001b[0m \u001b[1m0s\u001b[0m 728us/step - RootMeanSquaredError: 89702.5391 - loss: 8047986176.0000 - val_RootMeanSquaredError: 87857.2031 - val_loss: 7718887936.0000\n",
      "Epoch 25/30\n",
      "\u001b[1m375/375\u001b[0m \u001b[32m━━━━━━━━━━━━━━━━━━━━\u001b[0m\u001b[37m\u001b[0m \u001b[1m0s\u001b[0m 734us/step - RootMeanSquaredError: 87793.0703 - loss: 7708915712.0000 - val_RootMeanSquaredError: 85987.5859 - val_loss: 7393865216.0000\n",
      "Epoch 26/30\n",
      "\u001b[1m375/375\u001b[0m \u001b[32m━━━━━━━━━━━━━━━━━━━━\u001b[0m\u001b[37m\u001b[0m \u001b[1m0s\u001b[0m 726us/step - RootMeanSquaredError: 86023.1875 - loss: 7401146368.0000 - val_RootMeanSquaredError: 84248.7500 - val_loss: 7097851392.0000\n",
      "Epoch 27/30\n",
      "\u001b[1m375/375\u001b[0m \u001b[32m━━━━━━━━━━━━━━━━━━━━\u001b[0m\u001b[37m\u001b[0m \u001b[1m0s\u001b[0m 704us/step - RootMeanSquaredError: 84387.4141 - loss: 7122303488.0000 - val_RootMeanSquaredError: 82645.0234 - val_loss: 6830199296.0000\n",
      "Epoch 28/30\n",
      "\u001b[1m375/375\u001b[0m \u001b[32m━━━━━━━━━━━━━━━━━━━━\u001b[0m\u001b[37m\u001b[0m \u001b[1m0s\u001b[0m 714us/step - RootMeanSquaredError: 82896.3047 - loss: 6872814592.0000 - val_RootMeanSquaredError: 81194.3125 - val_loss: 6592516608.0000\n",
      "Epoch 29/30\n",
      "\u001b[1m375/375\u001b[0m \u001b[32m━━━━━━━━━━━━━━━━━━━━\u001b[0m\u001b[37m\u001b[0m \u001b[1m0s\u001b[0m 738us/step - RootMeanSquaredError: 81558.4141 - loss: 6652762624.0000 - val_RootMeanSquaredError: 79921.1094 - val_loss: 6387383296.0000\n",
      "Epoch 30/30\n",
      "\u001b[1m375/375\u001b[0m \u001b[32m━━━━━━━━━━━━━━━━━━━━\u001b[0m\u001b[37m\u001b[0m \u001b[1m0s\u001b[0m 718us/step - RootMeanSquaredError: 80408.5391 - loss: 6466505728.0000 - val_RootMeanSquaredError: 78873.2500 - val_loss: 6220989440.0000\n"
     ]
    }
   ],
   "source": [
    "X_train_wide, X_train_deep = X_train[:, :5], X_train[:, 2:]\n",
    "X_valid_wide, X_valid_deep = X_valid[:, :5], X_valid[:, 2:]\n",
    "\n",
    "norm_layer_wide.adapt(X_train_wide)\n",
    "norm_layer_deep.adapt(X_train_deep)\n",
    "\n",
    "X_train_joined = (X_train_wide, X_train_deep)\n",
    "X_valid_joined = (X_valid_wide, X_valid_deep)\n",
    "\n",
    "history = model.fit(X_train_joined, y_train, epochs=30, validation_data=(X_valid_joined, y_valid))"
   ]
  },
  {
   "cell_type": "code",
   "execution_count": 45,
   "metadata": {},
   "outputs": [
    {
     "data": {
      "text/html": [
       "<div>\n",
       "<style scoped>\n",
       "    .dataframe tbody tr th:only-of-type {\n",
       "        vertical-align: middle;\n",
       "    }\n",
       "\n",
       "    .dataframe tbody tr th {\n",
       "        vertical-align: top;\n",
       "    }\n",
       "\n",
       "    .dataframe thead th {\n",
       "        text-align: right;\n",
       "    }\n",
       "</style>\n",
       "<table border=\"1\" class=\"dataframe\">\n",
       "  <thead>\n",
       "    <tr style=\"text-align: right;\">\n",
       "      <th></th>\n",
       "      <th>RootMeanSquaredError</th>\n",
       "      <th>loss</th>\n",
       "      <th>val_RootMeanSquaredError</th>\n",
       "      <th>val_loss</th>\n",
       "    </tr>\n",
       "  </thead>\n",
       "  <tbody>\n",
       "    <tr>\n",
       "      <th>0</th>\n",
       "      <td>236545.796875</td>\n",
       "      <td>5.595392e+10</td>\n",
       "      <td>236614.984375</td>\n",
       "      <td>5.598665e+10</td>\n",
       "    </tr>\n",
       "    <tr>\n",
       "      <th>1</th>\n",
       "      <td>235290.843750</td>\n",
       "      <td>5.536178e+10</td>\n",
       "      <td>234084.500000</td>\n",
       "      <td>5.479555e+10</td>\n",
       "    </tr>\n",
       "    <tr>\n",
       "      <th>2</th>\n",
       "      <td>230974.562500</td>\n",
       "      <td>5.334925e+10</td>\n",
       "      <td>227786.890625</td>\n",
       "      <td>5.188687e+10</td>\n",
       "    </tr>\n",
       "    <tr>\n",
       "      <th>3</th>\n",
       "      <td>222555.500000</td>\n",
       "      <td>4.953095e+10</td>\n",
       "      <td>217200.546875</td>\n",
       "      <td>4.717608e+10</td>\n",
       "    </tr>\n",
       "    <tr>\n",
       "      <th>4</th>\n",
       "      <td>210019.765625</td>\n",
       "      <td>4.410830e+10</td>\n",
       "      <td>202821.468750</td>\n",
       "      <td>4.113655e+10</td>\n",
       "    </tr>\n",
       "    <tr>\n",
       "      <th>5</th>\n",
       "      <td>194326.140625</td>\n",
       "      <td>3.776265e+10</td>\n",
       "      <td>186055.531250</td>\n",
       "      <td>3.461666e+10</td>\n",
       "    </tr>\n",
       "    <tr>\n",
       "      <th>6</th>\n",
       "      <td>177129.265625</td>\n",
       "      <td>3.137478e+10</td>\n",
       "      <td>168720.937500</td>\n",
       "      <td>2.846675e+10</td>\n",
       "    </tr>\n",
       "    <tr>\n",
       "      <th>7</th>\n",
       "      <td>160189.359375</td>\n",
       "      <td>2.566063e+10</td>\n",
       "      <td>152475.171875</td>\n",
       "      <td>2.324868e+10</td>\n",
       "    </tr>\n",
       "    <tr>\n",
       "      <th>8</th>\n",
       "      <td>145084.296875</td>\n",
       "      <td>2.104945e+10</td>\n",
       "      <td>138797.687500</td>\n",
       "      <td>1.926480e+10</td>\n",
       "    </tr>\n",
       "    <tr>\n",
       "      <th>9</th>\n",
       "      <td>133138.984375</td>\n",
       "      <td>1.772599e+10</td>\n",
       "      <td>128700.578125</td>\n",
       "      <td>1.656384e+10</td>\n",
       "    </tr>\n",
       "    <tr>\n",
       "      <th>10</th>\n",
       "      <td>124836.445312</td>\n",
       "      <td>1.558414e+10</td>\n",
       "      <td>122035.851562</td>\n",
       "      <td>1.489275e+10</td>\n",
       "    </tr>\n",
       "    <tr>\n",
       "      <th>11</th>\n",
       "      <td>119448.742188</td>\n",
       "      <td>1.426800e+10</td>\n",
       "      <td>117636.148438</td>\n",
       "      <td>1.383826e+10</td>\n",
       "    </tr>\n",
       "    <tr>\n",
       "      <th>12</th>\n",
       "      <td>115693.687500</td>\n",
       "      <td>1.338503e+10</td>\n",
       "      <td>114318.617188</td>\n",
       "      <td>1.306875e+10</td>\n",
       "    </tr>\n",
       "    <tr>\n",
       "      <th>13</th>\n",
       "      <td>112651.742188</td>\n",
       "      <td>1.269041e+10</td>\n",
       "      <td>111450.734375</td>\n",
       "      <td>1.242127e+10</td>\n",
       "    </tr>\n",
       "    <tr>\n",
       "      <th>14</th>\n",
       "      <td>109915.929688</td>\n",
       "      <td>1.208151e+10</td>\n",
       "      <td>108786.796875</td>\n",
       "      <td>1.183457e+10</td>\n",
       "    </tr>\n",
       "    <tr>\n",
       "      <th>15</th>\n",
       "      <td>107342.531250</td>\n",
       "      <td>1.152242e+10</td>\n",
       "      <td>106231.289062</td>\n",
       "      <td>1.128509e+10</td>\n",
       "    </tr>\n",
       "    <tr>\n",
       "      <th>16</th>\n",
       "      <td>104859.132812</td>\n",
       "      <td>1.099544e+10</td>\n",
       "      <td>103738.187500</td>\n",
       "      <td>1.076161e+10</td>\n",
       "    </tr>\n",
       "    <tr>\n",
       "      <th>17</th>\n",
       "      <td>102424.242188</td>\n",
       "      <td>1.049073e+10</td>\n",
       "      <td>101283.695312</td>\n",
       "      <td>1.025839e+10</td>\n",
       "    </tr>\n",
       "    <tr>\n",
       "      <th>18</th>\n",
       "      <td>100016.179688</td>\n",
       "      <td>1.000324e+10</td>\n",
       "      <td>98860.406250</td>\n",
       "      <td>9.773381e+09</td>\n",
       "    </tr>\n",
       "    <tr>\n",
       "      <th>19</th>\n",
       "      <td>97646.234375</td>\n",
       "      <td>9.534787e+09</td>\n",
       "      <td>96485.398438</td>\n",
       "      <td>9.309433e+09</td>\n",
       "    </tr>\n",
       "    <tr>\n",
       "      <th>20</th>\n",
       "      <td>95334.851562</td>\n",
       "      <td>9.088734e+09</td>\n",
       "      <td>94188.367188</td>\n",
       "      <td>8.871449e+09</td>\n",
       "    </tr>\n",
       "    <tr>\n",
       "      <th>21</th>\n",
       "      <td>93116.734375</td>\n",
       "      <td>8.670726e+09</td>\n",
       "      <td>91976.304688</td>\n",
       "      <td>8.459641e+09</td>\n",
       "    </tr>\n",
       "    <tr>\n",
       "      <th>22</th>\n",
       "      <td>91026.046875</td>\n",
       "      <td>8.285741e+09</td>\n",
       "      <td>89864.226562</td>\n",
       "      <td>8.075579e+09</td>\n",
       "    </tr>\n",
       "    <tr>\n",
       "      <th>23</th>\n",
       "      <td>89062.609375</td>\n",
       "      <td>7.932148e+09</td>\n",
       "      <td>87857.203125</td>\n",
       "      <td>7.718888e+09</td>\n",
       "    </tr>\n",
       "    <tr>\n",
       "      <th>24</th>\n",
       "      <td>87235.273438</td>\n",
       "      <td>7.609993e+09</td>\n",
       "      <td>85987.585938</td>\n",
       "      <td>7.393865e+09</td>\n",
       "    </tr>\n",
       "    <tr>\n",
       "      <th>25</th>\n",
       "      <td>85552.140625</td>\n",
       "      <td>7.319169e+09</td>\n",
       "      <td>84248.750000</td>\n",
       "      <td>7.097851e+09</td>\n",
       "    </tr>\n",
       "    <tr>\n",
       "      <th>26</th>\n",
       "      <td>84008.039062</td>\n",
       "      <td>7.057351e+09</td>\n",
       "      <td>82645.023438</td>\n",
       "      <td>6.830199e+09</td>\n",
       "    </tr>\n",
       "    <tr>\n",
       "      <th>27</th>\n",
       "      <td>82607.593750</td>\n",
       "      <td>6.824014e+09</td>\n",
       "      <td>81194.312500</td>\n",
       "      <td>6.592517e+09</td>\n",
       "    </tr>\n",
       "    <tr>\n",
       "      <th>28</th>\n",
       "      <td>81361.179688</td>\n",
       "      <td>6.619641e+09</td>\n",
       "      <td>79921.109375</td>\n",
       "      <td>6.387383e+09</td>\n",
       "    </tr>\n",
       "    <tr>\n",
       "      <th>29</th>\n",
       "      <td>80303.804688</td>\n",
       "      <td>6.448701e+09</td>\n",
       "      <td>78873.250000</td>\n",
       "      <td>6.220989e+09</td>\n",
       "    </tr>\n",
       "  </tbody>\n",
       "</table>\n",
       "</div>"
      ],
      "text/plain": [
       "    RootMeanSquaredError          loss  val_RootMeanSquaredError      val_loss\n",
       "0          236545.796875  5.595392e+10             236614.984375  5.598665e+10\n",
       "1          235290.843750  5.536178e+10             234084.500000  5.479555e+10\n",
       "2          230974.562500  5.334925e+10             227786.890625  5.188687e+10\n",
       "3          222555.500000  4.953095e+10             217200.546875  4.717608e+10\n",
       "4          210019.765625  4.410830e+10             202821.468750  4.113655e+10\n",
       "5          194326.140625  3.776265e+10             186055.531250  3.461666e+10\n",
       "6          177129.265625  3.137478e+10             168720.937500  2.846675e+10\n",
       "7          160189.359375  2.566063e+10             152475.171875  2.324868e+10\n",
       "8          145084.296875  2.104945e+10             138797.687500  1.926480e+10\n",
       "9          133138.984375  1.772599e+10             128700.578125  1.656384e+10\n",
       "10         124836.445312  1.558414e+10             122035.851562  1.489275e+10\n",
       "11         119448.742188  1.426800e+10             117636.148438  1.383826e+10\n",
       "12         115693.687500  1.338503e+10             114318.617188  1.306875e+10\n",
       "13         112651.742188  1.269041e+10             111450.734375  1.242127e+10\n",
       "14         109915.929688  1.208151e+10             108786.796875  1.183457e+10\n",
       "15         107342.531250  1.152242e+10             106231.289062  1.128509e+10\n",
       "16         104859.132812  1.099544e+10             103738.187500  1.076161e+10\n",
       "17         102424.242188  1.049073e+10             101283.695312  1.025839e+10\n",
       "18         100016.179688  1.000324e+10              98860.406250  9.773381e+09\n",
       "19          97646.234375  9.534787e+09              96485.398438  9.309433e+09\n",
       "20          95334.851562  9.088734e+09              94188.367188  8.871449e+09\n",
       "21          93116.734375  8.670726e+09              91976.304688  8.459641e+09\n",
       "22          91026.046875  8.285741e+09              89864.226562  8.075579e+09\n",
       "23          89062.609375  7.932148e+09              87857.203125  7.718888e+09\n",
       "24          87235.273438  7.609993e+09              85987.585938  7.393865e+09\n",
       "25          85552.140625  7.319169e+09              84248.750000  7.097851e+09\n",
       "26          84008.039062  7.057351e+09              82645.023438  6.830199e+09\n",
       "27          82607.593750  6.824014e+09              81194.312500  6.592517e+09\n",
       "28          81361.179688  6.619641e+09              79921.109375  6.387383e+09\n",
       "29          80303.804688  6.448701e+09              78873.250000  6.220989e+09"
      ]
     },
     "execution_count": 45,
     "metadata": {},
     "output_type": "execute_result"
    }
   ],
   "source": [
    "history_df = pd.DataFrame(history.history)\n",
    "history_df"
   ]
  },
  {
   "cell_type": "code",
   "execution_count": 46,
   "metadata": {},
   "outputs": [
    {
     "data": {
      "image/png": "[encoded data removed]",
      "text/plain": [
       "<Figure size 800x500 with 1 Axes>"
      ]
     },
     "metadata": {},
     "output_type": "display_data"
    }
   ],
   "source": [
    "history_df.plot(\n",
    "    figsize=(8, 5),\n",
    "    xlim=[0, 29],\n",
    "    grid=True,\n",
    "    xlabel=\"Epoch\",\n",
    "    style=[\"r--\", \"r--.\", \"b-\", \"b--.\"],\n",
    ")\n",
    "plt.show()"
   ]
  },
  {
   "cell_type": "code",
   "execution_count": 47,
   "metadata": {},
   "outputs": [
    {
     "name": "stdout",
     "output_type": "stream",
     "text": [
      "\u001b[1m129/129\u001b[0m \u001b[32m━━━━━━━━━━━━━━━━━━━━\u001b[0m\u001b[37m\u001b[0m \u001b[1m0s\u001b[0m 432us/step - RootMeanSquaredError: 82575.7031 - loss: 6826023424.0000\n"
     ]
    },
    {
     "data": {
      "text/plain": [
       "[6683158528.0, 81750.5859375]"
      ]
     },
     "execution_count": 47,
     "metadata": {},
     "output_type": "execute_result"
    }
   ],
   "source": [
    "X_test_wide, X_test_deep = X_test[:, :5], X_test[:, 2:]\n",
    "X_test_joined = (X_test_wide, X_test_deep)\n",
    "model.evaluate(X_test_joined, y_test)"
   ]
  }
 ],
 "metadata": {
  "kernelspec": {
   "display_name": "classifier-using-keras-api",
   "language": "python",
   "name": "python3"
  },
  "language_info": {
   "codemirror_mode": {
    "name": "ipython",
    "version": 3
   },
   "file_extension": ".py",
   "mimetype": "text/x-python",
   "name": "python",
   "nbconvert_exporter": "python",
   "pygments_lexer": "ipython3",
   "version": "3.9.19"
  }
 },
 "nbformat": 4,
 "nbformat_minor": 2
}
